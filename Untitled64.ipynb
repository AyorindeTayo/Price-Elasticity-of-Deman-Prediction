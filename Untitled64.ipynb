{
  "nbformat": 4,
  "nbformat_minor": 0,
  "metadata": {
    "colab": {
      "name": "Untitled64.ipynb",
      "provenance": [],
      "authorship_tag": "ABX9TyOoLQxTpzdErkoHknr9SO2l",
      "include_colab_link": true
    },
    "kernelspec": {
      "name": "python3",
      "display_name": "Python 3"
    },
    "language_info": {
      "name": "python"
    }
  },
  "cells": [
    {
      "cell_type": "markdown",
      "metadata": {
        "id": "view-in-github",
        "colab_type": "text"
      },
      "source": [
        "<a href=\"https://colab.research.google.com/github/AyorindeTayo/Price-Elasticity-of-Deman-Prediction/blob/main/Untitled64.ipynb\" target=\"_parent\"><img src=\"https://colab.research.google.com/assets/colab-badge.svg\" alt=\"Open In Colab\"/></a>"
      ]
    },
    {
      "cell_type": "code",
      "execution_count": 3,
      "metadata": {
        "colab": {
          "resources": {
            "http://localhost:8080/nbextensions/google.colab/files.js": {
              "data": "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",
              "ok": true,
              "headers": [
                [
                  "content-type",
                  "application/javascript"
                ]
              ],
              "status": 200,
              "status_text": ""
            }
          },
          "base_uri": "https://localhost:8080/",
          "height": 1000
        },
        "id": "Xx762BvXj1Z6",
        "outputId": "b005d9da-d59b-4d0a-ff98-946c52ba4798"
      },
      "outputs": [
        {
          "output_type": "display_data",
          "data": {
            "text/plain": [
              "<IPython.core.display.HTML object>"
            ],
            "text/html": [
              "\n",
              "     <input type=\"file\" id=\"files-1d06a0ac-7a0e-4d5c-a4ac-6fdbd06db485\" name=\"files[]\" multiple disabled\n",
              "        style=\"border:none\" />\n",
              "     <output id=\"result-1d06a0ac-7a0e-4d5c-a4ac-6fdbd06db485\">\n",
              "      Upload widget is only available when the cell has been executed in the\n",
              "      current browser session. Please rerun this cell to enable.\n",
              "      </output>\n",
              "      <script src=\"/nbextensions/google.colab/files.js\"></script> "
            ]
          },
          "metadata": {}
        },
        {
          "output_type": "stream",
          "name": "stdout",
          "text": [
            "Saving data (2).xlsx to data (2) (2).xlsx\n"
          ]
        },
        {
          "output_type": "execute_result",
          "data": {
            "text/plain": [
              "{'data (2).xlsx': b'PK\\x03\\x04\\x14\\x00\\x06\\x00\\x08\\x00\\x00\\x00!\\x00b\\xee\\x9dh^\\x01\\x00\\x00\\x90\\x04\\x00\\x00\\x13\\x00\\x08\\x02[Content_Types].xml \\xa2\\x04\\x02(\\xa0\\x00\\x02\\x00\\x00\\x00\\x00\\x00\\x00\\x00\\x00\\x00\\x00\\x00\\x00\\x00\\x00\\x00\\x00\\x00\\x00\\x00\\x00\\x00\\x00\\x00\\x00\\x00\\x00\\x00\\x00\\x00\\x00\\x00\\x00\\x00\\x00\\x00\\x00\\x00\\x00\\x00\\x00\\x00\\x00\\x00\\x00\\x00\\x00\\x00\\x00\\x00\\x00\\x00\\x00\\x00\\x00\\x00\\x00\\x00\\x00\\x00\\x00\\x00\\x00\\x00\\x00\\x00\\x00\\x00\\x00\\x00\\x00\\x00\\x00\\x00\\x00\\x00\\x00\\x00\\x00\\x00\\x00\\x00\\x00\\x00\\x00\\x00\\x00\\x00\\x00\\x00\\x00\\x00\\x00\\x00\\x00\\x00\\x00\\x00\\x00\\x00\\x00\\x00\\x00\\x00\\x00\\x00\\x00\\x00\\x00\\x00\\x00\\x00\\x00\\x00\\x00\\x00\\x00\\x00\\x00\\x00\\x00\\x00\\x00\\x00\\x00\\x00\\x00\\x00\\x00\\x00\\x00\\x00\\x00\\x00\\x00\\x00\\x00\\x00\\x00\\x00\\x00\\x00\\x00\\x00\\x00\\x00\\x00\\x00\\x00\\x00\\x00\\x00\\x00\\x00\\x00\\x00\\x00\\x00\\x00\\x00\\x00\\x00\\x00\\x00\\x00\\x00\\x00\\x00\\x00\\x00\\x00\\x00\\x00\\x00\\x00\\x00\\x00\\x00\\x00\\x00\\x00\\x00\\x00\\x00\\x00\\x00\\x00\\x00\\x00\\x00\\x00\\x00\\x00\\x00\\x00\\x00\\x00\\x00\\x00\\x00\\x00\\x00\\x00\\x00\\x00\\x00\\x00\\x00\\x00\\x00\\x00\\x00\\x00\\x00\\x00\\x00\\x00\\x00\\x00\\x00\\x00\\x00\\x00\\x00\\x00\\x00\\x00\\x00\\x00\\x00\\x00\\x00\\x00\\x00\\x00\\x00\\x00\\x00\\x00\\x00\\x00\\x00\\x00\\x00\\x00\\x00\\x00\\x00\\x00\\x00\\x00\\x00\\x00\\x00\\x00\\x00\\x00\\x00\\x00\\x00\\x00\\x00\\x00\\x00\\x00\\x00\\x00\\x00\\x00\\x00\\x00\\x00\\x00\\x00\\x00\\x00\\x00\\x00\\x00\\x00\\x00\\x00\\x00\\x00\\x00\\x00\\x00\\x00\\x00\\x00\\x00\\x00\\x00\\x00\\x00\\x00\\x00\\x00\\x00\\x00\\x00\\x00\\x00\\x00\\x00\\x00\\x00\\x00\\x00\\x00\\x00\\x00\\x00\\x00\\x00\\x00\\x00\\x00\\x00\\x00\\x00\\x00\\x00\\x00\\x00\\x00\\x00\\x00\\x00\\x00\\x00\\x00\\x00\\x00\\x00\\x00\\x00\\x00\\x00\\x00\\x00\\x00\\x00\\x00\\x00\\x00\\x00\\x00\\x00\\x00\\x00\\x00\\x00\\x00\\x00\\x00\\x00\\x00\\x00\\x00\\x00\\x00\\x00\\x00\\x00\\x00\\x00\\x00\\x00\\x00\\x00\\x00\\x00\\x00\\x00\\x00\\x00\\x00\\x00\\x00\\x00\\x00\\x00\\x00\\x00\\x00\\x00\\x00\\x00\\x00\\x00\\x00\\x00\\x00\\x00\\x00\\x00\\x00\\x00\\x00\\x00\\x00\\x00\\x00\\x00\\x00\\x00\\x00\\x00\\x00\\x00\\x00\\x00\\x00\\x00\\x00\\x00\\x00\\x00\\x00\\x00\\x00\\x00\\x00\\x00\\x00\\x00\\x00\\x00\\x00\\x00\\x00\\x00\\x00\\x00\\x00\\x00\\x00\\x00\\x00\\x00\\x00\\x00\\x00\\x00\\x00\\x00\\x00\\x00\\x00\\x00\\x00\\x00\\x00\\x00\\x00\\x00\\x00\\x00\\x00\\x00\\x00\\x00\\x00\\x00\\x00\\x00\\x00\\x00\\x00\\x00\\x00\\x00\\x00\\x00\\x00\\x00\\x00\\x00\\x00\\x00\\x00\\x00\\x00\\x00\\x00\\x00\\x00\\x00\\x00\\x00\\x00\\x00\\x00\\x00\\x00\\x00\\x00\\x00\\x00\\x00\\x00\\x00\\x00\\x00\\x00\\x00\\x00\\x00\\x00\\x00\\x00\\x00\\xac\\x94\\xcbN\\xc30\\x10E\\xf7H\\xfcC\\xe4-J\\xdc\\xb2@\\x085\\xed\\x82\\xc7\\x12*Q>\\xc0\\xc4\\x93\\xc6\\xaac[\\x9eii\\xff\\x9e\\x89\\xfb\\x10B\\xa1\\x15j7\\xb1\\x12\\xcf\\xdc{2\\xf1\\xcdh\\xb2nm\\xb6\\x82\\x88\\xc6\\xbbR\\x0c\\x8b\\x81\\xc8\\xc0U^\\x1b7/\\xc5\\xc7\\xec%\\xbf\\x17\\x19\\x92rZY\\xef\\xa0\\x14\\x1b@1\\x19__\\x8df\\x9b\\x00\\x98q\\xb7\\xc3R4D\\xe1AJ\\xac\\x1ah\\x15\\x16>\\x80\\xe3\\x9d\\xda\\xc7V\\x11\\xdf\\xc6\\xb9\\x0c\\xaaZ\\xa89\\xc8\\xdb\\xc1\\xe0NV\\xde\\x118\\xca\\xa9\\xd3\\x10\\xe3\\xd1\\x13\\xd4ji){^\\xf3\\xe3-I\\x04\\x8b\"{\\xdc\\x16v^\\xa5P!XS)bR\\xb9r\\xfa\\x97K\\xbes(\\xb83\\xd5`c\\x02\\xde0\\x86\\x90\\xbd\\x0e\\xdd\\xce\\xdf\\x06\\xbb\\xbe7\\x1eM4\\x1a\\xb2\\xa9\\x8a\\xf4\\xaaZ\\xc6\\x90k+\\xbf|\\\\|z\\xbf(\\x8e\\x8b\\xf4P\\xfa\\xba6\\x15h_-[\\x9e@\\x81!\\x82\\xd2\\xd8\\x00Pk\\x8b\\xb4\\x16\\xad2n\\xcf}\\xc4?\\x15\\xa3L\\xcb\\xf0\\xc2 \\xdd\\xfb%\\xe1\\x13\\x1c\\xc4\\xdf\\x1bd\\xba\\x9e\\x8f\\x90dN\\x18\"m,\\xe0\\xa5\\xc7\\x9eDO97*\\x82~\\xa7\\xc8\\xc9\\xb88\\xc0O\\xedc\\x1c|n\\xa6\\xd1\\x07\\xe4\\x04E\\xf8\\xff\\x14\\xf6\\x11\\xe9\\xba\\xf3\\xc0B\\x10\\xc9\\xc0!$}\\x87\\xed\\xe0\\xc8\\xe9;{\\xec\\xd0\\xe5[\\x83\\xee\\xf1\\x96\\xe9\\x7f2\\xfe\\x06\\x00\\x00\\xff\\xff\\x03\\x00PK\\x03\\x04\\x14\\x00\\x06\\x00\\x08\\x00\\x00\\x00!\\x00\\xb5U0#\\xf4\\x00\\x00\\x00L\\x02\\x00\\x00\\x0b\\x00\\x08\\x02_rels/.rels \\xa2\\x04\\x02(\\xa0\\x00\\x02\\x00\\x00\\x00\\x00\\x00\\x00\\x00\\x00\\x00\\x00\\x00\\x00\\x00\\x00\\x00\\x00\\x00\\x00\\x00\\x00\\x00\\x00\\x00\\x00\\x00\\x00\\x00\\x00\\x00\\x00\\x00\\x00\\x00\\x00\\x00\\x00\\x00\\x00\\x00\\x00\\x00\\x00\\x00\\x00\\x00\\x00\\x00\\x00\\x00\\x00\\x00\\x00\\x00\\x00\\x00\\x00\\x00\\x00\\x00\\x00\\x00\\x00\\x00\\x00\\x00\\x00\\x00\\x00\\x00\\x00\\x00\\x00\\x00\\x00\\x00\\x00\\x00\\x00\\x00\\x00\\x00\\x00\\x00\\x00\\x00\\x00\\x00\\x00\\x00\\x00\\x00\\x00\\x00\\x00\\x00\\x00\\x00\\x00\\x00\\x00\\x00\\x00\\x00\\x00\\x00\\x00\\x00\\x00\\x00\\x00\\x00\\x00\\x00\\x00\\x00\\x00\\x00\\x00\\x00\\x00\\x00\\x00\\x00\\x00\\x00\\x00\\x00\\x00\\x00\\x00\\x00\\x00\\x00\\x00\\x00\\x00\\x00\\x00\\x00\\x00\\x00\\x00\\x00\\x00\\x00\\x00\\x00\\x00\\x00\\x00\\x00\\x00\\x00\\x00\\x00\\x00\\x00\\x00\\x00\\x00\\x00\\x00\\x00\\x00\\x00\\x00\\x00\\x00\\x00\\x00\\x00\\x00\\x00\\x00\\x00\\x00\\x00\\x00\\x00\\x00\\x00\\x00\\x00\\x00\\x00\\x00\\x00\\x00\\x00\\x00\\x00\\x00\\x00\\x00\\x00\\x00\\x00\\x00\\x00\\x00\\x00\\x00\\x00\\x00\\x00\\x00\\x00\\x00\\x00\\x00\\x00\\x00\\x00\\x00\\x00\\x00\\x00\\x00\\x00\\x00\\x00\\x00\\x00\\x00\\x00\\x00\\x00\\x00\\x00\\x00\\x00\\x00\\x00\\x00\\x00\\x00\\x00\\x00\\x00\\x00\\x00\\x00\\x00\\x00\\x00\\x00\\x00\\x00\\x00\\x00\\x00\\x00\\x00\\x00\\x00\\x00\\x00\\x00\\x00\\x00\\x00\\x00\\x00\\x00\\x00\\x00\\x00\\x00\\x00\\x00\\x00\\x00\\x00\\x00\\x00\\x00\\x00\\x00\\x00\\x00\\x00\\x00\\x00\\x00\\x00\\x00\\x00\\x00\\x00\\x00\\x00\\x00\\x00\\x00\\x00\\x00\\x00\\x00\\x00\\x00\\x00\\x00\\x00\\x00\\x00\\x00\\x00\\x00\\x00\\x00\\x00\\x00\\x00\\x00\\x00\\x00\\x00\\x00\\x00\\x00\\x00\\x00\\x00\\x00\\x00\\x00\\x00\\x00\\x00\\x00\\x00\\x00\\x00\\x00\\x00\\x00\\x00\\x00\\x00\\x00\\x00\\x00\\x00\\x00\\x00\\x00\\x00\\x00\\x00\\x00\\x00\\x00\\x00\\x00\\x00\\x00\\x00\\x00\\x00\\x00\\x00\\x00\\x00\\x00\\x00\\x00\\x00\\x00\\x00\\x00\\x00\\x00\\x00\\x00\\x00\\x00\\x00\\x00\\x00\\x00\\x00\\x00\\x00\\x00\\x00\\x00\\x00\\x00\\x00\\x00\\x00\\x00\\x00\\x00\\x00\\x00\\x00\\x00\\x00\\x00\\x00\\x00\\x00\\x00\\x00\\x00\\x00\\x00\\x00\\x00\\x00\\x00\\x00\\x00\\x00\\x00\\x00\\x00\\x00\\x00\\x00\\x00\\x00\\x00\\x00\\x00\\x00\\x00\\x00\\x00\\x00\\x00\\x00\\x00\\x00\\x00\\x00\\x00\\x00\\x00\\x00\\x00\\x00\\x00\\x00\\x00\\x00\\x00\\x00\\x00\\x00\\x00\\x00\\x00\\x00\\x00\\x00\\x00\\x00\\x00\\x00\\x00\\x00\\x00\\x00\\x00\\x00\\x00\\x00\\x00\\x00\\x00\\x00\\x00\\x00\\x00\\x00\\x00\\x00\\x00\\x00\\x00\\x00\\x00\\x00\\x00\\x00\\x00\\x00\\x00\\x00\\x00\\x00\\x00\\x00\\x00\\x00\\x00\\x00\\x00\\x00\\x00\\x00\\x00\\x00\\x00\\x00\\x00\\x00\\x00\\x00\\x00\\xac\\x92MO\\xc30\\x0c\\x86\\xefH\\xfc\\x87\\xc8\\xf7\\xd5\\xdd\\x90\\x10BKwAH\\xbb!T~\\x80I\\xdc\\x0f\\xb5\\x8d\\xa3$\\x1b\\xdd\\xbf\\'\\x1c\\x10T\\x1a\\x83\\x03G\\x7f\\xbd~\\xfc\\xca\\xdb\\xdd<\\x8d\\xea\\xc8!\\xf6\\xe24\\xac\\x8b\\x12\\x14;#\\xb6w\\xad\\x86\\x97\\xfaqu\\x07*&r\\x96Fq\\xac\\xe1\\xc4\\x11v\\xd5\\xf5\\xd5\\xf6\\x99GJy(v\\xbd\\x8f*\\xab\\xb8\\xa8\\xa1K\\xc9\\xdf#F\\xd3\\xf1D\\xb1\\x10\\xcf.W\\x1a\\t\\x13\\xa5\\x1c\\x86\\x16=\\x99\\x81Z\\xc6MY\\xdeb\\xf8\\xae\\x01\\xd5BS\\xed\\xad\\x86\\xb0\\xb77\\xa0\\xea\\x93\\xcf\\x9b\\x7f\\xd7\\x96\\xa6\\xe9\\r?\\x889L\\xec\\xd2\\x99\\x15\\xc8sbg\\xd9\\xae|\\xc8l!\\xf5\\xf9\\x1aUSh9i\\xb0b\\x9er:\"y_dl\\xc0\\xf3D\\x9b\\xbf\\x13\\xfd|-N\\x9c\\xc8R\"4\\x12\\xf82\\xcfG\\xc7%\\xa0\\xf5\\x7fZ\\xb44\\xf1\\xcb\\x9dy\\xc47\\t\\xc3\\xab\\xc8\\xf0\\xc9\\x82\\x8b\\x1f\\xa8\\xde\\x01\\x00\\x00\\xff\\xff\\x03\\x00PK\\x03\\x04\\x14\\x00\\x06\\x00\\x08\\x00\\x00\\x00!\\x00\\x1eH\\x11\\x18\\x8b\\x02\\x00\\x00\\xf8\\x05\\x00\\x00\\x0f\\x00\\x00\\x00xl/workbook.xml\\xa4T]o\\x9b0\\x14}\\x9f\\xb4\\xff`\\xf9\\x9d\\xf2\\xd1\\x90D\\xa8\\xa4\"d\\xd5\"mS\\xb4\\xae\\xedK\\xa4\\xc9\\x01\\'x16\\xb3M>T\\xf5\\xbf\\xef\\x1aB\\xda4/]\\x8b\\xc0\\xf6\\xe5\\xc2\\xf1\\xb9\\xf7\\x1e\\xdf\\xab\\xeb]\\xc9\\xd1\\x86*\\xcd\\xa4\\x88\\xb1\\x7f\\xe1aDE&s&V1\\xbe\\xfbu\\xe3\\x0c1\\xd2\\x86\\x88\\x9cp)h\\x8c\\xf7T\\xe3\\xeb\\xd1\\xe7OW[\\xa9\\xd6\\x0b)\\xd7\\x08\\x00\\x84\\x8eqaL\\x15\\xb9\\xae\\xce\\nZ\\x12}!+*\\xc0\\xb3\\x94\\xaa$\\x06L\\xb5ru\\xa5(\\xc9uA\\xa9)\\xb9\\x1bx^\\xdf-\\t\\x13\\xb8E\\x88\\xd4[0\\xe4r\\xc92:\\x91Y]RaZ\\x10E91@_\\x17\\xac\\xd2\\x1dZ\\x99\\xbd\\x05\\xae$j]WN&\\xcb\\n \\x16\\x8c3\\xb3o@1*\\xb3h\\xba\\x12R\\x91\\x05\\x87\\xb0w~\\x88v\\n\\xee><\\xbe\\x07C\\xd0\\xed\\x04\\xae\\xb3\\xadJ\\x96)\\xa9\\xe5\\xd2\\\\\\x00\\xb4\\xdb\\x92>\\x8b\\xdf\\xf7\\\\\\xdf?I\\xc1\\xee<\\x07oC\\xea\\xb9\\x8an\\x98\\xad\\xe1\\x91\\x95\\xea\\xbf\\x93U\\xff\\x88\\xd5\\x7f\\x06\\xf3\\xbd\\x0f\\xa3\\xf9 \\xadF+\\x11$\\xef\\x9dh\\xe1\\x91[\\x80GWK\\xc6\\xe9}+]D\\xaa\\xea\\x07)m\\xa58F\\x9ch\\xf3%g\\x86\\xe61\\x1e\\x80)\\xb7\\xf4\\xe4\\x85\\xaa\\xabq\\xcd8x\\x830\\x08B\\xec\\x8e\\x8er\\x9e)0\\xa0\\xf6\\t7T\\tbh*\\x85\\x01\\xa9\\x1d\\xa8\\x7fTV\\rvZH\\x101\\xfaI\\xff\\xd6LQ8; !\\x08\\x07F\\x92Ed\\xa1g\\xc4\\x14\\xa8V<\\xc6i4\\xbf\\xd3\\x10\\xe1\\\\r\"\\xd8|B\\xf5\\xda\\xc8j>\\x05Jj\\xc3\\xe8\\x16\\xfd\\x91\\x8b\\xf9\\x0b!\\x92s\\xd5\\xff\\x87\\x14If3\\xe1B\\xf4-\\xc3v\\xfd:\\x13@TE\\x9d\\xdcfF!XO\\'\\xdf \\xe5\\xb7d\\x03\\x05\\x802\\xe7\\x87\\xf39\\x85\\x0c\\x0f\\x7f?&^\\x7f\\x90$\\x89\\xe7\\x0c\\xc7\\xe3\\xb1\\xd3\\xeb\\xa5=g\\x98\\x86\\x97\\xcee\\x92za\\x1a\\xf6\\x92p\\x90<A\\x14\\xaa\\x1fe\\x92\\xd4\\xa68\\x14\\xd5b\\xc6\\xb8\\x07\\x15<s}\\'\\xbb\\xce\\xe3{Q\\xcd\\xf2\\xe7\\xfd\\x1f\\xbd\\xc3\\xe5\\xd8\\xf9\\xd5\\xd0\\xf9\\x9el\\xa4\\xb6}\\xddC\\x16\\xf5s\\xf9\\xad\\x89v\\x0fL\\xe4r\\x1bc\\xc7\\xf7\\xa0\\xfd\\xedO\\xcdm\\xe3|`\\xb9)@?\\x97A\\x08\\xc7\\xa4}\\xf7\\x95\\xb2U\\x01\\x8c\\xfd \\x1c\\xd8\\xb3\\xa3\\x02\\xcb,\\xc6\\'\\x8c&-\\xa3\\x1b\\xb8\\x1c;\\x9c0r_Pj\\x1a%Pkf$\\x1aq\\xdf\\xda\\xe6\\xe9CG\\xb6\\xb3\\xcd.\\xacUd\\xf7P\\xd3\\xdco\\xaa\\xd7\\xfd\\x96\\x11\\x9e\\xcd\\x14\\xb2\\x93\\xfd\\xd0k\\x9c]\\xd3\\x1e\\xfd\\x03\\x00\\x00\\xff\\xff\\x03\\x00PK\\x03\\x04\\x14\\x00\\x06\\x00\\x08\\x00\\x00\\x00!\\x00\\x81>\\x94\\x97\\xf3\\x00\\x00\\x00\\xba\\x02\\x00\\x00\\x1a\\x00\\x08\\x01xl/_rels/workbook.xml.rels \\xa2\\x04\\x01(\\xa0\\x00\\x01\\x00\\x00\\x00\\x00\\x00\\x00\\x00\\x00\\x00\\x00\\x00\\x00\\x00\\x00\\x00\\x00\\x00\\x00\\x00\\x00\\x00\\x00\\x00\\x00\\x00\\x00\\x00\\x00\\x00\\x00\\x00\\x00\\x00\\x00\\x00\\x00\\x00\\x00\\x00\\x00\\x00\\x00\\x00\\x00\\x00\\x00\\x00\\x00\\x00\\x00\\x00\\x00\\x00\\x00\\x00\\x00\\x00\\x00\\x00\\x00\\x00\\x00\\x00\\x00\\x00\\x00\\x00\\x00\\x00\\x00\\x00\\x00\\x00\\x00\\x00\\x00\\x00\\x00\\x00\\x00\\x00\\x00\\x00\\x00\\x00\\x00\\x00\\x00\\x00\\x00\\x00\\x00\\x00\\x00\\x00\\x00\\x00\\x00\\x00\\x00\\x00\\x00\\x00\\x00\\x00\\x00\\x00\\x00\\x00\\x00\\x00\\x00\\x00\\x00\\x00\\x00\\x00\\x00\\x00\\x00\\x00\\x00\\x00\\x00\\x00\\x00\\x00\\x00\\x00\\x00\\x00\\x00\\x00\\x00\\x00\\x00\\x00\\x00\\x00\\x00\\x00\\x00\\x00\\x00\\x00\\x00\\x00\\x00\\x00\\x00\\x00\\x00\\x00\\x00\\x00\\x00\\x00\\x00\\x00\\x00\\x00\\x00\\x00\\x00\\x00\\x00\\x00\\x00\\x00\\x00\\x00\\x00\\x00\\x00\\x00\\x00\\x00\\x00\\x00\\x00\\x00\\x00\\x00\\x00\\x00\\x00\\x00\\x00\\x00\\x00\\x00\\x00\\x00\\x00\\x00\\x00\\x00\\x00\\x00\\x00\\x00\\x00\\x00\\x00\\x00\\x00\\x00\\x00\\x00\\x00\\x00\\x00\\x00\\x00\\x00\\x00\\x00\\x00\\x00\\x00\\x00\\x00\\x00\\x00\\x00\\x00\\x00\\x00\\x00\\x00\\x00\\x00\\x00\\x00\\x00\\x00\\x00\\x00\\x00\\x00\\x00\\x00\\x00\\x00\\x00\\x00\\x00\\x00\\x00\\x00\\x00\\x00\\x00\\x00\\x00\\x00\\xacRMK\\xc40\\x10\\xbd\\x0b\\xfe\\x870w\\x9bv\\x15\\x11\\xd9t/\"\\xecU\\xeb\\x0f\\x08\\xc9\\xb4)\\xdb&!3~\\xf4\\xdf\\x1b*\\xba]X\\xd6K/\\x03o\\x86y\\xef\\xcd\\xc7v\\xf75\\x0e\\xe2\\x03\\x13\\xf5\\xc1+\\xa8\\x8a\\x12\\x04z\\x13l\\xef;\\x05o\\xcd\\xf3\\xcd\\x03\\x08b\\xed\\xad\\x1e\\x82G\\x05\\x13\\x12\\xec\\xea\\xeb\\xab\\xed\\x0b\\x0e\\x9as\\x13\\xb9>\\x92\\xc8,\\x9e\\x148\\xe6\\xf8(%\\x19\\x87\\xa3\\xa6\"D\\xf4\\xb9\\xd2\\x864j\\xce0u2js\\xd0\\x1d\\xcaMY\\xde\\xcb\\xb4\\xe4\\x80\\xfa\\x84S\\xec\\xad\\x82\\xb4\\xb7\\xb7 \\x9a)f\\xe5\\xff\\xb9C\\xdb\\xf6\\x06\\x9f\\x82y\\x1f\\xd1\\xf3\\x19\\tI<\\ry\\x00\\xd1\\xe8\\xd4!+\\xf8\\xc1E\\xf6\\x08\\xf2\\xbc\\xfcfMy\\xcek\\xc1\\xa3\\xfa\\x0c\\xe5\\x1c\\xabK\\x1e\\xaa5=|\\x86t \\x87\\xc8G\\x1f\\x7f)\\x92s\\xe5\\xa2\\x99\\xbbU\\xef\\xe1tB\\xfb\\xca)\\xbf\\xdb\\xf2,\\xcb\\xf4\\xeff\\xe4\\xc9\\xc7\\xd5\\xdf\\x00\\x00\\x00\\xff\\xff\\x03\\x00PK\\x03\\x04\\x14\\x00\\x06\\x00\\x08\\x00\\x00\\x00!\\x00\\xef\\xa8\\xb8t\\x89\\x7f\\x00\\x00\\xdaH\\x03\\x00\\x18\\x00\\x00\\x00xl/worksheets/sheet1.xml\\x9c\\x92Ko\\xc20\\x0c\\x80\\xef\\x93\\xf6\\x1f\\xa2\\xdci\\xdaR\\x10T\\x144\\t!\\xb8M{\\xddC\\xea\\xd2\\x88&\\xa9\\x92\\x94\\x87\\xa6\\xfd\\xf7\\xb9e\\xc0$.\\x88(q\\x9e\\xfel\\xc7\\x9e\\xcc\\x0e\\xaa\";\\xb0N\\x1a\\x9d\\xd1(\\x08)\\x01-L.\\xf5&\\xa3\\x9f\\x1f\\x8b\\xde\\x88\\x12\\xe7\\xb9\\xceye4d\\xf4\\x08\\x8e\\xce\\xa6\\xcfO\\x93\\xbd\\xb1[W\\x02x\\x82\\x04\\xed2Zz_\\xa7\\x8c9Q\\x82\\xe2.05h\\xbc)\\x8cU\\xdc\\xe3\\xd6n\\x98\\xab-\\xf0\\xbcSR\\x15\\x8b\\xc3p\\xc8\\x14\\x97\\x9a\\x9e\\x08\\xa9\\xbd\\x87a\\x8aB\\n\\x98\\x1b\\xd1(\\xd0\\xfe\\x04\\xb1Pq\\x8f\\xfe\\xbbR\\xd6\\xeeLS\\xe2\\x1e\\x9c\\xe2v\\xdb\\xd4=aT\\x8d\\x88\\xb5\\xac\\xa4?vPJ\\x94HW\\x1bm,_W\\x18\\xf7!J\\xb8 \\x07\\x8b=\\xc6\\xd1?\\x9b\\xe9\\xceo,))\\xacq\\xa6\\xf0\\x01\\x92\\xd9\\xc9\\xe7\\xdb\\xf0\\xc7l\\xcc\\xb8\\xb8\\x90n\\xe3\\xbf\\x0b\\x13%\\xcc\\xc2N\\xb6\\t\\xbc\\xa2\\xe2\\xc7\\\\\\x8a\\x06\\x17V|\\x85\\xf5\\x1f\\x84\\r/\\xb0\\xf6\\xbbl\\xda\\xc8<\\xa3\\xdf\\xe1_\\xeb\\xe1\\x1c\\xb5\"\\xbc\\x8a\\xf3\\xdd\\x0f\\x9dNr\\x89\\x19n\\xa3\"\\x16\\x8a\\x8c\\xbeD\\xe9r4\\x88)\\x9bN\\xba\\n\\xfa\\x92\\xb0w\\xff\\xd6\\xc4\\xf3\\xf5;T <\\xa0\\x95\\x88\\x92\\xb6@\\xd7\\xc6l\\xdb\\x87+<\\n[Uv\\xa3\\xbb\\xe8\\n\\xf4\\xd5\\x92\\x1c\\n\\xdeT\\xfe\\xcd\\xec\\x97 7\\xa5GH\\x12$\\xe8x\\x9b\\xf94?\\xce\\xc1\\t,9\\x04\\x05}D\\xfd\\x02\\x00\\x00\\xff\\xff\\x00\\x00\\x00\\xff\\xff\\x94}\\xeb\\x8e,\\xbd\\x8d\\xe4\\xab\\x18~\\x80\\x99\\xceKWw\\x0f<\\x06\\\\}\\xbaO\\xbf\\x86\\xe15\\xb0\\xbff\\x17c\\xc3\\xbb\\xfb\\xf6KI\\xc1\\xcc$\\x83d\\x95\\x0e\\xbe\\x1f\\x1f2$uQ\\xd4%D]\\xe2O\\xff\\xf8\\x9f\\x7f\\xff\\xfb?\\x7f\\xfd\\xf5\\x9f\\x7f\\xfd\\xf3\\x9f\\xfe\\xfb\\x7f\\xfd\\x9f?\\xfc\\xf7\\x7f\\xfeq\\xf9\\xe3\\x1f\\xfe\\xf1\\xbf\\xff\\xfa_\\xff\\x90\\xff\\xfb\\x8f\\xf7?\\xfe\\xe1\\xff.\\xfb_\\xff\\xf6\\x1f\\xff\\xe3\\xff\\xfd\\xfa\\xfb?\\xfe\\xf6\\xf7\\xff\\xfa\\xe7\\x7f\\xfe\\xf1\\xe5\\xdf\\xb6?\\xfe\\xf9O\\x7fkI\\xef-m\\xcf!\\xdf\\xff!_\\xff\\xf5\\xe7\\x97?\\xfd\\xfb\\xbf\\xfe\\xfc\\xa7\\x7f\\xff\\x1bR|r\\x8a\\xc5\\xa6\\xf8\\xc5)V\\x9b\\xe2\\x8bSl6\\xc57\\xa7\\xd8m\\x8a\\xdf\\x9c\\xe2\\xd5\\xa6\\xf8\\xe1\\x14\\xb7#\\xc5\\xbfK\\xdd\\x1c\\x15\\xb4>_A\\x7fii[\\x05\\x05Us\\x17\\xec\\xa8\\xb67Wmk\\xcfq[\\xdf\\xdf^\\xdf7W\\x1f\\xbf\\x00\\xbe\\xbbj\\x1a\\x9f\\x97\\xdd\\xb9\\xe0\\x1b\\xdf\\xdd\\xe7\\x9f\\xf1\\xf9\\xfcjl\\xdc&lli\\xd5F\\xe7\\xdc\\xbb`\\xa9\\x8d\\xad\\x19\\xfd\\xeb\\xcf\\xef\\xfbm{\\xd9\\x16\\xe7\\xaf_\\x03\\\\\\xde\\xdd\\xaf\\xfe\\x1a\\xdf\\xb7\\x17o$\\xd2{#\\xc7\\xe7\\xc4\\xc8}\\xc2\\xc8\\x96V\\x8dt\\xfe\\xb8\\x0b\\x96\\x1a\\xb9w#?^\\xd7\\x97\\xf7\\xdb\\xab7r\\x80\\xeb\\xd9\\xcez\\xaf\\xfa\\x1a\\x9f_\\xdd\\xe7\\xef\\xf1\\xd9\\xbb\\xf7g|NL|\\x9d0\\xb1\\xa5U\\x13]\\x07\\xbb\\x0b\\x96\\x9a\\xf8\\xdaM\\\\\\x96\\xe5\\xed\\xe5}y\\xf9p\\xdd{\\xa0\\xde\\x8f\\xdf\\xe3\\xb3s\\xd7o\\x14\\xf5\\xf2\\xf1o\\x1f\\xbe{*\\x14\\xf7\\xc9\\xdb\\x84\\x9d-\\xad\\xda\\xe9<r\\x17\\xec\\xb0\\xd3\\xf5\\xaf\\xcf[\\xb7\\xf3m[oo\\xeb\\xbbw\\xe5\\x00?\\xdc\\xe7\\xaf\\xf1y}q\\xd6|\\xebw7\\x06\\x8d\\xcf\\x89/\\xdf&lli\\xd5F\\xf7\\xb7\\xef\\x82\\xa56\\xbeU\\xcdu\\x80\\xd4\\\\\\xc7gj\\xaeH\\xed{\\xea\\xcf\\xf8\\x9e\\xd8(\\x13\\xce\\xb3\\x93\\xcf_ZZ\\xb5\\xd1\\xf5\\x95\\xbb`\\xa9\\x8d\\xef\\xd5\\xd8\\n\\xd0\\x8f\\xad\\xe33\\x8f\\xad\\xe3\\xfb\\xab\\x1fv\\xc6\\xe7\\xc4\\xc6\\x8f\\t\\x1b[Z\\xb5\\xd1\\xcd\\x11w\\xc1R\\x1b?\\xaa\\xb1u\\x80<\\xb6\\x8e\\xef<\\xb6\\x8e\\xef\\xeb\\x87\\xb7r|O\\xac\\\\^&\\xcc\\xec\\x89\\xd5NW\\xf7\\xf7\\x06\\xa6\\x86\\n\\xd8f\\x91e\\xf9\\xf8xy{\\xf73%\\xd0W\\xf7\\xfd\\x1b\\xdf\\xfd\\xf0\\xa3\\x85\\xed2\\xfe\\xec\\x1f\\x97\\x7f\\x9e*\\xe0\\x8f^\\xfcnf\\xcfe\\x82C\\xfd\\xa5\\'V\\xdb\\xdd\\xe8yo`n\\xfb\\xe0\\x15\\xd9\\xc8+y\\xfb\\x04\\xeb\\xa7J|\\'\\xe3QZ4\\xf8\"\\xcb~\\x19\\xc6\\xad\\xc13\\x9ch\\xb9\\x92\\xa2\\xc5\\xfd\\x8c{Cs\\x8b\\xc1e\\xd6\\x97\\x9b\\xfc\\xe7&\\xa9_\\x92\\xb5\\x19\\xec{\\xe37\\xbe\\x93\\xc1(\\xec\\x16\\xcc6\\xc8\\xb2\\xa5\\x1e\\x9e!H\\x8baH\\x9e\"5\\xf40\\xd8\\xf9\\xffS\\xc0\\xaay\\x0f\\x94\\x9b\\xb7\\xa7=\\x9dW\\xfc\\xd6\\xc2\\x1e6\\xef\\x91}M\\xbd=C\\x9c\\x96+sZ<ujhn\\xfc\\xa06i\\xfb\\x1e0QD)\\xb3\\xd7\\xd9\\xe6\\']\\x05\\xfc@\\xf6[\\x81\\xb0\\xe9\\xd3_\\xb1-\\x7f\\x86a-W\\x8a\\xb5x\\x8e\\xd5\\xd0\\xbc.\\x06\\xffI\\x88\\xa4dm&\\xd3\\xd4\\x8c\\xef47\\xe3\\xfbr\\xf3C:\\x80lL\\x9f\\xa1Y\\xcb\\x95gy~\\x7fohnlI\\xb5$k3\\x96\\xb8\\x16\\xbe3\\xd9\\x02@\\xcc\\x19\\xdf3cg\\xf8\\xd6r%\\\\\\x8bg\\\\\\r\\xcd\\x8d\\x1d\\x84hI\\xc64\\xb0+7)~K\\x91\\xc1\\x9a\\xf27>/\\x0f\\xbb\\xf8\\xc8\\xbe\\xbfe\\xc6\\xcf\\x10\\xb1\\xe5\\xca\\xc4\\x16O\\xc5\\x1a\\x9a\\x1b?\\x98R\\xb2\\x08\\x94\\xac\\xbd\\'s\\x17\\x1f\\x00S\\x15\\xe4 \\xe0\\x07@f\\xee\\x0c\\'[\\xae\\xa4l\\xf1\\xac\\xac\\xa1\\xb9\\xb9\\x832%\\xebz\\xc9\\xda\\xcc\\xbdy\\xf2\\x89\\xef\\xcc>\\x15 \\x8e\\r \\xb1v\\x9d\\xa1f=\\xf1\\xb1\\xbc\\xf7\\xdc\\xac\\xa1\\x87\\xb5~.\\xff\\x14\\xb4\\xf7\\xd4x\\xf5\\x0b\\x94\\x06-|\\xa7A\\x0b\\xdf\\xa9\\x1a~\\x00d\\xd6\\xce\\x90\\xb1U\\xa3@\\xbd\\xddy6\\xd6\\xd0\\xc2\\xdaA\\xa0\\x92\\x05\\xa2\\xe4\\rG-|\\xe7QK3\\xf8!\\x1a\\xdf3k\\xa7\\xa2SW&\\xb6z&\\xb6^\\x99\\x18\\xfb\\x16\\xec)&\\xde\\x92\\xb7S1\\xb7\\x1e\\xfe\\xc6wO\\xc5\\xf0\\xf9\\xe1\\xb0\\x85t\\xeb\\xe5\\xd7\\xd8\\xd0\\xdc\\x0c-[\\xaf\\xb4l\\xf5\\xb4\\xac\\xa1\\x85\\xaf\\x07E\\xca\\x02t@)B\\x076\\xc7!:\\xa5y\\xe4\\xec2\\x80\\xb5\\xce\\x10\\xb1\\x9e\\xf8\\x08ay\"\\xd6\\xd0\\xc2\\\\\\x90\\xa08V\\'y\\xe3a\\x1a\\x00\\x0f\\xd3\\x00V\\x9a\\x92\\x01d\\x8d{\\x86l\\xadW\\xb2\\xb5z\\xb2\\xd5\\xd0\\xc2^D\\x9b\\xe29Y\\xf2\\xf6q\\xda\\xaf*\\xf1\\x9d\\x1a7\\n{4\\'#\\xfb\\x9e\\xad9\\xd6\\x19\\xf6\\xd5\\x13\\x1f\\xde\\xf6a\\xae\\x86\\x16\\xd6\\x0f\\x82\\x95\\xf1n\\xc9\\x1c\\xad+\\xbf\\xf0}!\\xde\\xad\\x80\\x1fC~\\x00d\\xde\\x9e!`\\xeb\\x95\\x80\\xad\\x9e\\x805\\xf4\\xb4\\xd7u\\xf5OA\\xc7\"+\\x8e`\\x02&\\x12\\xa2\\xd9\\xd8^\\x84\\xbe(,\\x84\\x1c\\x99\\xbd3\\x9ck\\xbdr.?\\x85\\xde\\x1bZ\\xd8;\\xd8S6Q\\r\\xf4\\xc3\\xf5\\x98/)\\xb3\\xaf1(\\x96\\xa9\\x00w\\xe62\\x0c\\xb6\\xcep\\xae\\x9e\\xf8h\\xce\\x9es5\\xb40\\x17\\xf1\\xaed\\xa6\\x1a\\xe8\\x9b\\x9b\\xeb\\xbf\\xa5\\xcc\\x88`\\xe3\\xf3\\xe3\\x99jd\\xdf/\\x95b7Xf8\\xd8\\xd6\\x12\\x1f\\xd6{\\x0e\\xd6\\xd0\\xdczA{\\xe3\\x8e\\x872\\xa0\\x97e@\\x0f\\x15|\\xe3\\xbb\\x1f\\xca\\xb4\\xb0GC\\x19\\xd2mY\\x04a\\x9b\\xe1d=\\xf1a\\xbd\\xe7d\\r-\\xacG\\x0c,\\xd9dB\\xc8\\x8bw\\x99\\x06\\x10l3\\r\\xe0\\x1a\\x1a\\xe9\\x15\\xf6#?\\xc36\\x17\\xeb\\xed\\x19V\\xb6]Y\\xd9\\xe6YYC\\x0b{\\xcb\\x8dC\\xc9\\x1b.0\\xf0\\x9d\\x17\\x18\\n\\xd0H\\x06 \\x19\\xc9\\xb6\\xa9\\xed\\xc3+\\r\\xdbh\\x03\\xd1\\xd00?r\\xcb\\x1f*\\x16\\x18@i\\x81\\x81\\xef\\x14\\'\\xc4wY\\x89\\xbbx/\\x80\\xcc\\xda\\x19\\x16\\xb6]\\xc3a~g\\xf7\\xde\\xd0\\xd3\\xb9\\x8e_|\\n:xG\\xb8+\\x0c\\xd4w\\xe5/|\\x0f\\x9c\\x0b\\xda\\xc6\\xce-\\xb7\\x14\\xb7\\x19\\x12\\xd6\\x13\\x1f\\x9b\\x8a\\x9e\\x845\\xb40\\x17[\\x87I\\xdf\\x05\\xab\\xe2\\xbe;\\x80\\xa0\\xef\\x02`\\xf7\\xfa\\xcdH\\xdbwgh\\xd7v\\rzm\\x9ev5\\xb4\\xb0\\xb7\\x8czI\\xde\\xde\\xd4\\xfd\\xe1\\x08|\\xe7\\xf5#\\x80\\x1b\\x05\\x07\\x00d\\xady\\x86umW\\xd6\\xe5y\\xd0\\xbd\\xa1\\x85\\xb95\\xeb\\x92\\xcc\\x9de\\xba.\\xff\\x85\\xef\\xcc25\\x03\\xcdY\\xf8;/;o*kaK\\xc6\\xb9\\xb7\\x19N\\xd6\\x13\\x1f\\x8d\\xdd\\xc7\\xc1\\x1aZ\\xd4\\x06B]1I\\x91\\xbc\\xbd2\\xdc\\xe4\\xf7\\x85\\xef\\xb4\\x95\\xf7\\r\\xe0\\xd5O\\x1f\\xbf5\\xc7\\xc3\\x19\\x9cv6m\\xa7\\x98!o\\xdb5`\\xb6y\\xf2\\xd6\\xd0\\xa2^@\\xde\\x12\\xfa\\x82}N\\x7f\\x82B\\xca\\x1c\\\\\\xd55\\x86o\\x05\\xb8^\\xf0w\\x1e\\xd6\\xcbH\\x97\\xb5\\x97}\\x86\\xd6\\xf5\\xc4G{\\xf1\\xb4\\xae\\xa1y\\xbd\\x08Z\\xcc|@\\xf9d\\xc9\\xc8E3\\x1f\\xd2_\\xbb\\xc1\\xd82\\x02\\xb0\\xdd\\xa4\\xef\\xbc\\\\\\xfe\\xb9\\x91\\xfcG\\x0b\\xb8\\x8c\\xad\\xa6\\xbd\\xec3\\x84\\xaf\\'>\\xea\\xc5\\x13\\xbe\\x86\\x9e\\xf5\\xe2~\\xc8\\xa7\\xa0\\x05\\xdd\\x05\\xea7\\x80\\xbe\\xf0}\\xa5cE\\x006\\xdf^~\\x00$\\x83\\xe8>\\xc3\\xf7z\\xe2\\xe3@\\x8a\\xe7{\\r-\\xcc\\x1d\\x8c.;_4\\xd0\\xd5u\\xb9o)3Z\\xdb\\xe0\\xf3cg\\x8f\\xec\\xd7J\\xb1\\xce\\x9e\\xa1\\x7f\\xfb\\x95\\xfe\\xed\\x9e\\xfe5\\xb4\\xb0\\xbe\\xdc\\x1d\\x95\\xbc\\xe1\\xa0\\x89\\xef<h\\x02\\xd8i\\xc6\\x04\\x909{\\xea\\x1c\\xd9\\x95\\xff\\xedt\\x92\\xcc\\xf0?j\\xdb\\x83\\x97%\\xeb\\xf6\\x1dG\\xcd<A\\xc0w&\\x08\\x9a\\xc1\\xb3]|\\xcf\\xac\\x9d\\xa1\\x7f\\xfb5\\x06\\xb7{\\xfa\\xd7\\xd0\\xc2\\xb9%\\xfd\\x93\\xbc\\xbd\\x9f\\x13\\xfd\\x03\\xc0\\xf4\\x0f\\xc0Jt\\x17@f\\xef\\x0c\\xfd\\xdb\\xcd\\xd92O\\xff\\x1aZ\\xd8;\\x08^\\x12R\\x96\\xbc\\xcd\\xde7O\\x87\\xf0\\x9d\\xd9=\\x80\\xeb\\t\\x86\\xb1R\\x05\\x90\\x99;C\\xff\\xf6+\\xfd\\xdb}\\xd0\\xad\\xa1\\x85\\xb95\\xfd\\x93\\xcc\\xbd\\xf3\\xfa\\r\\x04|\\xf7$\\x0f\\x9f\\x97\\x88\\xe4\\x01[o\\xd9\\xae\\xc1>C\\xf2z\\xe2c\\xb4\\xf6$\\xaf\\xa1\\xa7\\xcd\\xee\\xc7\\x7f\\n\\xda\\x1bmrT\\x12\\xb0?[\\xf8\\x8d\\xefd3J\\x0bmV\\xc2\\x98\\xb9y\\x86\\xbf\\xedW\\xfe\\xb6{\\xfe\\xd6\\xd0\\xc2\\xe4\\xc1\\x97\\xb2\\tJ\\x8f\\x96\\xb9\\xf3\\xdcRf8A\\x8d\\xcf\\x8f\\'(\\x8d\\xf8%\\xd6\\xbf\\xce\\xb0\\xb4\\x9e\\xf8p\\xb8gi\\r\\xcd\\xad\\x17t\\xb4\\xe2\\xf0\\x8c3P>\\x88\\x07\\x80\\xc70\\x00~\\x8d\\xff\\x83\\xef\\x99\\xb93\\xe4\\xeb\\xf5\\xba\\x03\\xba{\\xf2\\xd5\\xd0\\xc2\\xdcr\\x07T\\xf2\\x86+X|\\xe7\\t\\n\\x00\\r\\xd8\\xf8\\x9eY;\\xc3\\xbd^\\xaf\\xb16\\xff\\x87\\xee\\r-\\xac-\\x0f\\xa3I\\xde\\xd8Zp2\\xa2\\x9a\\xc8\\xc0\\xd1\\'\\x00\\x99\\xb93d\\xeb\\xf5J\\xb6^=\\xd9jhan\\xb9\\xe5)y\\xc3\\xf9\\t\\xdfy~R\\x80\\xdbr\\xb9\\xe5\\xf9:C\\xb6zb\\xed\\xba\\xfe\\x94\\xdc\\xbd\\xa1\\x85\\xb9z\\xf8,<X*y\\xbbw\\xdd\\x98\\xfc\\x85\\xef\\xcc-\\x01p\\xe0\\x18@\\xe6\\xdd\\xa9\\x03\\xfcW\\xb6\\xf5JG\\xf8\\r\\xdbr\\x93\\xf5\\xe7+\\xf8Tv\\x8a_\\xc9\\x98\\x1b\\xa8\\x91\\xcdOMZZ45\\x01\\xfb\\xb8t\\x00\\xb3zx\\x9d!\\\\=\\xf1\\xe1aO\\xb8\\x1azz\\x98L.\\t\\x97\\xe4\\xed\\r\\xda\\xd3i|\\x0f\\x1a\\xb4\\xee\\x9az>\\x8d\\x1c\\x99\\x87g\\x08\\xd7\\xab9\\xd7\\xef\\tWC\\x0bs\\x95Q\\xc5s\\x11\\xe8\\x18\\xf1i)\\xb4\\xd5C0\\x17!\\x07w\\xe0\\xf2\\x84\\xff\\xeb\\x0c\\xd9\\xea\\x89\\x0f\\xf7z\\xb2\\xd5\\xd0\\xc2^\\xd0\\xa38r$y{\\x07\\xf6\\x176\\xf0\\x9d#\\x01\\x19\\xf0\\x03 s\\xef\\x0c\\xd1z\\xbd\\x12\\xadWO\\xb4\\x1aZ\\x98[\\xeerJ\\xdex\\xbcB.\\xbe\\x9f\\x13g\\xf8AA\\x89\\xb5\\xb7\\x19b\\xd5\\x13\\x1f\\xce\\xf5\\xc4\\xaa\\xa1\\xb9\\xb5\\x82v{\\xe2\\x93e@W\\xbf\\xa7\\x8b\\xef~\\xb4\\xc2\\xe7\\x87\\xb4\\x12\\xe9\\xe4\\x94@r\\ti\\x86g\\xdd\\xae<\\xeb\\xd5\\xf3\\xac\\x86\\x9e\\xd6\\xbb\\x86\\xff)hA+\\x812\\xad\\x04\\xc0]\\x19\\x00/\\x8d\\x01d\\xf6\\xce0\\xad\\xdb\\x95i\\xf9s\\xc7\\xf7\\x86\\x16\\xf6\\x96LK\\xf2\\x86]\\x19\\xdf\\xb9+\\x03X\\xe8B\\x0b\\x80\\xcc\\xdc\\x19\\xa6u\\xbb2\\xad\\x9bgZ\\r-\\xcc\\xd5\\xb0V|\\x1eE2GK\\xe3/|\\xe7\\x9d\\x11\\x00\\xab\\xdf\\xf8\\xfa\\xad9\\xa2i\\x1aXz\\x03\\xe26C\\xc4zb\\xed\\xea7\\x1f\\xf5jhQ\\x1b%\\x11\\x93\\xbc\\xdd\\xf9>.\\x82\\xefL\\xc4\\x00\\\\\\x8f\\x10\\x8e\\xb8\\x08\\x80\\xcc\\xf93D\\xecv%b\\xfe\\x9a\\xca\\xbd\\xa1\\x85\\xb9\\xe5A\\x7f\\xc9\\xdb\\xcc\\xf5#\\xdb\\x17\\xbeS`\\x1f\\xdf\\x17\\x8a_\\x03\\xc8\\xac\\x9d\\xbaOy\\rz\\xdd\\xe8F\\xa5\\xe1`4\\x92\\x95\\x1c\\xec\\x96p0|g\\x0e\\x06\\xc0\\x9fD\\xfa\\xad\\x19\\x96\\xe0\\xaa\\x8fb\\xd9Y\\x95\\xdb\\x0cA\\xeb\\x89\\x8f\\x86\\xee\\tZCO\\xcf\\xfb;\\xdf\\x826\\xdf&\\x01@\\xa0o\\xfe\\xd0!\\xbe\\xd3\\x9c\\xa6\\xe1\\xb5\\xc8\\xe2\\x81\\xbd\\xa6\\x16\\xcfP\\xb4\\x9b\\xb9\\x86\\xe9)ZC\\x0b\\x8b\\xebx\\x98d\\x8e\\x07:d\\xa3\\x83w\\xc8\\xc0\\xa7\\xff\\x01d\\xad}\\x86\\xa3\\xdd\\xae\\x1c\\xed\\xe69ZC\\x0b{\\xb1]\\x19\\x9fh\\x90\\xbc\\xcd\\xdc`\\xdeF\\xd8\\x8bB\\x06\\xc8A3\\xdc\\x0f\\x80\\xc4\\xde\\xb7\\x19\\x96\\xd6\\x13\\x1f-\\xda\\xb3\\xb4\\x86\\xe6\\xf6\\nZ\\xb04\\xa04\\x96\\xe1;\\x8de\\x9a\\xdes\\xd5\\x1f\\x00\\x99\\xb53\\xac\\xec\\xed\\xca\\xcan\\x9e\\x955\\xb4\\xb0\\xb6\\xdcz\\x94\\xbc!K\\xc1wf)\\x00\\xb81\\x03\\xc8\\xcc\\x9d!eoWR\\xe6\\x17r\\xf7\\x86\\x16\\xe6\\x96\\x17\\x00$o8/\\xe3;\\xcf\\xcb\\x00V\\x9a\\xa9\\x00d\\xe6\\xce\\x90\\xb2\\xb7+)\\xf3[)\\xf7\\x86\\x9e\\xe6\\xfa\\xdb\\xff\\x82\\xf6\\xde\\x19/\\'\\x81\\xd2\\x9d4|\\x0f\\xbc{\\x14\\xe7\\xce\\x9a!Gf\\xee\\x0c\\xebz\\xbb\\xee5\\xfa\\x89\\xe3\\xde\\xd0\\xc2\\\\\\xf0\\xaax\\x81%yC\\x1a\\x82\\xef\\xdcu\\x91\\x9e\\x8e\\x08#Cf\\xed\\x0c\\xe9z\\xbb\\x92\\xae7\\x1f\\xfdjha\\xed\\xa0U\\xc9\\xce\\xaa\\xe4\\xedm\\xd9\\x87\\x82\\xf0\\x9d\\x03\\xd7\\x00\\xb8)\\x97\\x07\\xcd\\xdefHWO\\xac\\xc3\\xf2\\x9b\\']\\r-\\xac\\xad\\xcf\\xf7K\\xe6p\\xda\\xc5w^_\\x00X)\\x12\\x04 \\xf3\\xee\\x0c\\xb1z\\xbbF\\xbe\\xde\\xe8I\\x0bC\\xac\\xa8\\xeb\\x1e\\\\(z#@J\\x8eG\\xaa$\"\\xf6\\x8d\\x0c\\x81\\xb9e\\xe0\\xebm\\x86U\\xf5\\xc4\\x87{=\\xabjh\\xe1^\\xa5G/\\xb7\\xf7\\x97us\\x99\\x7fI\\xe6>\\x90\\xf9s\\xfc_\\x00h\\x99\\xf8}\\xe4\\xf0CUy\\xbe\\xffm\\x86U\\xf5\\xc4\\x87\\xbd\\x9eU5\\xb4\\xb0\\xb7dU\\x927fU\\x008\\x1a\\x02\\x80Y\\x15\\x80\\xa49\\xbf\\xcf\\xb0\\xaa\\x9e\\xf8\\xb0\\xd7\\xb3\\xaa\\x86\\xe6\\xf6\\nZ\\xac\\x13\\x80\\xd2:\\x01\\xdf\\xfd:\\x01\\x9f\\xe5\\xfd\\x0c>\\x1d\\xa9Ee\\xeb\\x84\\xf7\\x19f\\xd5\\x13\\x1f\\x16{f\\xd5\\xd0\\xd3b\\xff\\n\\x82\\xa0\\xcd\\xe2dx\\x06\\xfa\\xe1\\x87g|\\xe7\\xe1\\xf9\\x00\\\\{\\xc6\\xf7\\xcc\\xbf3\\xc4\\xea\\xfdJ\\xac<a\\xbd7\\xb4\\xb0V\\x89U\\x1c\\xfe\\x91\\xcc}x\\xf6g\\x1e\\xf1\\x9d\\x87g\\x00\\xbc\\xf5\\x04 \\xb3w\\x86Y\\xbd_\\x99\\xd5\\xbb\\x0fw5\\xb4\\xb0\\xb7\\xdcX\\x94\\xbc\\xc3\\xf7n\\xe7\\t\\xdf\\xa9=\\x1fG\\xc2\\x82\\xf6\\x8c\\xc0Y\\x16\\xbf}\\x9f!W=\\xb1\\xb6g\\xff\\xf0\\xcc\\xbd\\xa1\\x85\\xc5\\xe5uJ\\xc9\\x1b\\x8fX\\x00x\\xc4\\x02\\xc0\\xf1[\\x00\\x99\\x87g\\xe8\\xd5\\xfb\\x95^\\xbd{z\\xd5\\xd0\\xc2^\\xdd\\\\\\x0c\\xf7R%o8\\x01\\xe3;/\\x15\\x14 6\\t 3w\\x86_\\xbd_\\x83Z\\xfeD\\xce\\xbd\\xa1\\x85\\xb98\\xaa\\x1fsg\\xc9\\x1brg|\\'\\xee\\x8c\\xef\\x14\\xd3\\xc2\\xf7\\xad\\r\\xdc\\xd5\\xd1\\\\\\xfd{\\xd9\\x91\\xe5\\xf7\\x19\\x1a\\xd6\\x13\\x1f\\xad\\xde\\xd3\\xb0\\x86\\x16\\xd5\\x02B\\x15\\xaf\\xa0$oo\\x05\\xae\\xcc/|\\xe7\\x15\\x94\\x02\\xc4\\xb2\\x01d\\xad`\\x86\\x86\\xbd_\\x83[\\xef\\xf4\\xc8\\xd8\\x95\\x86\\xf9\\xe0\\xfa\\xa7\\xe4\\xad\\xa6\\xe9\\x81\\xfau\\xca7r\\xd1\\xb0v\\\\\\x0f\\x08\\x865\\x84\\xc9R\\x07\\xcf\\x10\\xb1\\xf7kx\\xeb\\xdd\\x13\\xb1\\x86\\x1e\\x0ef\\x8bu\\x0b2\\x99\\xb8\\xb0\\xa5\\xe8C\\xf5Rh\\x1f\\xef(\\x9c\\x07\\x80o\\x89\\x03H<\\xfc1C\\xc4z\\xe2\\xa3A{\"\\xd6\\xd0\\xdc^AG\\x93\\r\\x1fw\\x04J\\x9b\\x90\\xf8\\xee=\\x8c\\xcf\\x0f\\xbb3\\xd2\\xed\\x97fo\\x8eO|\\xcc\\x90\\xb2\\x9e\\xf8\\xb0\\xde\\x93\\xb2\\x86\\x16\\xd6\\x97\\x9b\\x90\\x927\\x9e\\xc4\\x00\\x04\\xaf\\xcc\\xe1j%?3W^\\xad\\xfc\\x98\\xa1e=\\xb1\\xda\\xeb\\xff\\xd0\\xbd\\xa1\\x85\\xbd\\xa0e\\xdb\\xdb\\xf6\\xba\\xdd\\xfc\\xfb\\x94\\xbf$s3\\xd8\\x0f\\xdf_\\xf8\\xce\\xb3\\x18\\x00\\x1a\\xbe\\xf0=k\\xdc3\\xac\\xec\\xe3\\xca\\xca><+khany\\xb6^\\xf2\\x86s6\\xbe\\x07\\xd6\\xa286\\xb7<\\xee\\xf51C\\xc9z\\xe2\\xc3\\xbb~\\x97\\xb1\\xa1\\x85\\xb9 ]\\xf1\\xe4$y\\xc3\\xc9\\t\\xdfyr\\x02p=*0v\\x19\\x01d\\xde\\x9dad\\x1fWF\\xe6\\xaf\\xeb\\xdf\\x1bz\\x9a\\xeb/\\xce\\n\\xda\\xbbgb\\xae\\xeeA\\xba\\x17\\x86\\x91+0\\x17\\xc5\\x11I\\xd1\\xbf\\xf3\\xfa\\xe0E\\xc5\\xf3\\xf7\\xc4G+>f\\xb8[O|\\xb4\\x03\\x1f\\x1bkhQ1\\x1a\\xfc\\nOII\\xdedT\\x1b@0\\xaa)\\xdb\\xa3\\xf1\\x1e@\\xab\\x19\\xff\\xd6\\xad\\xfe\\x99\\xec6\\xd5\\xc7\\x0ce\\xeb\\x89\\x8f\\xda\\xf0\\x94\\xad\\xa1Em\\x0cR\\x96,\\xbc%o\\xef\\x15~\\xe1\\x8d\\xef\\xbc\\xf0\\x06@\\xaf\\xce\\xe1{\\xd6)f\\x18\\xdb\\xc7\\x95\\xb1}x\\xc6\\xd6\\xd0\\xc2\\xda\\x83dEqB\\xc9\\x1b\\x0fy\\xc8EG\\xa8\\x90a\\xf1\\xcf\\x9e\\xfcV\\xe0a\\xa7\\x18%\\xa73\\xfd\\x0c\\xaf\\xfb\\xb8\\xf2\\xba\\x0fzJ\\xd6\\xf0:\\x1a,@\\xdc\\xe2\\xf5\\x8c\\x94\\x1c\\xadg\\xbe\\xf1\\x9d\\xda=63\\x1f-[\\x90=\\x7f\\xa1\\xeee\\x86\\xe6-=\\xf5\\xd1\\x0b\\xf8\\x89YC\\xf4|\\x05\\xb4\\xdc\\x05\\x97W\\xd8\\x93\\xf9/\\x05\\x82\\x97\\xdbP\"?E\\t \\x0c\\xc8iy[\\xfal\\xdf\\xcb\\x0c\\xfb[z\\xea\\xa3R\\xe8\\xed\\xd9\\x06\\xe7\\xbd\\xa5\\xe5\\xee\\x83ardXq\\xcf;\\xa4V\\x90\\x91\\x1f\\xe8T\\xc47\\x9a#K\\xf8B\\'r\\xbde\\xf7{\\x96\\x97\\x19\\x8e8Rk\\xadH\\x95\\xdbIP\\x9e#64\\x91\\xdbJ\\xcd\\x13[\\xf6\\x90(*\\xc0\\xdcI\\x11~\\xc0\\x12e%\\x03\\xe7\\xf22C\\x16G\\xea\\xd3nO\\x17;~6\\x07\\xff8E\\x83\\xc72.\\xdev8p\\xdawP\\x847\\x1e\\x0e\\xc4\\xf9\\xe0G\\x81\\xd4\\xf0\\x19\\xda(\\x97\\xc6\\xae\\n\\x06/\\xf4Fm\\xc3+\\xc3\\xcbk\\x99\\xad\\xf4p\\x96T x\\xaf\\x14Y\\xe8\\xbd,\\xcd\\x92\\x9a=C\\x1f\\x97\\x97+\\x7f\\x94\\x1a\\xa5vn\\x18$\\xfb\\xbb\\xbe1\\xd0\\x8a\\x8f\\xe6Ky{\\xdb\\xef\\x82\\xe2ub|\\x17\\t\\x01fD\\x9aiI\\x0f--/3\\x14q\\xa4>\\x1b\\xbb\\'\\x89\\x1d\\xaf|^\\x86\\xf8Z\\xeepNT\\x80\\xc7\\xb7\\x91a\\x0f\\xde\\xa8\\xd0<\\xe9\\x1b\\x15\\xcb\\xcb\\x0c\\x1d\\x1c\\xa9O\\xcb\\xe9\\xad\\xdaVZe9\\xa2x\\xc92\\xb8\\x15\\x9f\\x0co\\xd9~\\xaaf\\xa1\\xa5\\xa1\\x02is\\x9f!\\x86\\xcb\\xcb\\x95\\x19J\\xa5Rs7\\xdc\\x90\\x9b\\xbb\\x1eF\\x0b\\x17\\x06\\xad\\xf4pe \\xcd\\xdd\\xef\\x92js\\x1f\\xdf\\xd7h\\x01\\xa0\\x99^/T\\xd9>;\\xfd2C\\xfe\\xa4K\\x99\\x11\\x8e\\xde\\xacmx\\xe5\\xf3\\xf2nA+=\\xe9\\xe9\\x03\\xe0\\xd6\\x8e\\xf2\\x1e\\x11`-\\xf9*=\\xe0\\x1e\\xda\\x9f\"\\x81Ff@\\xea\\xd87\\x01\\xa34\\xb0R\\x13Py\\x80\\xe4\\xa5f\\xc0~5\\xf7-\\x0b\\x80^?T\\rZ\\xde\\xc3j@\\xc2\\xeb\\xba\\xdbU\\xc3\\x14\\xed3\\x8a\\x03\\xa4\\xd8\"\\x9a\\x03\\x86\\xf7q5\\x0c\\xfa\\x96=b\\x0c\\xad\\x00&\\xc3\\x00\\x022\\x0c\\x84_#\\'\\xa9\\x02g\\xf6\\x14\\xaf\\xb3\\xba\\x03,<`\\x94\\x07\\xfc\\x83\\xa1\\x9f\\x0b$\\x01\\x92\\xb5\\xb0\\xc2\\xb4\\x0b\\xad@0\\xcd\\xa3D\\x9e\\xe6I\\xb0\\xc0\\x99=E\\xeb\\x9c\\xfa\\x00\\xd1:\\xa3?\\x10\\x98]\\xc6\\x01\\x17h\\nx\\x92/\\x8d\\xde\\xc7\\xf50\\xec\\xa9\\x08\\xc1\\xe3F\\x8f?\\x9c\\x0e\\x81]Y\\xe0I\\xa52Q\\xd90$\\x8f\\x85\\x08\\x8c\\x12AP\\r\\xe5\\x96m+=\\x19\\xfe\\x81p\\xe7\\xc7\\x91\\xb8p\\xf8G\\xa6\\xeb\\xdb]\\xae\\tL1=\\xab;\\xc0\\xc2\\x03Fy \\xb0\\xbd\\x0c\\x16.\\xd0\\x0c\\x08\\xc6\\xbd\\x84\\xe8\\xa9\\xfa\\xc0\\xe3&0\\n\\xd8.\\xabdW\\rS\\x9c\\xcf*\\x12\\xb0$\\x81\\xd1$\\x08\\xaa\\xa1\\xe6|*?\\xe0/\\x9d-$3\\xa0=\\xa1\\xe0|\\xc8\\x93>\\xb1#k\\xee\\x19y\\x1d+O\\xc0\\xfa\\x04F\\xa0 \\xb0\\\\9_\\xb2\\xb4S\\xd5\\x01^\\xda\\x01\\t\\x96v\\x8a\\xd0\\xd2\\x8e\\x94\\r\\x9c\\xcb\\xa7H\\x9f\\x95&`m\\x02#N\\x10\\x18\\xae\\x11\\xc1xGs\\x81\\xaa@0\\xfa%\\xa4O\\x15\\rb\\x91\\x1d\\xfdk\\xa9\\xf0J\\x97\\x1ex~\\xc83\\xac\\x8f\\x95\\n\\x8cTA`\\xfc`i\\xe9<?\\xe0`\\x9e\\x07\\xbb\\xa3W\\xce%\\xa65\\xc2h\\xecsO\\x14\\xad\\xcf\\xa7\\x04\\x0b\\xe4\\x01\\x85+\\xd9]\\x88\\xe5\\x19\\xcd\\x82\\xd5\\xbf\\xd1\\xd2\\xb2\\x8f8F\\xbc\\xcf\\xa78m\\xf4\\x1d\\x19)\\x10| dw\\xad\\\\\\xb0t5\\x82\\xa7\\xddm\\xb5\\x0b\\x16\\n\\xe7\\x19\\xf5\\x82\\xc0n\\\\P\\x88\\xa3\\xbc\\xed\\xb7\\xc4KZ\\xd2#\\xc0\\xf0\\x86\\xef\\xe1\\x92\\x16X.\\xaf\\xd4\\xb4\\x07\\x9e\\x16\\x82[z\\xeacIKB\\x06\\x1d?\\x977\\xec\\xf1\\xfa\\xc0]\\xcb\\x1eEpDWj\\x004\\xb7\\xab\\x9cA\\xd8\\xcb\\x0f0{\\x1az\\xe9\\xc2\\x04\\xcf\\xbb\\xfd\\xba\\xc9+n\\xf2\\x8b\\x1a#d\\x10\\xb8\\xbd\\xe6w\\x92;^\\xdb\\x01`\\xdbQ\\xde\\xc3\\xc9\\x1d\\x05\\\\\\x97\\x03\\xae\\xd7O\\x05\\xf1\\x8c\\xbc\\x81x\\x86\\xaa\\xc1\\x04\\xf1\\xb8\\r\\xd4\\xfc.\\x938\\x90602r=T\\xfc\\x0e\\x99\\xd2\\xd7\\xc1\\x97.^\\xf0|\\x130\\x91<\\xd2:\\xe8\\xa5U\\xed\\xbf\\xe6w\\xd0%`~\\x97\\xe8\\x1d\\xb4?\\xd7G\\xd0\\xc7M`$\\xcc\\xd7\\xb5S\\x92\\x07\\x8b\\xd1<\\x10\\xc7P\\x130;\\xbf\\xdc\\x04p\\xdb4\\x16\\xf8l\\xa5\\xc7q\\\\\\x00\\xc1\\x02\\xef@\\xdcAc-+\\x0blu1\\x83\\xe7\\xbd\\x7f\\xbd\\x1a!\\x95Of\\x9b\\x80\\x1e\\x9b]^;]\\xa0Y\\xc0\\xd3\\xbc\\xca\\x1f\\xf04\\x0f\\x84H\\xdf\\x8f\\x16\\x96\\xda=\\xc5\\xed\\x8c\\x04\\x82T)\\xd9m\\x02zl7\\xd8\\xd6\\x96\\x90Z\\xc8\\x1aH\\xe4\\xd9\\x9d\\x82XT\\xf0\\xc0O42\\x18\\xa0L\\x9e\\xe8=\\x1ftC\\xddT4\\xcf\\x88!H\\x9d\\x92\\xe1&\\x9a\\xe7\\x9f\\xbdYT\\xc2 \\x13Q\\xd4\\xdd^w\\xe0Z\\xf3\\xf1H\\xa7\\xd1<\\t^\\x97\\xaa\\x99\\xe7\\x1f\\x8e\\x0fy\\xc8-\\xf5\\x99Y\\xdf\\xa8\"H\\xd5\\xfbj0\\xba\\x08\\xbe[\\x88\\xb2b\\xbd\\xa7\\xab\\xca\\x08^\\x06C\\xf3\\x05a,-\\x91jHe\\x13\\xa2K\\x16Z^>\\x08N\\x89%,F-A|F\\xb5b\\x82{\\xd48\\xa0c\\x90\\t\\xb2\\x01\\xe6;\\xca\\xed\\xef\\xb6\\xe11\\x90d\\xd3\"\\xb9Z@)\\xc3\\x10\\x88\\xfe\\xa54\\xfc\\xd3e\\x12\\x9e\\x1e$\\x8d\\xa8\\x02=\\x87p_\\x8c\\xacB\\xd0X\\x1el\\xeaB\\x0f\\x81\\x17\\x05\\xaa\\xa0\\xc0\\x8b\\x02Eh\\xac\\xa8\\xb5\\x15\\x96)q\\x85\\x91\\xfa\\xa0\\xc6$\\xaf\\xd0\\xf1\\x93\\x1apsPv\\x98,\\x80U\\x80\\xc1\\x1f\\x01j\\xe5\\x8eU\\x94+\\xf2\\xfb@\\xe8\\xac\\xd8\\x81\\x84\\xb4\\x19\\x05\\xee\\xe9&\\x7fWVx\\xbe=\\x98p \\t1,F\\x89!h\\x0f\\xf5\\x9e/4\\x17|0X\\x8cO\\xd8\\xa2\\x8a4\\x84Z\\xb4\\nf\\xd3\\xe6\\x94\"\\x83\\xdc\\x0f\\xba.\\x8f7\\xda\\xf65\\xa2\\x0c\\x81\\xe5z60<\\xf4\\xdcJ\\x8f\\x96\\x89_\\n\\xd0\\xf5\\x06\\x05\\x82\\xe60\\x8a\\n\\x17\\x90\\xf83i`\\xb0\\xeb0<\\xdf\\x18\\xae\\x97=\\xc4G4f\\x1a\\xe2\\xc8\\x9dD\\xef\\xd3\\xc6\\x1a\\xd4\\xaa\\xdc\\xe0Vf\\xd2\\x18F>\\x1e\\x17Q\\xde\\xeb\\xa3\\t\\x15\\x05\\\\e\\\\-\\xaf\\xe8\\xfa\\x0c\\xcfW\\x83!\\x92$\\xe7\\xb0\\x18=\\x07\\xcf\\xb7dB\\xad\\x89$`\\xba\\xf1\\xa0\\xf9\\xb8\\x1a\\x8a\\'L4S\\xaeH=\\xa5\\xdc\\xb0\\x18\\xe9\\x06q\\x0c\\xb5\\x00\\xc3%\\xfd+6-{\\x1f\\xed\\x12\\x15r\\xc0\\x1c&\\x04\\xc0\\xa6\\xa3\\xbc\\xc7J\\xcd\\xba\\x89\\x9c\\x8e\\rS\\xcc\\xd2(5H\\x1dS5\\x18f\\xc9\\xd5\\xa079\\x92\\xd0\\x19\\xd4\\x17\\x82Y\\x12\\x19\\x83Y\\x12\\xa7\\x0by\\x96\\xacC\\x86SB\\x0c\\xc2\\xe5\\xcc\\x98HT\\xd2h1p\\xcbW\\xf5\\x83l)\\xa18/%T\\xa8\\x81\\x97\\x12\\xaa\\xbc@\\x86\\x03\\xc8\\x1c>\\xa5\\xb4\\xb0\\x18\\xa9\\x85e#\\xb6h\\xc4\\x16\\x02\\xc3\\x1f\\x1c\\x01T\\xbd\\x05\\xa2\\x07*\\xd3\\x10ht\\x8f\"_\\xf9\\xb0[-\\xb9\\xb0Li.\\x8c\\xd4\\x07/\\xf2\\x7f\\xec\\xde\\xf1\\x93\\x17QK\\x87TB&\\xc7\\r\\x98\\x9e\\xb6i\\xc5F\\xa7c\\xbe\\x15 \\x05\\x8e\\x1fER\\x7fOm\\x06\\x1b\\xb5\\x05\\xf1\\xbe\\xef\\xe0Fo!\\xf0\\xb7^\\xc6]oo\\xab\\xbf\\x15\\xf9k\\x81N\\x02\\xd3\\x1e\\x12P@\\x8cX\\xa5\\x18B\\xda\\x030;\\x04\\xbf\\x88N\\xc1D\\x8c\\xb8\\xa7>\\x1dN\\xf1\\xc1\\x86W\\x0e\\xaf\\xe3\\x83\\xd0L\\x08\\xd6E@\\x82u\\x91\"t\\xe1\\xa9Y\\xd6ZI\\xea\\xf2\\xa9\\xcd_\\xa3\\xc1 .\"\\x97\\x9bc~\\xdc\\xd2\\xeb\\xe0 \\xc4\\x13\\xfcI{i\\xd0\\xc9\\xe6\\xaf\\n7<\\x9c\\xdaT\\xc8!\\xf7\\xff\\xd4\\xe6\\xaf\\x91f\\x90\\x1a\\xa6j0\\x1c\\xcf\\xbf\\xcd\\xb6@5![\\x17\\xab\\x0c\\x03=\\x9f\\xab\\x19#\\xffc\\xff\\x97\\xde\\xb3\\xd2<\\xa9\\xff\\xa7\\xf6~\\x8dH\\x83\\xb8\\x85\\x0c7\\xe1A6\\\\\\xef\\xe5\\xc6|_\\xc5\\x15\\xbc2\\xd5\\x02\\x80\\xf9\\xbe\\xe6\\x08\\x06\\xf8\\xf2\\xfd\\x94eJ\\xa6a\\xa4>\\xfb;1:\\xa3\\xd4\\xe0ch\\x9f-{\\xc5\\xe8\\x003\\xa3K\\xb4\\x1a\\x8e\\xf2\\x1e7{\\\\\\xfaHw\\x87\\xba\\x1a\\xc3\\xd3\\x9c\\xdeh7\\x88S\\xc8\\xfb\\x86\\xd1\\xb1\\xf7\\xeb=`\\xe840\\xa7O\\x04\\x1cD6U\\xab58\\xe3\\x0b\\xf0=5}J\\xb7A\\xa6\\xd2+\\xa9\\xdb\\x89\\xd4\\x19\\xe9\\x06n\\x01\\xaa\\xce\\x90\\x1dt\\x05\\xced6\\x93u\\xf8n\\xbfh\\xc4\\xc8\\xac\\x17~\\x14\\xc8:|\\xd7dx\\xda\\xe5F\\xc1Aj\\xdc\\xbb\\xdch8\\x04v\\x97\\xcf\\xd8-\\xaa\\xe2\\xe05\\xa5\\x14\\xa0\\xb5\\x0c2<T\\xcc\\xd5\\x02\\xae\\xef*\\xd9\\xd5l\\x17kx\\xbe\\x1a\\xaeO\\xb0\\x10\\xaf\\xba/F\\xdc!\\xa8\\x86\\x07\\x9b\\xc2\\x99\\xbeC+\\xb7\\x8f\\x1c\\xbe\\xaf\\x89\\xfb\\x07\\xc2/\\xfa)\\x92\\xfa\\x7f\\x8a\\xe3\\x19\\x91\\x07\\xa9U\\xf2\\xbf\\xb9\\xf7K]^\\x95\\x1c\\x92m0\\xc0\\xcc\\xf1\\x00\\xb0\\xff\\xf5\\x1c_t\\xac_KK-\\x9f\\xe2xF\\xefA*\\x95,7\\x1c\\xcf?\\x13\\xb6\\xa8xC\\xb6\\x8cS\\x9c\\x97q\\xaa\\xee\\xc0\\xcb8Eh\\x19W\\xeb>,\\xa2\\x920An{\\xeac\\xb2#\\xe9\\x87^\\xdaIn\\xd9\\xf0\\xc1\\xd52r\\xa3j\\x0e\\xfe]\\x9f\\xafVn\\x12\\xf4\\x07\\x12\\xec\\x01\\x92d\\x84\\xeb\\xe4S\\xac\\xce\\xe8?\\x88\\x03\\xc9\\xe3\\x86\\xd5\\xb1\\xe1\\xf5\\x91>(7\\xf02\\x0e\\x00\\x93\\x1b\\x00\\xac\\x17\\xb8\\xd4*\\x10KWvx~l3\\x91\\xbaW\\xe2tF\\t\\xc2\\xef\\x8c}\\xb6?\\xd6\\x87\\xa8d\\x07\\x10\\xf0\\x87\\xab.\\x19\\xc0<A\\xc32N\\xcb{Hn\\x900}\\xbcB\\xae\\xf7L5{s\\xa5\\xe3\\x958\\x9e\\x11\\x88\\x08\\xaaAw\\x80\\x93p\\x15\\x94\\x1d\\x82\\x19>\\xbd\\xec\\x81,\\xf4\\x12b3\\xacZ\\xd2u\\xe5\\x87\\xe7\\xddo\\x0e\\xf6\\x91P\\xc4b\\x94\"\\x02\\xbb\\xf5\\xe4^\\xbc\\x8aW\\xad\\x08\\xff\\xd2t+\\xd6\\xda\\xa0\\xee\\x07\\xa9\\x0bW\\xf1\\xc8\\x94=N#\\xb1\\xeb\\x19\\x8f\\x1b\\xcd\\x08\\xa9T\\xdf\\xdf\\x8dj\\x04[\\x0e\\x05\\x87\\xecH#`\\xa6\\xb3\\x89pD\\xfb\\xf1X%\\x04t\\x16\\xa0<\\xcet\\xfcJ;\\xd4u\\t\\x88\\xa7\\x9dn\\x04#\\xc4\\x17d\\xba\\xd9\\xd8\\xa5\\xa1NU!\\xb2\\xdb\\xba\\xc0\\xf9\\xfe\\x82fd>\\x03\\xe4j\\xe0x\\xe4b\\xa9u#\\x96\\xae\\x05\\xf1\\xbc\\xe1\\x86\\xc8\\x91tD/\\xad\\x98\\xdcT\\xed!\\x89\\xcd\\xabz\\x04\\xed\\xce\\x90\\x18\\x04Z\\xbb\\x96\\xf7p\\xb0C\\xc2-]\\xcet\\x8d\\x88\\xe7\\xab\\xc1\\x9c\\xf3#I\\x89\\xc5hJ\\xf8)\\xeb\\xb3\\xc1cC69\\xeerhA\\xd0q\\x97L>\\xe2[\\xcb$Au\\x05\\xd2\\x86?\\xc5\\xea\\x8cx\\x84x\\x9b\\x1a\\xbeau\\xfe\\xed\\xc8E\\x95 2\\xff\\xe3z\\xae\\x7f\\x95\\xea\\xc8\\xc7{\\x12Z\\xa2\\x1f\\xe5\\x7f\\x1fy\\x1e\\xb7\\r\\x9c\\x0eLOzw\\t\\x89\\xe7\\xdb\\x86\\xd9\\xd3%\\xc5\\x89\\xc5HN\\x04m\\xa3\\xe6\\x7f*\"\\xc1\\xfc\\x0fH\\x10\\xdc\\xca\\x84\\'\\xa4\\x8e\\xb0C\\xdc\\xea\\xc8?|r\\x80\\xf9\\x989E\\x0fE\\xdb\\xe1\\x0f\\xff8x1iS,\\r?\\x87\\x0en:5=\\x84r\\x04\\xd3C\\x00L\\x0f5\\x07\\xf3\\x03 i\\x8f\\x99\\n\\xf9\\x19\\x15\\n\\xa9S\\xea1&\\xe4\\xc7f\\xd7\\xf4\\x10\\x8a\\x13\\x9e\\x1e~-\\x00\\xf8y E\\xe81\\x05i\\r\\xf8[!wP0}\\xee\\xa2\\x8bO<\\xdfK\\x0c]\\xbc\\x11]4b\\x15A/\\x19\\x14.\\xbb\\x00\\x08\\x8d\\x89`\\x02\\xc5\\x1e\\xad_6\\xca\\xf8\\x99\\x1d\\x17\\xac\\xf5*\\x96\\xaeA\\xf1\\xbc\\xd9\\x86-\\x92dE/\\xad\\xea\\x04u\\x08\\x10R\\x13|>T\\xe5,\\xf8|(\\x10\\x0e\\x00\\xd7\\xb2\\x15r\\x04i\\x86*\\x1a\\xe1\\n\\xa9j\\xdf\\t\\x8ct\\x05{\\x1b\\xa2\\x12\\xb2\\t\\x1e>\\xf7\\xd6~L\\xb4\\x93\\xf7\\xa5@\\xf0\\x8c\\x87\\nXP,\\xa0\\x16\\xb0X\\xba(\\xc5\\xd3\\xee6\\x12\\x16\\xe2\\\\\\xb2\\xdb\\xf0D\\xea\\xfcP\\x97\\x90K\\xc0o/\\xeft9\\xf8W\\xfb1\\xcdnn\\xe6\\x9a\\x91G=U\\xb2\\xf0\\x17\\xfc\\x7fka\\xf1c7\\x9a-]:t\\xf5\\x8a\\xe7\\xeb\\xc5\\xd0H\\x12\\xbbX\\x8c\\xda\\x85\\xff\\xa9\\x9f\\rnvg\\xbd_\\xf5.h\\xa7[u-\\xb8\\xf7\\x03\\xf1\\xf5\\xf5\\xa3\\x7f*\\x9b\\x0b\\xba\\x8a\\xc5\\xf3f\\x1b\\xdaH\\xa2\\x17\\x8bQ\\xbd\\x08\\xcc~p\\x00P\\x85/h\\xb1H:\\x16\\xa0\\xcf\\xaa\\xa3\\x11\\x9e\\x85=D6\\xd2S~]\\xd3\\xe2y\\xe3\\xcd)?\\x92\\xc0X\\x8c\\x06F`|\\xf9(`\\xcb\\xdd\\xbb\\x02\\xc5IH\\xd5BmGyo\\x11\\xf5A\\xa6+\\x97\\xb2\\xcb\\xc5.p\\xf1\\xbc\\xe9\\x86\\x12\\x92\\x1e\\xc6b\\x041\\x02\\xd3kJ\\x08\\x85\\x8b\\xc5?|\\xfd\\xdd\\xca\\r\\x83\\x04*\\x96\\x11\\xd2>\\x05\\xd3\\x89~J\\x1bc1\\xe2\\x18\\xe2&\\x1a\\x02\\xaf\\xb4/\\xb0\\xbd>\\xcf\\x07U\\x0b\\xde\\xfb#\\xb9\\x0bu;\\xca{\\xb8*@\\x01\\xf9\\xb5\\xb8\\xae\\x82\\xf1|\\x130QB\\x12\\xcdXZi\\xc7\\xc4\\x1fTC}\\x9e\\x0f2\\x18\\xbeve\\x02\\x04\\xa5\\xe3\\x89\\x1fH0\\xe2\\xd5;\\xbfS\\xd2\\x19\\x8b\\xd1\\xce\\x90\\xb6@\\xde\\xbf\\x9e\\xe5\\x0b\\xcc~p/$\\xd5\\xcfh\\x7f\\xb85\\xfd\\xe0\\xb2s\\xa6\\xa0\\xa1Y\\xd2\\xa1~\\xea\\xf4\\x9e\\x11\\xd1\\x107\\x90\\xe1\\xd7\\xbd\\xde\\xc0p\\xbd\\xf8\\x11\\xef\\xf4\\xab,\\x06\\xed\\xf4\\x03\\x08\\xe6}\\x9c\\xdd\\xe3w=j%\\r\\xa1N3D\\xcfhiH\\x8dz\\xb3\\x8d\\x9a\\x86?\\x01\\xff\\xd9\\xfeX\\xf3Z\\x16\\x13T\\x11\\x0c/\\x14\\xac\\xf9\\x82{ \\xc8\\xb2\\xb2\\xdd$\\xc2aG\\xf8)A\\x8d\\xc5(j,oD\\xf4\\x8c\\xa6F`\\xb7\\x9e\\xdd\\x8bO-\\xab\\xaa\\x06\\xc5\\xc5H%\\x03\\xa3\\x1c\\xbe?\\xde\\xe7E\\xc2\\xfc$\\x7f\\x17\\xcfxz\\x943R\\x1b\\xc4\\xba\\xef2E]G9z\\xaeOe3\\x92\\xbd\\x10\\xc0\\xbc\\x17B\\xe2\\x19Z\\r\\xd8\\xfe\\r\\xe7x\\x95\\xe2H/\\xb5t\\x1d\\x8d\\xe7M7\\xdc\\x8ed7\\x16\\xa3\\xbb\\x11\\xb4\\x80\\xc1\\xed\\xb2m?(lH)\\xb6G}\\xb7r\\xc39\\x1e\\xdf\\xd7p\\x8e\\x07\\xb8\\xa7\\xe7\\xb9\\xa6\\xe47\\x16\\xa3\\xbfA<D\\xdc~\\x8d\\n\\x06\\xb6\\xd7\\x178 \\x9c\\xc1\\xab\\x1c\\x95\\xda`:\\x0f$\\xe8\\xf4\\xf5i\\xbe.\\xac\\xf1\\xbc\\xcb\\r\\xad#\\x1d\\x8e\\xc5\\x08q\\x04f\\xe34_\\xb6\\xbaS-\\x0e\\xa2\\xf3$\\xad\\xa1\\xcd]\\x0b\\x8c(\\xad\\nu\\xe4\\x9c\\xb6\\xcbl<o\\xbc\\t\\xe7\\x91*\\xc7bd9\\x02\\xe3\\xc1\\xc3\\xb2%=\\x942|\\xb9_\\xad\\xdc\\x1e;\\xe7P\\xb0\\x8ak\\xd0\\x92\\x1e@6\\xb1O\\x89n,FuC\\\\L3\\x9c!r<\\xc4\\xd5G\\xf8TH\\x83&v\\x00<\\xb1\\x03\\xd88\\xf0_ko,]O\\xe3yw\\x9bx\\x1d\\xc9o\\xf4\\xd2N\\xfe\\xcaf? r\\x90\\xda\\x08.\\xf8\\x02\\t\\x88\\x1c\\x10~\\xaa\\x90t;\\xdc\\xcc>E\\xe4\\x8c\\x08\\x87x\\x9f\\xfcm\\x88\\x1c=\\xd0\\x06y\\x8c\\x94\\xd1`\\xfb\\x97\\x19\\r\\xf6q\\x99\\xb8\\xab\\x12G`w}\\rcJ\\x8bC\\x04\\xd9\\xaf\\xe1\\xfawbrF\\x8e\\xc3\\xdf\\xd9\\xfbl\\xd9\\xfbz<y\\xc1$\\x11\\xe4\\xf8\\xd2|\\xdc\\xce5\\x07/XH\\xc4\\xc3\\xba{J\\x84c1*\\x1c\\xcb;\\x119\\xa3\\xc3\\x11\\x98\\xfd\\xe0\\x12\\x06\\x147\\xf8\\xc4\\x16\\x00:\\xb1\\xa5\\xda\\x1da\\x88F\\xc1\\x974D3\\xa5\\xc8\\xb1\\x18I\\x0eq\\x85o\\xebF\\x94#0\\x1ejh\\xb1\\xa4r+}\\x8c\\xdct\\r\\x95d60\\xa1\\xe1{\\xcca\\x14\\xcc\\x9ed_\\xba\\xe2\\xc6\\xd3\\x03\\x9c\\xd1\\xe7\\x90f@\\xb6_O\\xea\\x05\\xb6#6\\x97PW\\xd5\\xe8\\xa0\\xf0\\x14\\x00\\xf6;\\xca\\x0b\\xa9+2m)u\\x9d\\x92\\xeaX\\x8cV\\x87\\xb8\\x89L7\\xf4\\x8d\\x868\\xd5\\xd7H6uU\\xaf\\x83\\x16/$\\xbf\\xa1^Gd\\xeea\\x88\\x06\\x05\\xe4\\xcf\\xd2wU\\x8e\\xe7[\\x80\\xa1s$\\xe2\\xb1\\x18\\x15\\x8f\\xa0\\x05\\x80}e\\x8c\\x06\\xb2\\x1a\\xcchTo\\x83\\x19\\r\\x10\\xa6\\xb1\\x002F3\\xa5\\xd0\\xb1\\x18\\x89\\x0ei\\x0c\\xe4~\\x13\\xa1c\\xf7\\xd7O\\xb5@?\\x83\\xd9;\\x80\\xe0\\xa9\\x16 \\xbc1\\x0b 5{jc\\xd6hq\\x88s\\xc9lC\\xe4\\xdc\\xbaK&\\xb8A\\xe4\\xb2=\\x88L\\x8fC\\xf3Ef#VG\\xfc\\xb5\\x96\\xe4X\\xba\\xcc\\xc6\\xf3\\xad\\xdc\\x109R\\xe5\\xe8\\xa5\\x9dD\\x8e\\xcd\\xd6\\xbb\\x18\\xc9\\x96\\x94*s\\xd0\\xa2\\x05\\x00\\x0ft\\xc7\\xe5\\x8e\\xe0\\x08\\xc2QZ\\xea\\xf2).g\\x847\\xc4\\x13\\xe4r\\xc3\\xe5\\xd8\\xf6\\x07Wj!\\x93\\x11\\xf4\\xf0\\xf4J-\\xb2\\x04=\\xbc\\xe4r\\xb2\\xad?\\x11\\x95\\x1b\\xa9\\x8f\\xa3\\x17>~r\\xefx\\xee\\xf3\\x06\\x17Q9\\x85)\\xf8\\xac\\x00G\\xe5\\x14aY_E\\x12\\x7f\\xafS\\x9a\\x1a#\\xf5i\\xb7\\'s\\x1d\\xaf\\xec\\x1ed.\\x89\\xc9\\xb4\\xdc\\x83\\xcf\\xf8\\xeb\\x17\\x8a\\xf8\\xb6\\xae\\xdfC>\\xa3`zDm\\x9dR\\xce\\x18\\xa9\\xd5v\\xaah\\xf1\\xb9\\t\\xc5\\xf9\\xb6\\xde`\\x9c\\xa6\\x8c\\xf4w\\x14\\xa6}\\x17\\x05\\xd8t\\xbd\\x89\\xf1@|\\xea\\xf8\\xc3\\xd9\\xf6\\xd3:%\\xa41R\\x9f\\xd5\\xe0i]\\xc7\\xab&\\x80\\'\\xf7\\xe2eL\\xcb\\xddw\\x19\\xfcr]\\x01Z\\xc6(@}\\xe2G\\x91\\xb4\\xe5\\xcf\\x9c\\xd3[\\x8d\\x8c\\x86\\xd4\\xa9\\x1b\\xe9:^\\x99]n\\xb6\\xb6\\xdc\\xe1f\\xab\\x02\\xec\\xfdb\\xb3U3]\\x1f\\x022+8\\x99*\\xa7\\x06\\xbb+\\x8d\\x93Z%\\xd3\\xafwl\\xfd\\xfb\"\\x9f\\xed\\x8f\\x95\\x83\\xdd\\x80\\x83\\xc1\\x0e\\xf4\\x8f\\x16\\xecZ\\xe2U(h\\x1c\\xcdU$u\\xf9\\xcc\\xf9:Yx\\\\\\x16\\xecR\\xa9d\\xb7\\xa1q\\xfe\\t\\xb6\\x96\\xbdw\\xf8\\x84\\xbe*N\\x93\\xdb\\x91\\x91\\xe8\\xab\"\\xbe\\x13\\xfc>\\xb2D\\x07\\xcd\\x0e0\\xad\\x95\\x19\\x96\\xb7v=\\x8e\\xb3\\xff{\\x96\\xd7\\xf1\\xb3#p\\xad\\x0cN\\x96N\\x01\\xa0l>,\\xf4\\xd5\\xcam\\xd5\\xc9\\xa71\\x15Y\\xe9\\x04\\xce\\x81D!{\\x05\\xb3\\x03\\xcc\\xb2O8\\xd5I\\xae,P\\xaa\\x9c\\x1a\\x8b\\xd9\\x97\\xe5j)o\\xe4\\xb6\\xdf\\xd2\\xc7\\x07\\x7f\\x8eW\\x01>\\x8fu \\x9e\\tIc\\xc1\\xdfz\\xb4\\x1c\\xd4\\x84\\xd9\\xa2x\\x9d\\x92\\xe9\\x18\\xa9\\xcf\\x86\\xe3\\xb9b\\xc7\\xab\\x86\\xa3\\\\1>\\xe2\\xdd\\xb2\\xf7\\xeeF\\xf7\\xd7\\x14\\xe1\\x80\\xa7\"\\x14\\x01S \\xeb1]j\\xe3\\xd9\\x05\\xc2j\\x849\\xa4R}\\xd30\\xc2\\x1c<~\\xd6\\xc2\\x1c\\xad\\xf4h\\xea\\xf8R\\x80\\x0f\\xac\\x9e\\x88\\xfd%\\xbf\\x15\\x90C%\\xbct8\\xc0l\\x8bk\\xed\\xca\\x1b\\xcf\\xd7JS\\xf58\\x9b\\x03QI\\xa3\\xd3\\x11\\xd4J\\x1d\\x17l?\\xa6W\\x8b?\\xb2\\xa6\\x00\\xdd\\x99\\xfd>\\x10z\\xac\\xeb@\\xa2\\x98\\xa1\\x82\\xd9A\\xbe\\xb5+s<_-\\xd7\\x83|R\\xe7\\xd4X\\x0c\\xcb\\xa4q\\xa4\\xd6\\xf1h\\xbf%\\xaa\\x15\\xb1=~\\xecY\\xbf\\xcb\\x06|\\xd4\"F\\xa6t|\\xe8\\xe2\\x1c\\xcf[~\\xdd\\xef\\x95Z%\\xcbM\\xbc\\x90-\\xaf\\x89%\\x949\\xe88\\xfb\\n\\x80\\x89\\xa5jy\\xd0I^\\xcd\\x92\\x8e\\x0eS\\xc4\\xd2HwH}\\x93\\xd9&V\\xe8\\x9fg[U\\x9b#\\xd9\\xf3T\\xdc\\x07\\xdfdx\\x00\\x83\\x0c\\x0c\\x07\\x19\\xf5a\\x13\\xcd\\x92\\xda=\\xc5*\\x8dl\\x87T)\\xd9mX%\\xdb]\\x07\\x07W\\xc8pxv%-=>\\xc2\\xa7\\xdf\\xe5Lq\\xd4\\xd2u#8\\xb5}\\x8aY\\x1a\\xad\\x0e\\xa9V\\xb2\\xdd0K\\xb6\\x1d\\xcc2\\x0e\\x8d\\xaf\\x90\\xd7\\xa0S\\x1d\\n\\xd0b\\x02\\x19\\x92N>\\xfeX*\\xd6\\xb1N\\x89u\\x8c\\xd4\\xc7\\xb0Ob\\x1d\\x1d?Y\\x00\\x9b^\\xd3G\\xd5\\xea`\\xfa\\x08$\\xa0\\x8f\\xaa\\xd5A!\\xa3\\xf6[\\xdah\\x99\\xfa|\\x8a \\x1a\\xb1\\x0eq\\x05\\xf9\\xdc\\x10D6\\xbc&\\x88\\x89V\\x87t\\xf3\\xec6\\xef\\x81\\xd0\\xb6\\xa7\"\\xa9\\xdd3!\\xc2\\xb5\\xabz\\x9c\\x0e\\'\\xdagt:\\xfc\\x8bi\\x9f-{\\xb5z\\x04\\xcc\\xabG\\x00A\\xa8\\x0c\\xc8\\xf5qE\\xac\\x1e\\x81dvO\\tu\\x08\\xdb\\xbc\\xf2\\x1b\\x12\\xea\\xe8x\\xd1\\xd0!\\x9e\\x91\\xbc\\xc1\\xd6r\\xc7q\\x12\\x00<\\xaa\\x03\\xe0\\xcb\\xfbZVj\\xf6\\x8c\\xfc\\xdajt:\\xc4{\\xbe\\x99\\x1b\\x9d\\x0e\\xff\\x14\\xe5g\\xcb\\xde\\xec\\xca\\x96\\x87\\x80\\xe5p\\x84-\\xf7K3\\x06\\xfd[\\xf3p;\\'q\\x0f\\x1b%\\x99\\x92\\xe9X\\x8dL\\x07\\xad5\\xee\\x1d?\\xfd\\xed_\"kp\\xd5\\xce\\x01s;W\\xc1\\r\\x8e\\x92\\x00\\xd9\\xbd\\xc6\\xef\\x8f\\xfe\\xad\\xd4\\xe13\\x0f\\xb2\\xac]\\xcf\\xe3\\xe8\\xdf\\xa4\\xd0\\xd1\\xf1\\xca\\xee\\xf2\\xd1\\xbd\\x96;&\\xac\\x89B\\x87f\\x90\\x83\\x06\\xc14\\x8eL\\xe9\\x92\\xbf\\xcbl<MX\\x8d(\\x87T*5u\\xc3\\xdc\\xd8\\xe3uH\\x10*\\x1a\\x1f\\xae\\x07}\\xaf\\x89&\\x87~\\x8fgqdJ\\xc5\\xc6\\xd6)M\\x8e\\x91\\xfat:\\x91\\xb7VZ\\xe5\\xf4\\xfa\\xa0^+\\xbe{\\xdd\\x1f\\xe2Q X\\xbc\\xa9,\\x07\\xbd7\\xa8y\\xd2\\xd6>\\xc5\\xdc\\x8c\\n\\x87T9\\xf9\\xdc07\\xf6yy\\xe7vUI\\r\\x8a~\\x03\\x08F\\xf5Q\\xe0\\xf5Y)Lf\\xc8\\x92\\x9a=\\x15\\xf4\\xeb\\x9a\\x1d\\xa7\\xbf)\\xe8\\xd7\\xf0\\xca\\xdf\\x88\\xea\\xc5\\x07\\x1aVHj\\x90\\x96\\xba\\x02AtK\\xf59hK[\\xf3\\xa4vO\\x916\\xa3\\xc2!\\xee!w\\x1b\\xd2\\xc6\\xee\\xae\\xdf`Y\\xa1\\xa8\\xc1\\x8b\\x14\\x00\\xc4\\xd4U\\x82#\\\\\\xa4\\xa8rGj\\xfa\\x14o3:\\x1cR\\xabd\\xba\\xd9\\xda\\xf5\\x0fm\\xad\\x90\\xc3H\\x8e\\xe9)\\x1c\\xccg\\xd91=\\xcdr=b\\xadM\\xbd\\xde\\xda\\x9d\\x12\\xde\\x90(\\xf2\\x95\\xb7\\x91\\xf0F\\xc7\\xcf\\xa6Nv\\xab\\x1aF\\x16\\xf5\\x07\\xce.\\x07@.\\xd7\\x02C\\x97\\xab\\x8eG\\xe6\\xf2)u\\x8d\\xd5\\xa8kH}{\\x977\\xbc2}p\\xb7\\xe4\\x00G+=\\x9e\\xca\\x01\\xb0\\xe5\\xba\\x1d\\x1cM\\xe5\\xc8\\x94N\\xe5S\\x02\\x1a\\xab\\x11\\xd0\\xa0\\x8d\\x84{\\xc7+\\xcb\\xb1\\x17\\x9b,\\xc8\\xa1y\\xc1S9\\x89a\\x8c\\x03[\\xed\\xcf\\xf5Xv\\x18u\\x03x\\xfd\\x95\\x96\\xb7Nih\\xac=\\xf51\\xb4\\x93\\x86F\\xc7+\\xd3\\xcbk\\x16-w\\xb7\\xc4O\\xcb_\\x8a\\x04\\x84\\x1dy\\xf8\\x00\\xb6\\xe6I[\\xfbT\\xe0\\xadKj\\x9c\\x86\\x13}3\"\\x19\\xfe\\xb5\\xf8\\xcfUU0\\x92\\x8dl\\xc0~\\xd1!v\\x0f\\xda\\xc7S\\xb9\\na\\xf0:\\x85t5\\x9c\\xbf\\xa7\\xe2nF!Cj\\x94:\\xb9\\xa1n<\\xbe\\x1dW\"\\xc2c\\x0c*]A\\x1bU\\x00\\x82\\xa9\\\\E5\\xe8\\xbc\\xfd\\n$u\\xf7\\x14s\\xeb\\xa2\\x19\\xa7\\xbb\\x89\\xb95\\xbcj\\xe7zm6>\\xa6\\xb5\\xaa\\x0e\\x86\\x7f`H\\x81\\x80\\xb2\"\\x0b\\x05\\xf9\\x7f4Oj\\xf8\\x14w\\xeb2\\x19\\xa7\\xe1\\xc4\\xdd\\x8c\\xf0\\xc5\\xe6\\x9f\\xd6Z\\xa1l\\x91\\x05\"\\x00\\x07\\xed|p\\xbe\\xa0\\x9d\\xe3\\xc2\\x06\\x8f\\xf7\\x03\\x88$Q\\xf4W\\\\\\xdfXq\\x9d`\\x8a\\xd7\\x19E\\x0c\\xa9n\\xea\\x04\\x86\\xd7q\\x9d\\x80\\xd7e\\xe3=vk\\x89\\xc6C\\x11#\\xd8\\x92S\\x84\\xf7\\x9eT}#\\x9e\\x0b\\xf4\\xf5\\x95\\xc3\\x00W+S\\x94\\xcf\\x08dH\\x95S\\xad\\x18\\xca\\xc7\\xb5R\\x87\\xea\\xa0\\x8f\\xc1\\x94\\x0f@\\x10\\xaa\\x03\\xc2wMW Y\\x0f\\x99\\x12\\xc8X\\x8d@\\xc6\\xea\\xbb\\xc0\\xbd\\xe3\\xe7\\xd0@v\\x1f\\x02\\x19\\xf1c*-\\xfb\\x88i\\xf9\\x98\\x95f\\xe4\\x83\\x1e@8$]\\xebc\\xacS\\xfa\\x18#\\xf592\\x10\\xdf3\\xfa\\x18<2@\\xb2\"\\x8b\\xd5\\xa9\\n\\x06O\\xfd@\\x82\\xa9\\x1f\\x08?\\xac\\xda~k\\x15\\x8b\\x9f\\xd2\\xc7X{\\xea\\xc3p\\xdf\\xe7\\xc4\\xe1f\\x93\\x95\\x1d^\\xbe\\x96\\xd2r\\xc7[\\xcf*\\x9cA\\xd7+5\\x0b\\xaff\\x91%m\\xe7S\\xa1:\\xa3\\x8f!5\\xea\\xfb\\xb7\\xd1\\xc7\\x08\\xfc]\\xbf\\x96\\xb2\\xaa@\\x06M\\x81*\\x84\\xc1s\\x01\\x10\\xa2z\\xbf\\xb50Qm\\xa9u\\x175\\xa1\\xf4\\xb2d\\x0c\\x9cR\\xd2X\\x8d\\x92\\x86\\xf8\\x85\\xea\\xc8\\x04\\xf5\\xb8i \\xa8\\x97D:\\xa0}\\xc1\\x91\\x8eLb\\xe3\\xbb\\xfd\\xa0>z\\xd0t\\xa9Y\\x1e\\t\\xd1j\\tKv\\xa7i\\xed\"\\x1aO\\x87=\\x8d\\xe4\\x86T?\\xd5\\x90!\\x90\\xfe\\t\\xa6\\xf6\\xc7\\x9a=\\xd9*Q%7\\xe8\\xdc\\x06\\x00>\\xe6\\xaf%2o&\\x95\\x0e;9v\\xd1\\x8c\\xe7\\xcd6\\xa7\\x01Ibcm\\xa5\\x9d\\x93\\x04\\x9b=\\xf8c:X\\x82^\\x06\\x83%\\xf6_}\\x18_ZF\\x82\\xfc(\\x92\\xf6\\x88)\\xfeh$6\\xa4\\xb2\\xc9\\xdf&\\xf6\\xc7\\x86\\x97\\xf7sW\\x08f\\xf8u\\xa7X\\xe77_\\xb16\\xc6\\xf7\\x90%\\x02\\xbbrm\\xe7\\xf2)\\x96\\xd859\\xcei\\x82X\\xa2Q\\xd9\\xf0\\xf2R\\x9f\\xeb\\xa1\\xb2\\x91,\\x19Tf\\xc3\\xdf\\xde\\xd3\\x8c\\xdc\\xe35\\x9c\\xf8pL\\x1c\\t\\xaf[?\\xae\\x1e\\xa6x\\xa1\\x91\\xd9\\x10\\xc7P\\x0b0\\xbc\\x90[\\xc0\\x83\\x93{*\\x9b\\xc1\\'\\xf7\\x80\\x04\\'\\xf7\\x14qu$M\\xbf\\x8e\\x05N\\x89l\\xacFdC\\xdc\\xe2\\r7\"\\x1b\\xdc\\x00\\xa0\\x88\\x91\\xc5@\\x013!V\\x8d\\r\\xde\\xd3S\\x84\\xcc\\x06\\x90\\xf5\\xf8)\\x8d\\x8d\\xd5hlH\\x8d\\x92\\xd9&\\x0eH\\xfeVM\\x8c,\\x04\\n\\x9c\\x0f>kF\\xe6\\xc3@VR\\x13j\\xbf\\xb5\\xe2\\x85S\\xaa\\x1akO}txOW\\xee\\x1d/\\xc6x\\x15\\xc7H\\x96\\x85*\\xaaA\\xcbB\\x00\\xc1\\xb2P\\x11^\\x08\\x00I\\x1d>E\\x0c\\x8d\\xa8\\x86T)9\\xdc\\x1c\\xbdc\\x87+1\\x0c\\x1f\\xdbYU\\x06\\xc3\\xdfWU\\x80\\xc69d\\x90g\\xc0\\x1fp?$\\xcc\\xcf&u\\xcd\\x8c\\xa7\\xa7x\\xa3\\xb0!\\xce\\xa6j\\xb8r?\\xdf9?WU\\xd0\\xc8\\x8e\\xe2\\x01\\xf7\\x17#\\xbf5#\\xd7\\x03\\xc8\\xe4C\\x0e\\x8c\\x92\\xdf\\xb2\\x9b\\xdb\\xeb\\x94\\xe0\\xc6H}v\\x03bx\\xad\\xb4\\xa3\\x1b\\x04\\xf5P\\xbe\\xae\\xd7JOB\\xc2\\xa9\\xe0\\x86\\xe6\\t\\xce2\\xd4\\x82\\x1bk\\x97\\xd0x\\xbe\\x01\\x18\\x8eG\\x82\\x1b\\xbd\\xb4\\xca\\xf0\\xfa\\\\\\x1eD2\\xfc6\\xc0W+\\xb6\\x1f\\xe6a\\x8a\\xa7\\x8a\\x1b\\xfe\\x1c\\xf0\\x8f\\xe6I\\xfb\\xff\\x14\\xc5\\xeb\\xfa\\x1c\\xa7\\xc3\\x89\\xe2\\x19\\xc5\\x8d\\xc0\\xe1\\xf5\\xf6\\xae*np\\xffO(\\x9e*n<\\xee\\xff\\xb8\\x13\\x92\\xb7\\xfb)\\xbe\\xd7\\xf59\\xcej \\xbeg\\x147\\x82j\\x18\\xac+[\\xd9@$\\x83\\xeem\\xaf\\x00\\x82\\x95\\r\\x10>\\x81\\\\\\x0bn\\xacS\\x82\\x1b#\\xf5i6\\xd1;#\\xb8\\x11\\x98]\\xbe\\xac\\xd7Jo\\x8d\\x9b\\t~\"\\xb8\\xa1\\x19B\\x82\\x8f<B\\xcc\\x92\\xc5\\xfe\\x94\\xe0\\x86\\xc4\\x15\\xaf{\\xbd$\\xb8\\xd1\\xf1\\xa2\\xbf\\xab@FFt\\x803\\xd1\\xd1\\x8cLtT\\xc3\\x83\\x08\\x1e\\x89tXB?\\xa5\\xb6\\xb1\\x1a\\xb5\\r\\xa9p?\\xd15\\xbc\\xb2\\x1b\\x1b\\xb3\\x89\\x94T+\\xbe\\x8f\\xf0L\\xe8\\x81\\x04\\x84^\\x15:\\xd8\\xf0\\x9a\\xe0M\\xa9m\\xac=\\xf5\\xd1\\xd4Im\\xa3\\xe3\\xa7\\xe1\\xfe\\xd1\\xa5\\x06\\x8fH\\xeem{\\xd9\\xfc\\xb1\\xed_\\n\\xd3[\\'_\\x8a\\x04\\x11O\\x14\\x19\\\\\\xdc&\\x89\\x0e\\xe7\\xf1)\\x86\\xd7\\xd58N\\xc3\\x89\\xe1\\x19}\\r\\x1f\\x19\\xfc\\\\\\xa1\\x92\\x91\\xadd\\x00\\xf3JFu7x%\\xa3\\xba\\x1b\\xeco\\xff\\xfc\\x9e3{j\\x8f\\xd7\\xa8k\\x88\\x17\\xa8\\xa1\\x1bF\\xc7\\xfe.\\xdf\\xd1[!\\x95\\xc1#:\\x80`D\\x07\\xc2\\xb1*\\x00\\xe9\\xb86\\xb5\\xc7\\xdb\\xf55No\\x13\\x813\\x8a\\x19\\x81\\xb7\\x1f\\xdc\\xad\\x80\\xc8E0\\xae!c0\\xae\\x01\\xe1\\xc3\\xa8(,5|j\\x93\\xd7Hb\\x88\\x7f\\xc8\\xdf\\xd7 ]`x}<\\x0f2\\x16<\\x95\\x91\\xbe\\x05bU\\xf8\\x1eNeZX&\\x06\"\\xf2U3\\xf7O\\x8d*\\xc6J\\xaa\\x18\\xbd\\xb4jdS\\n\\x97\\xc4\\xaaT\\x16\\x83bU\\x00h\\xed\\xa2\\xea\\x16\\x0f\\xd7.HxK\\xe3\\xf7S2\\x18kO}6}\\xe2pF\\x06#h\\x01\\xf55\\x0b\\x95\\xc1 *K\\x9a\\x16\\xda\\x02P\\xdeC*\\x8b\\x02\\nf3\\x15\\xb2\\xeb\"\\x1ag5\\x10\\xa7kx\\xd5\\x1c\\x1e\\x84\\xecT\\xfe\"\\x98\\xe1G\\xceh\\x86\\x07\\xc2#~\\x1d\\xb2\\x9b\\x12\\xc6\\x90\\x83\\xb0WJG\\xc2\\x18\\x1d?\\r\\xf7o/5\\xb8S\\x97l\\r\\x0f\\x9c\\xd7\\xf0\\xa4r\\x81\\x06p(m<\\x8ae a\\xfa\\xf6\\xd6:%\\x941R\\x9f\\r\\x80(^+\\xad\\xaa\\x87\\xf2\\xfd\\xe4Vz\\xdf\\xe2\\xa4~\\x00\\x80\\x86\\x83C?\\xe3a5\\x8c\\x92\\xd3;\\xa5S\\xb2\\x18kO}\\xd4\\x02\\xc9bt\\xbc\\xaa\\x05\\x9c\\xc3\\xcb\\x08>D.x\"\\x04\\x10\\x9cv\\x02\\xc2K:\\x00\\xd9<8\\xa5\\x8b\\xb1\\xf6\\xd4\\xa7\\xddD\\xf7\\x8c.\\x86\\xdf\\xe4\\xfcl\\xd9{/H\\x02\\x99*\\x8bA\\x81L\\x00A \\x13H`vM\\xf7\\xa6\\x141\\xd6\\x9e\\xfa4\\x9b\\xe8\\x9eQ\\xc4\\x08\\xcc\\xd6x[\\xf2\\xc4\\x00D,\\xf8M\\xd5\\xf6\\x87{\\x04\\x87$r\\x15\\xe1\\x00\\x0e\\xc9hX\\x9e;\\xa5\\x87\\xb1\\xf6\\xd4\\xa7\\xe1D\\xf8\\x8c\\x1eF`x\\xfdD\\x0b\\x04,\\x98\\xde\\xabP\\x06\\xd3{\\xd5\\xbc\\x08\\xec\\xf6\\xf7o\\x9d\\xddS|\\xcfhaH]{\\xbe\\xd7\\xf0\\xaa\\x7f\\xd7\\x9b\\xb2P\\xac\\x08\\xd6s\\xaae\\xc1\\x11; \\xd7y\\x1c\\xa7\\xd4I@\\xc3\\x19>E\\xf7\\xbaV\\xc6\\xe9p\\x8a\\xd8\\x19\\xf5\\x8b\\xc0\\xe1\\xf5\\xa6,\\xa4,\\x98\\xe8\\x02\\xe0\\xe1\\xbd8\\xba\\x87<\\xd7A\\xc1Y>\\x15\\xa43\\x02\\x18+\\t`\\xac\\r\\xaf\\\\^\\x07\\xe9\\xa0e\\xc1K:\\x95\\xbf\\xe0\\xb3;\\x07b\\x1b\\xdfO\\xfb%\\xd5\\xd6T\\x17\\xb4x:4m\\xe4/V\\x92\\xbfX\\x1b~\\x9aM\\xaf\\x8fA\\x93B\\x9e\\x84\\xba\\xbd\\xbf\\xd0\\x81\\xc7_-{\\x12\\xb2Qe\\x8c`h\\xd3<dxM\\xe8\\xa6\\x040d\\xcb\\xefJ\\xe8H\\x00\\xa3\\xe3\\x85\\xe1\\x10\\xa5\\x10\\x11\\xae\\xf0\\xbc2`>\\x90\\xa3\\xf9x)\\xab\\x9a\\x19\\xd4\\t4\\xcbC\\xae\\x8f\\x84i\\x10sJ)c5J\\x19\\xe2H?\\x06\\x1a\\xa5\\x0c\\x7f\\\\\\xe7\\xb3e\\xefT.9\\xc7\\x0e\\xd8\\x0f\\x05_\\x9a\\x8f\\xcfti\\x81\\\\?\\xe3/\\x85\\xaba\\x95\\xcd\\xc8\\xe8\\xcf\\x94j\\xc6jT3h\\xd3\\xf8\\xde\\xf1\\xaa\\xcd\\xd4wq\\xa1s\\xc1\\xd3\\xa1\\xaam\\xf0t\\xa8\\x08\\xef\\xe3\\x92\\xd2\\x86\\x1d\\x1b\\xa7$3\\xd6\\x9e\\xfa\\x98\\x15H2\\xa3\\xe3\\x95\\xdd\\xa0}\\x19\\xdd\\x85\\xc8\\x05\\xd3\\xddCL\\xc3\\xf9\\xfc\\xbb\\xfd\\xc5\\xb1\\xb5\\xe5\\xc7\\x08R\\xd9pvO\\x85\\xf9\\x8c\\\\\\x86x\\x97\\xba\\x80\\t\\xf3\\xd1\\xe0\\x08q\\x8b\\xecl\\x16\\xe0\\x80\\x06\\x00\\t\\xc2\\xba\\x9a\\x87Ot\\x02I\\x1b\\xfaT\\xa0\\xaf\\xcbk\\x9c\\x0e\\'\\xdeg\\x043\\x82\\xbe\\xff\\xe0\\x1e\\xae\\nf\\xd0\\x89N\\xd5\\xbe\\x08z\\x7f\\xf2j\\xdf\\xef\\xf5\\xd0\\xcbx\\xb4\\x04D\\xc2\\xf4\\x9d\\xa9)Y\\x8d\\xb5\\xa7>\\xab\\x88(\\xa2\\x91\\xd5\\x08\\xaa\\xa8\\xde\\xd3\\x85\\x12\\x06\\xef\\xe9\\x1e\\xda\\x19\\xdc%\\xb0\\xdb\\xcb7\\x95kY\\x8duJVc\\xa4>\\xed&\\x86\\xd8J;\\xc7\\x02zN\\tZ\\x17\\xe9\\xbc\\t\\x02I\\x01\\x00\\xd2\\xc8@\\x1cD\\xcb{<9\\x8e\\x92\\xaf\\xb7b\\xdc\\xd00E\\x17\\xbb(\\xc7Y\\r\\x14\\x0flxU\\r\\xf5M\\x0f\\x08c\\x04\\xee\\xd7\\x8b\\x19\\xec~ \\xc1\\xc8P\\xf3\\xc5\\xae\\x9b\\xf14_4*\\x1b\\xd2\\x18hH4|\\x91\\xdd_\\xdf\\xe5\\x80dF0\\x05\\xa6\\xd7w\\x91\\xe5\\xfa\\xc4>\\x16F@\\xb2\\x11qJec5*\\x1b+\\xa9lt\\xbc\\xf07\\xa4/\\xb2\\xa9\\x00p0\\x15\\x00\\t\\xa6\\x02E8\\xf6Q\\xebl\\xacS:\\x1b#\\xf5\\xd9\\xd0\\x89\\x06\\x1a\\x9d\\r\\x7f|\\xf9\\xb3e\\xaf\\x8ee\\'2\\x1b_\\x9a/\\xd8\\xeaB\\x96\\xc0\\xeczGwJac5\\n\\x1b\\xe2]\\xdf\\xce\\x8d\\xc2F`6\\xeej$\\xec\\x17\\x92\\x18\\xcc~\\x01\\xf0\\xfc\\xa7\\x00\\xbf)I\\x9a\\x1cvX\\x9b\\x12\\xd7X\\x8d\\xb8\\x868\\x81\\xcc\\xbe\\x9e\\xd8\\x0b\\xcc~p\\x95C\\xd55h\\xe2\\x07\\x10\\xdcfT\\x84w\\xf8H\\x91\\xc3\\x19>E\\xf5\\x8c\\xb4\\x86x\\x9f\\x0c7T\\x8f\\x9e\\xd1Ri\\x8d\\x8c\\xe2\\x02g\\x8a\\xab\\x19y=\\xa8\\x08\\xedk\\x90\\x1c\\x87\\xb3{\\x8a\\xe9u\\xe5\\x8d\\xa3{\\x93\\x96\\xc6j\\xb44\\xfc!}\\xe9\\xde\\xba\\xa5\\x9b\\xac\\xff\\x15\\xe7\\r\\x1d \\xc1\\x86\\x0e\\x10\\xde\\xcb\\xae\\xc54\\xd6)1\\x8d\\x91\\xfa4\\x9c\\xf8[+\\xed\\x1c\\xd0\\xd9\\xe1\\xf5\\x96.\\x040\\x82\\x0e>\\xf2\\x05\\x1d\\x1c\\x8400{ \\xe9<6\\x15\\xe03b\\x1a\\xe2>j\\xe7\\x86\\xbe\\xb1\\xd9\\x0f\\xf6sUM\\x83;82\\x06\\x86\\xc7\\xf7v\\x7f\\xd6ZMc\\x9dR\\xd3\\x18\\xa9Ow\\x13_k\\xa5U\\xee\\xae\\xf9\\x9a\\xca_\\xd0\\xce\\x05\\x80`\\xe7\\x02H\\xf0\\xd88\\tp\\xb8\\xfe=\\xb5ak\\x944\\xa4J\\xc9\\xdf\\x86\\xaf\\xb1\\xbfk\\xbe\\x06U\\x0c\\xe6k\\x00\\x82\\xbb\\xb7\\x8a\\xf02\\x05H\\xd2\\xce\\x85\\x01M\\x9c[\\x18\\xa9O\\x7f\\xfb+\\x16\\x1d\\xcf\\xfd\\xdd\\xe0\\xb1_\\x1b\\x86\\xf7\\x14&U\\x05\\x05|\\x8c\\xea(\\xef\\xd12E\\x13\\xa6Q\\xedmJXc\\xa4>\\xab\\xc1\\xb3\\xb7\\x8eW\\xd5P>\\x9b\\xd7r\\x8f#\\xd7\\xfeY\\x06E\\x98\\xb6*\\xc2\\x1b\\x19\\x8a\\xa4\\xfeo/\\x18?\\xbbN\\xd9\\xba\\x06\\x87\\x1aN?\\xe3\\xde\\xf1\\xd3p\\xff\\xc2R\\x83\\x8b\\x13y\\n3_W$2\\xfcx\\xcc\\xc5\\xc5\\xac4Oj\\xf8\\xcc\\x89<9@x\\x89kK\\x9d\\xba\\x0e\\xdf\\xf1\\xca\\xf0\\xc1\\xe0\\x92\\x13y-w\\xa7\\xf3\\xfe\\x055\\x05\\xb8\\xc3\\x1f\\x08\\xdd\\xb1Q$\\xb5{\\x86\\xc0mFHC\\xaa\\x94\\xec6\\x04\\x8e\\x1d\\xae\\x17l\\xe3\\x83J\\xad\\xf8\\x11\\xce\\xb6\\xe5~)\\xc0\\xcc\\xf5@h\\xafR\\x91\\xd4\\xf0\\x19\\x06\\xb7u\\xd1\\x8d\\xb3\\xa5\\xfbX]\\xc7+\\x87\\xd7\\x87\\xf2Z\\xf6\\xd1\\x13\\xc8\\xf0\\xecP\\x9ef\\xa1\\x11^\\x81\\xd4\\xee\\x99=Z\\xd9q2\\r\\xdd\\x13\\xb8\\x8eWv\\x97\\x01\\xb8\\x96\\xbb\\xfb\\xdb\\xcf\\xe8\\n\\xf0\\x8c\\xae\\x08\\xb5\\x84\\x1fER\\xbbg\\x18\\xdcf\\x842\\xa4J\\xa9\\xa1\\x1b\\x06\\xc7\\r\\xbd\\xbcT\\xd1J\\x0fO\\xe0(\\xc03\\x9b\\x12\\xbb\\x07\\xe1W- U\\x8f\\xd9\\xa6\\x841F\\xea\\xb3\\xd9{B\\xd7\\xf1\\xca\\xfdz\\xe75^\\xb8\\xb4\\xec\\xf1\\xc6\\xa5\"\\xbcpQ\\x84\"\\x13\\n\\xa4\\xfe\\x9fat[W\\xc78\\r\\xf7\\x8c\\xae\\xe3\\x95\\xe1\\xe5\\xb5\\x8a\\x96\\xbb\\xd9M\\x0b\\x17\\x05\\x88\\xbf+p\\xf5\\xeb\\x08\\xc0)\\x92\\x99=\\xa5v\\xb1\\x19\\xb5\\x0b\\xa9Q\\xdf\\xec\\x8d\\xda\\x85\\xbfK\\xfc\\xd9\\xb2W\\x13\\xba\\x8aa\\xd0\\x86\\xadf\\x0c&t\\xcd\\xe3\\xab\\xe4\\xb7\\xe6\\x91MS~,V\\xc1\\xabj\\xab!\\xf8\\xdb\\x94\\xde\\xc5H}6\\x07bxF\\xef\"\\xa8\\x17\\xbds\\x11?2\\xd3\\x8a\\x8f\\x87\\x7f\\x00|\\x14M\\xb3\\xf0c+\\x8a\\xa4\\rb\\x8a\\xe1u\\xfd\\x8b\\xc3pR\\xb4\\xd8\\x1a~\\xf6\\x03\\xff\\xe0X\\x83\\x8b\\xfdi\\x85\\xb9\\x1f \\x1f\\xf7\\x03\\x00\\xd7\\xa7\\xa4\\xd0\\x0fH\\x04\\xc3\\xf9{\\x8a\\xdfu\\xf1\\x8b\\xd3l\\xe2w\\r\\xaf\\xcc.\\xdfE\\xde NA\\xe7T\\x14\\xe0x\\xac\"<\\xea\\xa1\\xac\\xd4\\xdbS\\xf4\\xce\\xc8Y\\x88w\\xa8\\xfb\\x1bz\\xc7\\xde\\x1e\\xf4-\\xa3\\xb5\\x10\\xad\\xa0u\\xac\\\\\\xc6\\x19\\xd3\\x00m\\xbd+\\x12\\xacc\\x90\\'\\xb5{\\x8a\\xdd\\x199\\x0b\\xa9k\\xb2\\xdb\\xdc\\x99e\\xbbA\\xd2\\xe2\\x13\\x97\\x1bD+h\\x9fI\\x81\\x80\\xe5 \\x0b\\xb1\\x1c\\x19\\xf5\\xf0\\xb7\\x1e\\xaeq5avEa\\xeb:\\x16O/\\xf5\\x8c\\xea\\x05]\\x9f\\xba\\xf7\\xd2\\xaa\\x1e\\x01\"\\x18\\x9f\\xe4i\\xb9#B\\xf4\\xa5@4\\x00\\xc61\\xbe\\x1f\\xcd\\x92\\xb6\\x8c)\\x1e\\xd8\\xf51\\xce\\x81\\x80x`\\xc3+\\xb3\\xebH\\xde\\x06\\x91\\n\\x1f!\\x14\\xbb\\xb3H\\xde\\x81\\x04C\\x81\\xbf\\x91\\xebF\\xc0\\x99\\xad\\xd7\\xcd(^H\\x9dR\\x970\\xa1<\\xee\\x12\\x0f\\x98\\x9f*[P\\xc8\\xba\\xfd\\xe1~\\xe8\\x84\\x8e\\xac)B{\\xaf\\n\\xa4\\x1e\\x9fb~F\\xf2Bj\\x9b\\x0c7\\xb1<\\xff\\x86\\xd4\\xa6\\xd2\\x15YC\\x071\\xa4X\\x8e\\xe6\\xa3-\\x8a\\xa3D^\\xda\\xd7\\x92\\x17\\xf2.\\xd7L,\\xc7H^H\\x95z\\xbb\\x1b~\\xb6t\\xb2\\x1b\\n\\x15K\\xb27\\xd3~LLq4#\\x1b\\x0e\\x84\\x8e]iY\\x99\\xbf\\xbb\\x8a\\xc5\\xd3\\x03\\x9b\\xd1\\xbc\\x90\\xca&\\xbb\\xcd]\\x0b\\xb6\\xbb\\xbeN\\xbb\\xa9\\x80\\x057t \\xc1\\x12\\xe7\\xc8\\xe3cX\\xb5\\xe6\\xc56\\xa5y1R\\x1fC\\x9b\\xefn\\xf7\\x8eW\\x0e/\\xcf\\xd9\\xb5\\xdcq\\x0c+\\xd5\\xbc\\xd0,7zKV\\x91\\xd4\\xe1S\\xdc\\xceh^\\x88\\x7f\\xc8\\xe1\\x86\\xdb\\xb1\\xc3\\xcb7\\x937\\xa8TP\\xd0\\xf2[\\x11Z\\xdb#G\\xbc\\x8eQ\\xd1\\x8b\\xec\\xb8\\xe96\\xa5z1R\\x9f>\\'\\x82\\xd7J\\xab|\\xfe ~\\xa7\\xb2\\x17~c\\xaa\\xfd\\xdd\\xbe\\xd0gB\\xaf\\x08\\xc7\\xefH*\\xc3NgS\\x9a\\x17[O}\\x1aN\\x0c\\xcfh^\\xf8\\xb7\\xa2>[\\xf6\\xde\\x9a7\\xb9\\x8a\\xb9\\xfa\\xfd\\xe5_\\n3\\xa1G\\xbe\\x80\\xd0\\x03\\xe1Y\\x1c@\\xda\\xd6\\xa7\\xc2wF\\xf1B\\xbc@m\\xdd\\xec\\xbfr[\\xaf\\xc3wP\\xa9\\xa0\\xa7\\xd1\\xa5\\x96zuqSGy\\x0f\\xc9\\xabJfd\\xaf\\x1en]\\xd3\\xe2\\xf91\\xbeq\\xbe\\xd3\\xfb\\xc4\\xe2\\x8c\\x02F\\xe0\\xfd\\xf2\\xc2E\\xfb-q4\\x07@\\xd0\\xe8qL.\\xf0~\\xcd\\xe1\\xba\\xa4\\xc5\\xf3f7\\xc6w\\x9aM\\x1c\\xae\\x95v\\xf6v\\xff2\\xd4\\xa6z\\x15\\t\\x95\\x01\\xcc\\xc1\\x1c\\xcd\\xe7C\\xd32\\x04\\x0en\\xc71k\\x92\\xccp}}\\x8a\\xc1\\x19\\xf1\\x0b\\xf1\\x0e5z\\xc3\\xe0\\xd8l\\x9c\\x82KVs\\xd0\\xc6\\x08\\x1a\\xbd\\xbf81\\x0eOn\\xc8\\xf0\\xf0A,M\\x98j\\x03\\xc8KY3\\x84\\xcehaH\\xd5\\xfbjhx\\xe1}U\\xa7H\\x86<\\xc0<\\xe4\\x01\\x08\\x86<\\x15\\xc3p\\xc3\\xc2O\\xb3\\xabu\\xa0l\\xc8\\x9b\\xd2\\xc1\\xd8\\x8c\\x0e\\x86\\xd4)\\x99m\\xf8\\x1cy\\x1f\\xd2\\x14\\xc9\\x19\\xc2Vz\\x9f\\xc8xS:\\x11\\xc2\\xd0\\x1c\\xf1\\xf4\\x8eL\\xd77\\xb2m\\xcb\\x9fR\\xc2\\xd8\\x8c\\x12\\x06\\x89\\xc5\\xdd;^\\xb9\\xbc\\xbe1\\xdb\\xb2\\xc7\\x1c^%/\\xb8\\xc7\\x03\\xe1\\x81\\x8e\\xd43\\x9c\\xddS\\x94\\xce\\xc8`H\\x8d\\x93\\xcf\\r\\xa5c\\x9fC\\xa7,>G\\xb8\\xa9\\xa4\\x05\\xad\\xd9\\x00\\xf0\\xf8\\x9e\\tgHS/o\\xccn]\\xd6\\xe2\\xe9\\xf1\\xdd\\x88`\\x88w\\xc8l\\xc3\\xe6\\xd8\\xec\\x07l\\xee\\x10\\xc9\\xb0\\xe5~\\xb5_\\x99\\xb09 \\x81\\xbbG\\x96\\xb4\\x8bO\\x85\\xeb\\x8c\\n\\x86T)\\xd9m\\xc2ulwyav\\x83p\\x05\\x87)U\\x05\\x83\\xc3\\x94@^yb\\xabU0\\xb6\\xaek\\xf1\\xbc\\xbf\\xcdf\\xac\\x97\\xd5\\x96\\xee}es\\xbeU~6\\xb8\\xbb-\\x99\\xcfU\\x04\\x83\\x9b9\\xf2\\x05\\xbd\\xfb\\xe0\\x87~\\xa5\\x8a\\xc2R\\x7fO\\x05\\xe1\\x8c\\x08\\x86\\xf8\\x87\\xfc}\\r\\xc2\\x05v#\\x96\\x96\\x85&\\xa0\\x82A\\xc7F7\\x00\\xd7M\\xa4>\\xa7\\x7f+\\xc2+UdI\\xed\\x9e\\x8a\\xc1\\x19\\xa1\\x0bq\\x1f\\xd9}\\xe5o\\x81\\xdd\\xfa\\x1cJr\\xda\\x02\\xe2\\x14\\x1c|T\\xd5\\x8a``\\xc3\\x05\\\\\\x9e\\xc2\\xcb\\xeb\\x0f[\\x17\\xa7x\\xbe\\x9d7\\xbaw\\xf0V\\x92\\xb2\\xe8\\xa5\\x1d\\xd3X`\\xf7 b\\xc9S~-w\\x8f5\\xfbG\\xca\\x15\\x88\\x98\\x0b\\xf6k\\xd9\\xec\\xf2\\xb2\\xec6\\xa5d1R\\x9ff\\x13ak\\xa5\\x15f\\x1fJ\\x16\\xc9f\\xbb\\xe2\\x1c\\x89\\x02B\\xd2Y\\xdf\\xed\\'\\xb5\\xba\\xa2\\xf3\\xf0\\nd\\xed|J\\xcab\\xeb\\xa9O\\xc3\\x89\\xb2\\x19)\\x0b\\xf6w-e\\xd1JO(\\x1b\\xc9R\\x80\\xb1\\xab\\x90E\\xb8\\xb3\\xac`\\x1a\\x91\\x99R\\xb3\\xd8\\x8c\\x9a\\x85T\\xab\\xef\\xe3F\\xcd\"\\xb0\\xbd\\x8e\\xc2A\\x81\\x82\\xe72\\x00\\xc1I2\\xd5\\xb9\\xa0#\\xd2\\xed\\xa7V4\\xbd\\x0bT<\\xdd\\xc7\\x8d\\x9c\\x85\\xf8\\x88\\xec\\xbeR\\xb6\\xc0\\xee\\x9a\\xb2\\xa94\\x05\\xcde\\x00xd\\x03\\xc0\\x9b\\x0b\\x00\\xd2\\x96>\\xb5\\xc1j\\x04*\\xa4B\\xc9\\xea+c\\x0b\\xac\\x06\\xf1J\\x96\\xa6*P\\xe1:\\x90tc\\xcf\\xbe\\xb4\\xa1+\\x91{t\\xac\\x08\\x05\\xe4\\xeb\\x94)\\x15\\x8a\\xcd\\xa8Pl\\xa4B\\xd1\\xf1s\\xa4\\xf3/\\xfb5\\xb8\"2\\xaaB\\xc1\\xceG>&2Z\"O\\xe8\\xb5\\x0c\\xc56%C1R\\x1f\\x03\\x1d\\xc9Pt\\xbc\\xb2{\\xd0\\xadl\\x7f\\x1d\\x92\\x12Ag\\x07Mc\\xe2\\x8a,\\xc4p~\\xdaO);\\xfb\\x14\\x813*\\x14\\xe2>j\\xf6\\x86\\xc0\\xb1\\xbf\\x07\\x81\\xcb&t\\x08Gp(\\x02@0\\xa1\\xab\\xd6\\x04M\\xe8$\\\\a\\x97\\xa5]T\\xe2\\xf91\\xce\\xc4\\xdfv\\xe2oF\\x82\\xc2?\\xdc\\xfe\\xb9\\xa9\\x04E\\xd6\\xdb\\x11L\\xa3\\xc3\\x93\\xc8\\x17\\x1c+\\xd0\\x12}\\x07\\xf8}\\xfc\\xad\\x87\\x91Y-\"\\x1d\\x0f\\xa7BuF\\x9cb#q\\x8a\\xad\\xe1U\\x87\\x18\\xf4+\\x0b\\xd6\\xa86\\x05\\x87(\\x81\\x90t\\x91\\x0c\\x95`\\x87\\x14\\xbbV\\xd1\\x8a\\x98\\x14\\x8c\\\\\\xd9\\xad\\xf7mJ\\xb9b\\xa4>\\x87\\t\"\\x82F\\xb9\\x82\\xdb\\r\\xe4$\\x12\\xd1\\xbfVz\\x1c\\xae\\x06\\xc0s#\\x00\\xd6:\\xd4\\xb2\\xb2\\xc60\\xa5\\\\\\xb1\\x19\\xe5\\nq\\x84\\x1f%\\x1a^4\\x06\\x15\\xa0H^\\xffk\\xc5w\\xdeO\\x9bS\\x9a10\\xfc\\xd8\\xdc\\xf5\\xeb\\xdbZ\\xb9b\\x9bR\\xae\\x18\\xa9\\x0f\\x7f\\xfb\\x9fq\\xefxe\\xf8\\x83\\xb0\\x1d\\xd4&x}\\xab\\x92\\x17<\\x1f\\x02a\\xde_+Wl]\\x8b\\xe2\\xe9\\xf1\\xd1(W\\x88\\x7f\\xc8\\xe1\\x86\\x03\\xfa\\xe7\\x1e\\xdb\\x1f\\xabh@\\xa2\\\\\\xf1u\\xe4\\x0b\\xcc>\\x9e\\xce#\\x7f\\xd7q\\xbb)\\xa9\\x8a\\xcdHU\\x88w\\xc9n\\xc3\\x02\\xd9n}\\xe9.9M\\nA\\x89\\xc0\\xdf\\xc8\\x18\\x18\\x0e\\x84\\xee\\xff\\xb6\\xdfZ\\xf1\\x80)m\\x8a\\xad\\xa7>\\x1b:\\x05\\xee\\x8c6\\x85\\xaf\\x97\\xcf\\x96}\\xf4\\xe0\\xf5\\xe5\\xfd\\xe6\\x05\\x1e~)\\xcc\\xa7I\\x91/\\xe8\\xdf\\xa3\\xc0\\xa0\\x99\\x97\\xef\\xdcmS\\xc2\\x14#\\xf5i5m\\xc2\\xb6\\xd2\\xce\\xee\\xcd\\xee\\xae7a3a\\x8a\\xf6g[m\\x054@\\xb3\\x10\\xfb\\x01\\x90\\x0e\\xe7S\\xa4\\xcf\\xe8R\\x88s\\xa8\\x95\\x1b\\xd2\\xc7fk\\xd4.\\tg\\xa8\\xce\\x04\\x873\\x80\\x04\\xe1\\x0c \\xbc\\xb4\\x05\\x90\\x1a>\\x15\\xb63J\\x14\\xe2\\x062\\xdc\\x84\\xed\\xd8\\xf0\\xc1\\xeb2R\\x03\\xf5\\x88\\xe0V\\x1c\\x90\\x80\\xd4\\x00\\t\\xday\\x1d\\xb6\\x9b\\x92\\xa2\\xd8z\\xea\\xb3\\x9d\\xd3\\xbe\\xab\\x91\\xa2\\x08zwy\\x0b\\xb6\\x95\\xde\\x9a3\\xafn\\x00\\x04\\xa1\\x0c\\x15\\x9c\\xe0\\xb3%$_ai\\xfe\\x94\\x10\\x85<\\x8ar\\rW\\x92\\x10E\\xc7\\x8b\\xfe\\xadz\\x12\\x19o\\x01\\xceaZ\\xcd\\xc8\\xe3\\x9ajWP\\x07\\xaf\\x85(\\xb6)!\\x8a\\x91\\xfa\\xf47\\xf15#D\\xc1\\xfe\\x86hD\\xb6\\xaaSM\\t\\n\\xd3\\xaa\\x0c\\x05=\\xe6\\xd8~Pk\"\\xbc\\xfb\\x04 \\xeb\\xdeS2\\x14\\x9b\\x91\\xa1\\xa0\\x17q\\xee\\x1d?\\xdd\\xed\\xdf+k\\xf0`-IT\\x1ex\\xe0nd\\x0c\\xdc\\xadE\\xb2\\xbf\\xeb\\x90]\\x17\\x96x\\x9a\\xae\\x19\\x19\\n\\xa9l?\\xae\\x19\\x19\\x8aW6\\xbc>8\\xa7j\\x13\\xbcX\\x03\\x12\\x8ck\\x9a\\x87\\x07t \\xa9\\xc7\\xa7\\xa2vF\\x88B\\x1cH\\x86\\x1b\\xbe\\xc6\\x86\\x0f\\n\\x956t\\\\z\\xe5\\x86>\\x80 |\\x01\\xbd\\t\\x1a\\xf2~\\xb6Z\\x89b\\xeb\\xda\\x12\\xcf;\\xbc\\xed\\xca\\x1e\\x1d\\xfcFt\\xcd(Q\\x04\\x0e\\xaf\\xf7Y\\xa1\\x1d\\xe1\\x07\\xf4\\xef\\xf6#-\\xe5D\\xb4\\x12\\xdf\\x97m\\xaf\\x95\\xe5\\xb4\\x80<Z\\xd9\\x95&\\x9e\\xaf\\x06\\xb3\\xedJ\\xba\\x14[+\\xad\\xea\\xf0\\xe0o\\xd9\\xf6#\\xb4$\\x98\\xae\\x03\\x08\\xb6\\x1f\\x15\\xe1p%\\x89Y\\xb8\\x89m\\x8a\\xc1\\x19Y\\n\\xa9Uj\\xf7\\x86\\xc1q\\xbb\\xaf\\x8f\\xcdA;\\x82\\xe9:\\x80`\\x9cK\\x1e1\\xd9H\\xc7\\xc2Y=E\\xdf\\x8c\\x08\\x858\\x97\\xac6\\xf4\\x8d\\xad.\\x1f1\\xd9T\\x84\\x82\\xa2v\\xaa!A\\xafR\\x1fYxt\\xaf\\xd9[\\x97\\x91x\\xbe\\x95\\x9bM\\xd7\\x1b\\xb17#:\\x11tv\\x9c\\x9aK\\x0e\\x17@s\"\\x18\\xdc\\x91\\x8f\\xd7\\xa4\\xc8\\x12\\xcc\\xe6\\xf5\\xa6\\xeb\\x94\\xe4\\x84\\xbc\\x0cc\\xc68\\x8a\\xb55\\xfc\\xec\\xdc\\xfe\\xa9\\xbd\\x96\\xbd\\x8dU\\x19YW\\x01\\t\\xb6\\x1bH0\\xa9\\x01aQ)\\xfdc\\xd9\\xa46\\xa51\\xb1\\xf5\\xd4\\xe7\\xe0N\\xec\\xcdhL\\xf8\\xc5\\xf6g\\xcb^\\xd2\\x18\\x15\\x99\\xa0h\\xdb!&\\xe1\\x9a\\xf3\\xb7\\x16\\x19\\\\\\xf6#a\\n\\xdb\\xbf\\xa7d%6#+A/\\x03\\xdd;^y\\\\\\xc9V\\xfch\\r\\x94 \\x02\\x87#\\x1f7tdY\\xb9\\xa5\\xd7\\xb2\\x122\\xa1\\xcc\\x9c\\x075\\xb2\\x12R\\xd9~\\\\3\\xb2\\x12\\x81\\xc3KY\\x89\\xf6[zl\\x86\\xc6\\xb5TVB\\xb3,|\\xc1\\x07y\\xd2\\x86>\\xc5\\xde\\x8c\\xae\\x84x\\x97\\xec6\\xec\\x8d{x\\xcd\\xde\\xa0\\x04\\xc1\\x9bO\\xaa*\\xc1\\xcb\\x14 t>\\xf3g\\xabe%\\xb6)Y\\x89\\x91\\xfa\\xe8\\xe0o\\xc4\\xde\\x8c\\xacD\\xe0\\xef\\xfa\\xd1\\xb9V|\\x1f\\x008\\xfe\\xa2\\xf2\\x11\\x9e\\x95K\\x0f\\x1fy\\x98\\xb6\\x00H\\x1d>u\\xe9\\xc1\\xe8JH\\x9d\\x92\\xc3\\r_c\\x87\\xe3.jr\\x1aT\\xd5#hw\\x19\\x00\\xd3\\x16U\\x95\\xe0\\xe0j\\xad*\\xb1u\\x9d\\x88\\xa7\\'p\\xa3*!UMf\\x1b\\xb6\\xc6f\\x0fr\\x95m.C\\x08\\x82\\xd9z\\xa2*\\xd1~|o\\x1f\\x0f\\xd9\\xbaJL\\xa4w=\\xbah\\xc4\\xf3\\xd5`6]Ibb3\\x12\\x13A\\xb3\\xd7\\x8b\\xabIp\\x1d\\xba\\x10\\xcc\\xd6\\x01\\x04l\\xfd\\xd0\\x98 \\x02W\\x8bLlS\"\\x13#\\xf5\\xd9\\xdf\\x89\\xc0\\x19\\x91\\t\\x1f\\x8e\\x95\\t\\xbd&p\\x80\\x83y-%p*>\\x11\\xcck5\\x83\\x9b\\xd2\\x98\\xd8\\x8c\\xc6\\x84\\xb8\\xd7\\xb7\\xfb\\x86\\x9f\\xf3\\xb9\\x7f|\\xafe\\xaf\\x18\\x9c\\xeaB\\xb0\\xe1@\\x02\\x06whI\\x90\\xc3\\x81d\\xe3\\xdc\\x94v\\xc4f\\xb4#\\xc4\\x7fd\\xb8\\xd9/e\\xc3\\xc1\\xe0\\x92\\xe3\\x05\\xaa\\x04A\\x13:\\x80`_A\\x11\\x0e\\xc7\\x00I\\xed\\x9ez\\x93\\xc4\\x08D\\x88\\xff\\xc8\\xee\\xeb\\x9b$\\xdc\\xd0!\\xda\\x90m\\x8f\\x03\\xe6e)\\x00\\x1e\\xdf\\x01\\x88\\xfc\\x9c\\xdf5\\xac\\xf5!\\xb6)}\\x88\\x91\\xfa\\xe8\\xdf\\xa4\\x0f\\xd1\\xf1\\xaa\\x9d\\xd7\\xfa\\x10-\\xfb\\xe8\\x07\\xd6\\x88/\\x05\\x82\\x81M\\xb3\\xb0\\xdd\\xf5niW|xz@7\\xfa\\x10\\x1b\\xe9Cl\\r\\xaf\\xec~p\\xcb\\x01\\x92\\x0e\\x1coU\\x15\\x88\\xc0\\xe1(2px\\xbd[\\xda\\x15\\x1f\\x9e7\\xdc\\x84\\xdf\\xde\\x89\\xc0\\x19}\\x88\\xa0\\x9d\\xd7\\xe17\\x085\\xf0~\\x8aJ=\\xf0i1 4\\xe2\\xfd\\xde\\x0ey\\x88G\\xa19M\\x98N\\xf6S\\xfa\\x10\\x9b\\xd1\\x87\\x90\\x96@C\\x81\\xa1z\\xf4L\\x1b4\\x1b\\x96l\\xebE\\x05\"h\\x11\\xab\\x19\\x83\\xb6\\x813z\\xdc\\'\\xea\\x03uS\\xfa\\x10[O}\\x8e\\x05\\xc4\\xf5\\x8c>\\x84\\xdf\\x81\\xfcl\\xd9\\xcb9\\x0f\\xd4-\\x98\\xf3p\\xd5\\x95\\x1f\\xe7@\\x91;\\xbfRA\\xa2\\x12v\\xf1\\xde5\\x1e\\x9e\\xef\\x13\\x86\\xdd\\xbdSp\\xce(B\\x04\\x86?`w\\x90\\x84`v\\x07 \\x1a\\x04Q$o\\xae\"O:\\xe9M\\x9d\\x943\\x92\\x10\\xe2@j\\xe9\\xe6\\xa4\\x1c\\xb7\\xf4\\xfaN\\x04T\\x1cx\\x15\\x0b \\xd8\\x83\\x00\\xc2{\\xab\\xb5\"\\xc46\\xa5\\x081R\\x9f\\r\\x9d\\xc8]+\\xed\\x1c\\xfc\\xc9l\\x95|H\\xa2\\x92\\x80\\xb9\\x9d\\x1fR\\x11\\x14\\xa4R\\x84\\xc7\\xfeZ\\x10b\\x9b\\x12\\x84\\x18\\xa9O\\xbb\\x89\\xdb\\x19A\\x08n\\xe7\\x90o\\xc8\\x16s\\xaa\\x17\\xe1\\xc6\\xcb\\xef\\xf6g\\xc3\\xad\\x17|\\x7f\\xbc\\xf5\\x82\\x84\\xaf\\x97a\\xc0v\\xf7)\\x81\\x88\\xcd\\x08DHc\\xf0\\xad\\xde\\x08D\\x04\\xd5P??\\x97\\tD\\xb4?\\xdb\\xaa\\x81Gw\\x00\\xc1\\xc6[-\\x10\\xb1M\\tD\\x8c\\xd4\\x87\\xf7I \\xa2\\xe3U\\xab\\xafCu\\xaa\\x0fA\\xcc\\x1e@\\xc0\\xec3\\xe5\\x88\\x9f\\xf6Sl\\x8bq\\xee\\x9e\\n\\xd5\\x19}\\x08\\xf1\\x02\\xb9\\xdbP=ztJ\\xc5\\x1c\\xb2\\xe9\\x1c8S=\\xcd\\x188|\\x10:^\\xc2\\xd6\\xfa\\x10[W|xzV3\\xfa\\x10R\\xa5d\\xf7\\xf5B\\xeb+\\xdb]3=(:p\\xe8\\x86\\xa4\\x1e\\xb0\\xd1z\\xe8M<bs\\x9apI\\xe9\\xdc\\x94\\\\\\xc4\\xd6S\\x9f\\xed\\x9e\\xe8\\x9c\\x91\\x8b\\x08\\xea\\xa1\\x8e\\xdcer\\x11\\xed\\xcf&\\xdd=9B\\'\\xcd\\xbefs]\\x00\\xe2y\\xf7\\x9b\\xe7IH.bk\\xa5\\x9d\\xdd\\x9d\\xdd__\\x8fP\\xb5\\x08:_\\x00 \\x98\\xdb\\x81\\xf0:\\xbeV\\x8b\\xd8\\xa6\\xd4\"F\\xea\\xd3\\xdb\\xc4\\xe5\\x8cZD\\xe0m\\xbd\\xde\\x1ao\\xc4\\xa8Z\\x04\\xc5i\\x01\\x04TNu$\\x98\\xd3\\xd4j\\x11[\\xd7\\x7fx\\xde\\xddf\\xa7\\x95\\xd4\"zi\\x95\\xbb\\xebK\\x0f\\x87\\xf4\\x03\\x1b\\x8e[\\xacL\\xde5\\x0fs\\xd8Z.b\\x9f\\x92\\x8b\\x18\\xa9O\\x87{2\\xd7\\xf1\\xdc\\xf0\\x06\\xf7\\x88r\\x1c\\xb0R\\x98\\x9e\\xd9T\\x80\\xa7\\xb5\\x03!\\xbb\\x15I\\xb8\\xfb>\\xa5\\x0f1R\\x9fv{2\\xd7\\xf1\\xca\\xee\\xfa\\xf5\\xe0\\x96=\\x8c\\xdc(\\xc0-\\xfd@h^S$5|&R\\xb7\\x1b}\\x08\\xa9S7\\xafu\\xfc4\\xdc??\\xd5\\xe0\\xb1\\x85\\x10\\xc7\\xe2\\x15\\xa7\\xd5\\xda\\x91\\x91\\xf6Z\\x15\\xd9\\x03\\xc3\\xcb\\xa3r{W|x\\xb6\\x8b\\x8f\\xd4\\xeaq\\xa9S2\\xdc\\xdcl`\\xc3K\\x02\\xd7J\\x0f\\xf7Z\\x15\\x88Z:J\\xa4\\xbdV\\xcd\\x93:|\\x86\\xc0\\xedF\\x1fB*\\x9b\\xec6\\x04\\x8e\\xed\\x1el+Y\\xb6\\xb4\\xd2\\x9b\\xddDd\\x14p\\xed\\xeb\\xb7~\\x7f\\xb8l\\xd1\\x84\\xb7K\\x831<v\\xef\\xfa\\x0f\\xcf\\xbb\\xff\\x1a\\xb9\\x93\\x1a\\xa6j0|\\x8e\\xabA\\xef\\xb7\\xc6GD\\xdb\\x8f\\xe9\\xfe\\xf7a)\\x05X&C\\x11Z\\xb5*\\x90\\xba\\x7ff\\xe7u7j\\x11R\\xa9d\\xb7\\t\\xc7\\xb1\\xdd\\x83T%\\x87iZ\\xe9}8\\xa0\\xe5\\xba\"\\xbc\\x15\\xa3\\x08\\x9f\\xadP$5|\\xe6\\xa4\\xdcn\\xe4\"\\xa4N\\xc9p\\xc3\\xe0\\xd8\\xf0\\xf2\\xa4\\\\+\\xbd\\x19N[\\x12\\n\\xd0\\xb2E\\x01\\xba\\x02\\xf1\\xa3Hj\\xf6\\xccQ\\xb9\\xbd\\x8bI\\x9c\\xc3\\x9cgp\\x1d\\xaf\\xc6\\xf7\\x92\\xc1\\xb5\\xdc\\xbd\\x99{\"\\xa3@4\\xaf\\xa1\\xc4\\xa0\\x9d\\x97g\\xe5\\xf6\\xae\\xf7\\xf0|\\xff\\xbe28\\xa9Rr\\xb7\\t\\xc6\\xb1\\xbb\\xcb`\\\\\\xfb-\\xddnO\\xd8\\x15`\\xc2\\xae\\x08\\x11v\\x052wO\\xa9C\\xecF\\x1dB\\xbc\\xe0\\xcd6\\xea\\x10\\xaf\\xfe\\xdd\\xa5\\x96\\xbd\\x9c\\xce\\x0f\\xf5\\x08\\xb7\\x03ud\\xe4\\xe9\\x1cYxV\\x03\\x90\\xda-[\\xa3O\\xcb\\\\\\xed]+\\xe2l\\xe6\\xc4\\xdf\\x8c\\xfaC`\\xb7^<\\r\\xaf\\xad\\xb5\\xd2\\xe3\\xde\\r\\x80{\\xb7\\xaaB\\xd09\\x1a-+5{\\x8a\\xbd\\x19\\xed\\x07q\\x02\\xb9\\xdb\\xec\\xb3\\xb2\\xbb\\xcb\\xa7Iv\\xe85\\xf0dNB\\x0e#*\\xa1\\x19\\x1eO\\xe6\\x87xDZ\\r3\\xe7\\xe6v\\xa3\\x05!5L\\xd5`\\xb8\\x1cW\\x83\\xdeRM&s\\x15\\x83\\xa0\\xc9\\x1c@0\\x99\\x03\\xa1\\xad\\x96\\xf6S\\x8b`\\xdc\\xde\\xe5\\x1d\\x9e\\x1e\\xe4\\x8c\\x18\\x84\\xd4>\\xd9m\\xb8\\x1c\\xdb\\x8dM\\xd2d\\xb5\\x06\\xfd\\x06^\\xad\\x01\\x088\\xac\"\\xf4\\xcaZ3\\xac\\xb4{\\xe6u\\xb9\\xdd\\x88AH\\x95\\x92\\xdd\\x86\\xbc\\xb1\\xdd\\xe5\\xe3$\\xad\\xf4xRS\\xbd\\x86`\\x90C\\x89Aw/\\xaf\\xa9\\xeeS\\n\\x0f#\\xf51\\xca-D\\xdeZi\\xe7d\\xcev\\xd7\\xe4\\r\\n\\x0f|m\\xb1\\xfd\\xdd>\\xfeQXB\\x11> \\xaaH\\xda\\xc1\\xa7\\xc8\\x9b\\xd1x\\x10\\x07\\x91\\xc3\\xaf\\xe4\\xcdO5\\x9f\\xfb\\xa1\\xe1\\x90\\x0c\\xef\\x19yC\\xbe`x\\xc7\\xf6+\\xafQ\\x91%5{\\x8a\\xbc\\x19\\x85\\x07\\xa9Q2\\xfbz\\xcf!0[\\xb7R\\xe3\\xfb\\xb9{\\xaa\\xf0\\xa0\\x08\\xdf\\xcfU\\x84i\\x0c\\nK\\r\\x9f\\xd9J\\xdd\\x8d\\xc2\\x83\\xb8\\x8f\\x0c\\xbf\\xb2\\xb7\\xc0\\xf0\\xf2\\xa0\\\\+=\\xe9\\xe0\\xd9A9\\xcdr\\x8d\\xa2\\x0fQ#E2\\xbb\\xa7\\x14\\x1ev\\xa3\\xf0 u\\xed\\xed6\\n\\x0fl\\xb7\\n5$\\x03:`\\x1e\\xd0\\x01\\x04\\x03\\xbaf\\xa1u\\xbb\\xfe\\xa9[ \\xed\\xd5\\xcc\\xe8Q\\x80\\xb4R\\xa6\\xb8\\x9d\\x91\\x7f\\x90\\xfa\\xa6J\\xb9\\x1e\\xa2\\x0b*Eco7\\x11\\xda\\xf4c\\xe6\\xaf]\\x95\\x1cx\\xc9\\n$X\\xb2j\\x1e\\x9e\\xdek\\xf9\\x87}J\\xfea\\xa4>\\x86{\\x92\\x7f\\xe8\\xf81\\xdc\\x07\\x86?\\x88\\xcdA\\xe6\\x81cs\\xaa\\xff\\xc0\\xf3\\x9c\"\\x14~o\\xbf\\xa5\\x9a\\xdf\\xbb\\xa2\\xc3\\xd3\\xbc\\xc6\\xe8?\\x88\\x87\\xc8\\xe3W>\\x17\\x18>8V\\x16\\xa3\\x82`\\x03\\x1d\\xab\\xdaU\\x18\\x82\\x8eU\\x1d\\x08\\xbd\\xcat \\x8f\\xcePk\\xc2\\xec\\xfd\\xa1}J%b\\xa4>\\x9b\\x061?\\xa3\\x12\\x11\\xd4P}\\xe2\\xae\\x15\\x1f\\x87\\xafR\\x95\\x08\\xcd\\xc2\\x0c\\xa8\\x16\\x89\\xd8\\xa7D\"F\\xea\\xd3nb~F$\\xc2\\xdf\\x7f\\xfel\\xd9\\x87]1\\x11\\x00\\xccQ\\x1c\\x00L\\x04\\x00\\x04\\x03A\\xcd\\xfb\\xba\\xea\\xc3\\xf3\\xfd\\xe1z\\xbdUj\\x9a\\xfa\\xc3\\x95\\xf7\\x05V\\xe3\\xc0\\xdb\\xfa\\xfe\\xf6\\xfa\\xee\\xdf\\xa0\\x96\\x11\\x10\\xb0\\xab\\xcc/\\x05\\xf8\\xd9\\x06Ev\\x0e\\xe2\\x90\\xae\\x84\\r\\xd2N\\x89B\\xec=\\xf5\\xe9m\\xa2}F\\x14\"\\xb0\\xbb<C\\xd7J\\xef\\xc1\\x0e\\x7f]X\\x0c\\xcf\\xce\\xd0)r\\xbd\\xb7\\x0c\\x1e\\x80<\\xe9\\x947E\\xfc\\xba\\x88\\xc4i8\\x11?#\\x0b\\x11\\x18^G\\xed \\xe5\\xe0/^\\x88\\xdd\\xc8\\x17\\x0c\\xfc@\\x82\\x86^G\\xed\\xba\\xd2\\xc3\\xf3\\r\\xddD\\xedH\\x17bo\\xa5\\x9d3\\x9e\\x7f\\x85\\xb0\\xc1\\xdd\\xa3\\x19\\xff\\xc1\\xb6\\xackG\\xdf\\x9a\\x8fI\\x0e\\xca\\x8bI\\xce\\x00\\xd7\\xec\\x1c\\xd5>\\xa5\\x051R\\x9f.\\'\\xeag\\xb4 \\xd8\\xe5\\xaa\\xdc\\x90\\\\ao\\xc5\\xb7\\xaa\\xe1\\xc9^3\\xb2\\xcf31\\x08-+k\\xeaSb\\x10\\xbb\\x11\\x83\\x10O\\xf8\\xb1\\xad\\xe1\\x85\\xcbU\\xedA\\xb4\\xa5\\xdf_V\\xff\\x00\\xf7\\xafV|o\\x12t\\x07N\\x91`\\x8ds\\xe4\\xb1\\xbf\\xe5G\\xb3\\xa4\\x86O\\xc5\\xee\\x8c\\x12\\x84\\xd4)\\x19~\\x8d\\xdd\\x05\\x0e\\xaf\\x1f)\\xd9\\xa1\\xde@\\'\\xa9\\x14\\x08\\x82V\\xc8\\xe2\\x7f\\xca\\xef#\\xcb\\xfe\\xe0\\xb4\\x91&\\xbcL\\x0bv\\xf8\\xef*\\x10O\\x8f\\x06F3B*\\x9fj\\xc8\\xd0@\\xffJ\\xd3\\x0e!\\x87\\x8c\\x06\\x02f\\x1a\\xa8\\xd2\\x10L\\x03Uf\\x82IN-\\x1a\\xb1O\\x89F\\x8c\\xd4\\xc7P@\\xa2\\x11\\x1d?\\xbb\\x04\\xdb=\\xc8[\\xb6G\\xa7\\xd2\\x10\\xbc\\xe0\\x01\\x12,x4\\x0f/\\xfb\\x81\\xa4]b*\\xaegT#\\xc4\\x7f\\xe4\\xf0k\\\\\\xcf?\\xf2\\xf2\\xb9\\xab\\xfaC:\\x06\\x0eN\\x16\\x8c\\x81\\x08\\xdf\\x05c\\xe0@\\x02\\xbbk~7\\xa5\\x1a\\xb1\\xf7\\xd4\\xa7\\xc3\\x89\\xdf\\x19\\xd5\\x88\\xc0\\xee\\xf2\\xf9\\xb9Vz\\'\\xbdnh\\xfdV\\x80\\xa6=U\\xa1\\x08\\xa7=\\x80\\xc5\\xb47\\x15\\xd93\\xc2\\x11\\xe2Ar\\xb9\\x89\\xecq[\\xaf\\x9f\\xa0\\xdbU\\x1f\"\\x18\\xfeG\\xceh\\xf8\\xc75[W/2\\xfc\\x0f m\\xebS\\x14\\xcf(G\\x88+\\xc8p\\x13\\xdbc\\xc3\\x95\\xe2%{\\x16\\x89r\\x848\\xdd\\xf35\\xec\\xdd\\xa8\\xa2\\xc4\\xe31~\\x14p}\\x08\\xdf\\r\\xf2S\\xa1\\xbe\\xae;q\\xb6}\\n\\xf55\\xbc\\x1a\\xec\\xea\\x8d\\xdaLIb\\x07\\x10l\\xd4\\x1e\\x08\\xcd\\xfe\\xe5\\x95X9\\xaf4\\xb3a\\xd9S\\x9ff\\x13\\xdd3J\\x12\\xdc\\xe5U)\"\\xbe5\\xd1~K\\x1c\\xe1\\xd4|<\\xd2)\\xc2\\x0c\\x1fH\\xd6\\xec\\xa7\\x84$v#$!^\\xf0\\xcd\\xde\\x08I\\x04v\\xd7\\x1b\\xb5P~\\xe0\\x05<\\x00\\x7f\\xff\\xe0\\xbb\\xfd\\x9e\\xb1\\x08\\xa4\\xdeN\\xd2\\x13\\xb6\\x95OiH\\xecFC\\x82\\x8e\\xb6\\xdd;~\\xb6r\\xffbQ\\x83\\xfb\\xaf\\xccf6\\xe0<\\xb3i\\xc6\\xc0\\xdf\\xa3H\\xde\\xc1\\xa85$\\xf6)\\r\\x89\\x91\\xfah\\xe6\\xa4!\\xd1\\xf1\\xca\\xee:\\x92\\xa7\\x8a\\x10n\\xc2\\xfcj\\xc5\\xf6\\xfab\\n\\x07\\x84\\x9f\\xee\\xd1<i3\\x9f:egT$\\xc4}\\xd4\\xcc\\xaf;\\xb3\\xfe\\xd9\\xb6\\xcf]e\"\\xe2\\x07.\\x14\\xf6\\xccP\\xec\\x1e\\xd4/h\\xe6\\x08\\xf8\\xf11\\x0c\\x12\\x9ep\\xcd|\\x8a\\xc0\\x19\\xd5\\x08\\xa9Q2\\xdb\\x108n\\xe6\\xe0a\\xd9bN5 x6\\x07\\x12\\xcc\\xe6G\\x1e?\\x9c\\xd7\\xb2\\x11\\xfb\\x94l\\xc4H}\\xb6sbp\\xad\\xb4\\xaa\\x9d\\xd7;\\xb3\\x87\\x06\\x04\\x9d7\\x02\\x12P\\xf6T7\\xa2\\xfd\\xd6*T\\xdf\\x95 \\x9e^\\xa3\\x19\\xdd\\x88\\x9dt#\\xf6\\xffO\\xd9\\xd9lI\\xae\\xe3H\\xfa\\x8dj*\\xf2\\xba$\\xbf\\x9bY\\xdc\\xa8\\x88\\xcc\\xd7\\xe8E\\x9f\\xd3\\xfb\\xe9\\xf7?C\\x900\\xd1\\x01\\x03\\x10\\x8e\\\\&D\\x86C\\xe0\\x8f\\x11\\xa4\\xf8\\x89\\xbdr\\\\\\xf5[\\xf2=\\x90\\x14\\x8f\\x12\\xd1c\\xdc\\xf6ZLe\\x0c\\xb0\\x11?\\xca\\x18\\x90\\'\\xb2\\xefb\\x1e-\\x90\\xc4zz7\\x00\\x92s\\x06$\\x11tx\\x95sI\\xe6J\\x91\\x0eD4\\x95?kc\\x89\\xd7\\xa0\\xf5\\x85\\x12^\\x0b\\xbd6\\x1a\\xd7\\xe9[\\n\\xce\\x10\"F`\\xa8\\xd3\\x1b\\x05\\xc7\\x9d\\xbe\\xde\\xac\\x05\\xed\\x81\\x8e\\x18\\xde\\xe8\\x087s\\x8f\\xb6\\xa15rvZ-\\xd9\\x18\\xdfb@<\\xe6\\xd3;\\xe4$\\xe1\\x0c\\x03\\x82C\\xae\\xc8\\x86\\xe4\\xceQ\\xa9}\\xb6|\\xea\\xf2@=\\xd0\\xadU(\\xc2c\\xbc\\x16I\\xddnm\\xc7\\x1a\\x06\\xc4x\\xd7>\\xdc\\x86\\x01\\xe1s\\xeb\\x9f\\x0f\\xa0\\x1c\\x92\\x96\\x0e\\x04\\x84\\xff\\xf2\\x11\\xe5\\x82=j\\xd4\\xc8\\xca\\xb5F@<Z\\x08\\x88\\xf5\\xf4\\x1dn\\xbf\\x15\\xf4\\xcf\\xb4\\xef\\x91\\xce_\\xde$f\\x89g\\x96\\x8dR3g\\xa3@\\x80`)\\xa3\\x96@\\xca\\xd4\\x08\\x88G\\x0b\\x01\\xb1\\x9e\\xde~S\\x16Nj\\xab\\xfc.\\xef\\x14\\x96\\xda\\xa7R\\xe3l\\x94Z\\x82\\xa9\\re\\x82\\x86^\\x9f\\xaek1 \\x1e\\x86\\x011\\xe2G\\r\\xddh8\\x0e\\xb8J\\xaeL\\xb3g\\x0c\\x08\\xf9\\xbb\\xeb\\x95\\xd0\\xc0\\xa6\\x16N?\\xd6\\x08\\x88G\\x0b\\x01\\xb1\\x9e\\xde\\x01\\'\\x11g\\x10\\x10A\\x07\\xafO\\xd7\\x81\\x10A\\xe3\\xb9\\x1a\\x82#\\xe3j\\t\\xfaw\\x9d\\x84k1 \\x1e\\xf3\\xe9\\xed6I8\\xc3\\x80\\x08\\xdc\\xd6$\\\\\\xa6d@t\\xa0C\\xa4j\\x08\\xf2\\xf1j\\xf1\\xd3\\xd8o\\xf9\\xa9k\\x9f\\xcbU\\xf6\\xe7\\xb6\\xa4\\xaaf\"\\x1f\\xdeVw\\x06\\x101\\x1a\\x06u\\x01\\xa3\\xee\\xb8\\x0b\\x94\\x9f\\xbd>\\x14\\xe9@WZ\\xc0\\x10$g\\x00\\x8e\\xa0\\x9c%X\\x13\\xcf\\xe8<\\x12C%\\xac\\xde\\x998\\x88\\xf7_\\xca\\xeb\\x05\\'\\xe3\\x8d\\xd3K1\\x99;~)\\xfa\\xcdD\\xb2\\xb6\\xbb\\x11\\x11\\xb6\\xda\\xaf\\x07\\x08\\x11\\xee\\xef}\\xc3\\xf0A\\x97\\x17\\xc2\\x92\\xce\\xfb-\\x99g\\xd8\\x11#D\\xe4\\xb6\\x91y\\xfe.\\xb3\\x07\\x18\\x10\\xd9\\xbc\\xafg\\xf2x\\xde\\xd7mV\\xbat\\x195F\\xf3_\\x9d\\xa9k\\xb1#\\x1e\\x86\\x1d1^\\xa9\\xf7[\\xec{\\xfe#\\xbf\\x81\\x80\\xc8\\xd6\\xb4\\xb0\\xf3\\x9aV-\\xc1\\x9a\\x16\\x16\\xcaY\\xd5\\xf0\\x88G\\x0b\\x1e\\xb1\\x9e\\xde\\x03\"\\t=\\x03\\x8f\\xf0W\\x8f\\x7fJ\\xf19H%)J\\xc0#h\\x1e@9NY\\xddX\\t\\xf6\\xdb_\\x8ab\\xfbw\\x8b\\x1e\\xf10\\xf4\\x88\\x11~\\n\\xb8\\xd9\\x98\\xe5\\x80/\\xa1\\x97m\\xbf\\x01.\\xc1\\xa3\\x9eZ\\x02\\xc1\\xa3\\x96\\xa0\\xa5\\xab%\\xeb\\xe1-z\\xc4\\xc3\\xd0#F\\xfc\\xc8q\\xa3\\xf4\\xd8\\xf1:Y\\xa7\\xbc\\x07V\\xb8@D\\xb0\\xc2\\x85\\x85\\x05O\\r\\x8fxL\\x1c\\xc4\\xdb\\x03\\xba\\x81G\\x8c\\xf0\\x93\\xdfF\\xe8\\xb1\\xdf?\\x1c\\xa6S\\xe0\\x83\\xdf\\x89\\xff\\x96_\\x19.\\xde\\xc1\\x8e\\xf8E\\xd3\\xbbZ\\xd2\\xbb{\\x1e-z\\xc4z\\xfa\\xee\\xe1D\\x8f\\x98\\xf6jhC\\xba.\\xf9\\xf8[i\\x10\\x9c\\x95\\x06&\"\\xe8\\xe2\\xabJV\\xf6D\\x9cp=\\xbc\\xf5\\x11\\xec\\x84Kl\\xbfI\\xea\\x19\\\\D0\\xb2\\x95\\x97\\x98<\\x14\\xf0\\xe0\\xb7\\xaf\\xbf`\\xe0\\xec,`\\x11|\\xac\\xb6\\x86E<&\\xfe\\xe1\\xfdv\\xfez\\x89\\xc9\\x08.\\xb5s\\xa3\\xe6\\xfcM]\\xf2\\xc7\\xcaM\\x08\\xb5\\x07\\xe1\\xd6\\x82A\\xb8u\\x13\\x96\\x07\\xf4z\\xabu\\x02 \\xde\\xf7\\xdb\\x086\\xc2E<\\xa4\\xb6\\xdd\\xcc\\xd9\\xef\\x1f\\xb6Z\\xc1\\x8b e\\xaf\\x86@\\xd9\\xc3B2\\x16\\x86\\xa0\\xeb\\xaf_q\\xa4\\xca\\xbe\\xc5\\x92x\\xcc\\xa7w\\x17 5gX\\x12\\xfe\\x95\\x8d\\xc9\\xbdN\\xdae,\\x89\\xbb\\\\\\xd0\\x14t#\\x97\\x9bB-\\xe6Z,\\x89q`\\xf5\\x85%1\\x02\\xef\\xbb\\x80aI\\xb0\\xdb\\x80Edb\\x0ev\\x16s@F\\xd0\\x8d\\xeb\\xf2\\x93\\xa4[\\xf1F\\x9c\\x1a\\xb2\\xb9\\xbd\\xc5\\x92x\\x18\\x96\\xc4\\x08\\x039n\\x8e\\xd9Q\\x1fP\\xbcC\\x96\\xbdR3\\xcf\\xed@I\\xf0\\xdc\\x0e\\x0b\\x0f\\xf55J\\xe2\\xd1BI\\xac\\xa7\\xefv\\xee\\x97\\xd2\\xffL{\\xd1\\xf7\\x15\\xef\\x90\\x8995\\x7f\\xf8\\xfb\\xc0\\xbe\\xa4^\\x89j \\xe6\\xd4B\\'\\xfe\\xfe\\xa0L\\x1a\\xf0\\xd67\\xb1\\x86%1\\xc2O\\x017b\\x8e\\x03^\\xdfo\\x92\\xb1$\\x1e)K\\x02\\x16\\x06\\x99\\xc3\\x92\\xfa\\xdd\\xday5,\\x89\\xf1J\\xc9o#\\xe6\\xd8o|\\xf9\\x10\\x7f!p\\x83!\\xfc\\xea\\\\\\r<\\xb7\\xab!X\\x9d\\xd7(\\x89G\\x0b%\\xb1\\x9e\\xde\\xed\\x9c\\x92v\\x06%\\x11\\x0clKwe\\x9b\\x11\\n\\x7f\\xf0k\\x96o\\xf9\\xb3\\xa1\\x84\\x05z\"L\\xc7\\x801\\xf12(X57\\xf1\\x10oO\\xef\\x06&\\xf1 \\x98\\xc4C\\xec\\xbb\\x8b\\xfb\\xbb\\xd9\\xc4\\\\%\\xe6\\xd5\\x1c\\x0cm\\x9a\\x84\\x0b\\x866\\xdd\\xcd\\xa5\\xa9\\xac\\x86I<Z0\\x89\\xf5\\xf4\\x8e8\\xa99\\xa9\\xadr\\xfb\\x075\\xa7\\xcc\\x07Vs\\xa0F\\xf0\\x14\\x0eL\\x04\\xfb]\\xab\\xb9\\x16=\\xe21\\x9f\\xde~S\\xfa\\xcd\\xd0#<$\\xebS\\x8aK\\xb8\\xd3\\x11\\x1d\\x9f@\\x90\\x9a\\xd3\\x82\\xc4\\x84\\x19\\x9d@\\xcb\\xf0~cM\\x8fx\\xb4\\xe8\\x11\\xeb\\xe9\\xed8I6C\\x8f\\x08\\x1c\\xafO\\xca\\x81\\x1e\\xe1\\x06\\xcc\\xe1\\x9d\\xd7_\\xba\\xc5\\x0c\\x1aE\\xdc\\xc5U\\x1f\\xbel\\x93\\xd9.\\xde\\x02H\\x8c+\\xab_e\\x1b\\x01$\\xa6\\xbdh\\xeb\\xa0=$\\xb9G5\\xf3w\\xb1j\\x08\\xf6\\x1ca\\xe1\\xccD\\xcd\\x8fx\\xb4\\xf8\\x11\\xeb\\xe9\\x1drRmR[\\xe5w}ZN\\x91\\x0f\\xbcPU\\x03Ofj`\\xadZ\\xd3#\\x1e\\x93\\x07\\xf1\\xf6\\x80n\\xe8\\x11t]\\xf9?\\xb3\\xb6\\xca\\xeb\\x12\\xff%\\xa5\\xe7\\xc6:%\\x1e\\xd5\\x10l@\\xa1\\x08\\rl5=\\xe2\\xd1\\xa2G\\xac\\xa7\\xef`\\x13=b\\xda+\\xb7U\\xb1ek\\x13EA|\\xf0\\xdaD-A\\xa2\\x19\\x16v\\xbc\\xdehm\\xe1#\\x1e\\x06\\x1f1\\xe2\\xe3%\\x9b\\xc1G\\xf0\\xc0\\x06\\nD\\xb6\\xf3\\x96\\xe1#\\xe4\\xef\\xce\\x84\\x06\\x7f\\xd6\\xa9\\x16\\xdf\\xbb\\x7f\\xdfEx}\\xaeE\\x8e\\x97\\xf5\\x8c\\x1b\\xf1Z\\'\\xe9&\\x87b7\\x06\\xd2s\\x86,\\xe1\\xd7\\xb1\\x9f\\x0f\\x858d\\xb3\\x1c\\x18\\x0f\\x7f\\xbb\\xd9\\xf3\\x0b\\x05\\x83YN\\xcb\\x04\\xf7\\xb4\\xa9%\\xd3\\xef-^\\xc4\\xc3\\xf0\"\\xc6\\xfb\\xa6\\xc6`\\xd4\\x1c]\\xdc\\x05\\xecC\\xda\\x0bT\\xb5\\x05\\xbd`Y\\xa2^\\x802\\xf6\\xb7\\xfc\\x91\\xdfj\\xd5\\xaf\\x8bx\\xebK\\x08\\x03\\x8c\\x18q \\xc7\\x8d\\x9ec\\xc7U\\xcfes\\x9c\\x1e\\xa4\\xa3\\xfd5e?Ds\\x9c\\xd6\\xc8+\\xf4\\x9a\\x17\\xf1h\\xf1\"\\xd6\\xd3\\xbb\\xa5\\x93\\x9e3\\xbc\\x88\\xa0\\xa5/\\xf1\\x95\\xad\\\\\\x94\\xf0\\xc0\\xc9wB?\\xa8\\xac\\x01F\"\\x945\\x01c\\xc2\\x85\\xbc\\xb5\\xa5j\\x88\\x11\\x0f\"F<\\xc4\\xbeG|\\x0e\\xf9\\x12YYRF)\\x0f\\xbcr\\x01\\x17\\x82W.\\xb0\\xf0\\xf7N52\\xe2\\xd1BF\\xac\\xa7w\\xc8)\\x0bg\\x90\\x11\\x1cr\\x00\\x1e\\xb2\\x935j\\xe7\\xa5K\\xca\\x8c\\x90_$=\\x99o\\x19\\xae\\x91\\x11\\x8f\\x162b=\\xbd\\xfd&9g\\x90\\x11\\x81\\xdf5\\xd0U\\xaa\\x9f\\xca\\xc63#`\\xa0l3\\x98\\x11<\\x9b\\x81N\\x91~\\xdc\\xdc\\x82D<\\x0c$b\\xbcl?\\xb6\\x19HD\\xe0x\\xad\\xe8\\x14\\xec\\xc0G\\xc8\\xc0\\x82\\xe0\\xa5\\xaaZx\\xc5VC\"\\x1e-H\\xc4z\\xfa\\x8e7A\"\\xa6\\xbd\\xe8\\xdf\\xa0@$\\'E\\xd4\\xcc\\xf2]\\r,\\xdf\\xc1\\x88`\\xfd^3\"\\x1e\\x93\\xfa\\xf0\\xb6~7\\x8c\\x88\\x11{\\x8a\\xb6I\\xc1\\xd15e\\xcam\\xc8F\\xf4\\x0c\\x11!?R\\x9a\\xff/\\x7fO\\xd67,~{\\xed\\xf7m\\xf8\\xfb\\xfa\\x97?\\xba\\xfe\\x07\\xc6\\xf4c\\xe6\\x16@\\xe2a\\x00\\x12#\\xf2\\xf4R\\xcc\\xa7\\x11\\xfcR\\xf0\\xedj|\\x8b\\x110\\x0f,\\xe8\\xd4\\x12\\x08\\xba\\x9b!A\\xea\\x9e\\xa8\\x13v\\x92k\\x11#\\x1e\\x86\\x181^*9n\\x04\\x1d;^o\\xb6\\x82\\x18A\\x97\\x97\\x80\\x18A\\xc7\\xa5\\xd4\\xc0\\x80\\x18\\xf9\\xa5\\x95\\x9ck\\x11#\\x1e\\xf3\\xe9\\xdd\\xf7I\\xce\\x19b\\x84\\xdf\\x8f\\xf9\\x94\\xe2k\\xb35\\xb9\\xd7\\x00v\\xd6\\xb1`F\\xf0N\\x93Z\\x82I\\xae\\xce\\xcf\\xb5\\x98\\x11\\x8f\\xf9\\xf4v\\x9c\\xf4\\x9caF\\x04\\x8e\\xd7_B\\x80\\x19A:\\x16d\\x08>\\'\\x06\\x0b_JY3#\\x1e-f\\xc4zz\\xfbM\\xe99\\xa9m\\x0f\\xf6\\xdc\\xcek1\\xa7\\x94\\x07\\x16s\\x00C\\xb0\\x98SKp\\xc3t\\x8d\\x8c8Z\\xc8\\x88\\xf5\\xf4\\xf6\\xdb\\x8b\\xb9i\\xcf\\xfd\\x16sqL\\x0cf\\x9a\\xdb\\xefr4\\xb7\\xdf\\x16\\xca\\xcd\\xc1\\x92,T\\x8f\\x162b=\\xbd\\xfd\\xf6bn\\xda+\\xbfk1\\'\\xc5#1\\xf7\\x05\\x03\\x9f*\\xb8-t`\\xf8\\xb6\\x90\\xd0\\x83\\xe5W\\x96\\xa8=& \\xe2\\xdd\\xa9\\x7f=\\x8d\\x972\\xde\\xb7\\x1b\\xec\\xa7\\xfd~)\\xfew~\\x8a\\xb9\\x1a\\xf5n;\\x8dz\\xb0\\xf0\\xea}\\x97q\\xabw\\x18\\xd2\\xd6\\xd0\\xd9n=&|b;\\xee\\xb7[\\xa7\\xbdr\\xbc\\xbe\\x82X\\x8a\\'\\xadA\\x0bR\\x0e\\x0bE~\\xd1\\xb0\\x07K\\xeaxg\\xbf\\xf50<\\x89\\xf1N)\\xe2\\xafb/\\x88x\\xb9\\xdf*\\xb5\\xcfmt?\\xbd\\xc3@\\x1a\\x17\\x06>+\\tK\\xeav\\'?wL\\xda\\xc4\\x8e\\xb7\\x97s\\xd3^\\xc5\\xbb\\xdco\\x95\\xd23\\xdcN5|\\xc3\\xe0Wr\\xf8\\xffq\\xd6\\xf6_>\\xd5\\xf1\\xe76fG\\x87\\x8e\\t\\x85x\\xbf\\x8f\\xbf\\xdeF7\\xde*E\\xfcU\\xd0\\x05\\x11/o+\\x91\\xdf2]\\xf7\\x13<\\x0c\\x9c\\xa8\\xba-\\x94\\xb5\\x80%\\ry\\'Aw\\x18\\x82\\xc4x\\xa9\\xe4\\xf7k\\x82.\\xf0\\xbb\\xdep\\x95\\xea\\xd7\\xc6\\xa4;Z\\x00\\x03\\xefK\\xc0\\x12Lt\\xa5\\xa0;&\\x14\\xe2\\xfdx\\xbf\\x1e\\x9f\\x1b\\xaf\\x94\\xfc~=>\\x17\\xf8\\xbd\\x04]\\x92\\xa5\\x92\\xdf\"n\\x93\\xb0\\x81\\x81o\\x1f\\xbc-\\xc1\\xc8\\xe6?\\x875\\x0b\\x97\\xa3\\x85\\x90XO\\xef.\\xee\\x05\\xdd\\xb4W]|\\t\\xba$\\x05/\\xa5\\xe7TG+6Xx\\xc5v\\x97!\\x05\\x0fK\\xd6\\xd0[\\x10\\x89q\\xc4\\xf0e\\xb7u\\xbcm\\x1fp\\x03\\x91\\xe0\\x80\\x03\"\\x11\\x1f\\xfc\\x97\\xdag\\x07\\xf7\\xfbo0\\x04\\xed\\xfc\\xae\\xd1\\xafTQ&\\xf5\\xbb\\xf3e\\xeba \\x12\\xe3\\x95\\x92\\xdf\\xaf\\xbb\\xad\\xfeD\\xd5\\xa7\\x14_\\xe2%>\\x0e\\r;\\xa5%\\xef\\x82,e\\xb5J\\xca\\xd7\\xa0H\\xeaw\\xe7&\\xba\\xc3P$^\\x0f\\x98\\xce\\x94\\xf8?\\xd3\\xbe\\x1b\\xba\\xbfuQ\\xcck\\xb2\\n\\x8fL\\xc1\\xfc\\x97\\xbf\\xa4\\x03\\x06O\\xe3\\xf8\\x86\\x81W\\xe8\\xb0\\xa4n\\xb7$\\x9b\\xa1F\\x8c7J\\xe1~=!\\x17\\x84\\xfb\\x07\\xc9\\x06j\\x04\\xfb\\x9dJ6-\\x12h\\x97\\x1a\\x1bq\\xb4\\xb0\\x11\\xeb\\xe9{`#l\\xc4\\xb4W\\xf1.\\xef\\x97\\x93\\xd2k`s\\x03\\xe6\\x17,\\xc1\\xc0\\x862t\\x00\\x1ee\\xd2\\x88\\xb7D\\x9b\\xe1F\\x1c\\xc4\\x8d8\\xc4^9^~\\xd9*\\xa5\\x93\\x81-\\xbb^\\x0eE\\xe8\\xcbV\\x18R\\xb7;\\x9f;\\x1c\\x132\\xb1\\xe3M\\x82\\xcd`#\\x82\\x86\\xae\\x82-\\xd9R\\x95\\xeag\\xc0yQ\\xa6\\x96`Q\\xa6\\x96``+sp\\xc7\\x04A\\xbc\\xad\\\\\\x0c6b\\xbcS\\xea\\xe1F\\xb1\\xf1\\xc0\\xb6TT\\xa6\\\\\\x14\\xf5p\\xd1\\xdaD\\r\\x81rQ\\xcb/\\xdaw\\x10\\xc7\\xe4%\\xa6\\x01\\xef\\xdc-w\\x18n\\xc4\\x88\\x0f\\xf9m\\x14\\x1b\\xfb]n\\xa9J\\xed\\xf1\\xe2\\x84\\x10\\x10kK\\x15\\x05\\xe2\\xc5\\t \\x14\\xd9a\\xd0c\\xb2 \\xde\\x0f\\xf9\\xeb\\r\\xc2\\xe3\\xad\\x92\\xeb\\xafY\\xb8\\xa0\\xad\\xab*\\x8bw\\xd1\\xe5\\xb7\\xc4\\x8b\\x135\\x04\\x8b\\x13\\xb5|\\x04}\\xbc\\xfc\\xb0al\\xfa4\\xee\\x93[O\\xef>N\\x9a\\xcd\\x90#\\xfc\\xa9\\xe8O)>\\xfbp\\xe2wF\\x8e@\\xb9\\xc0\\xef\\x1b\\x10A\\x9aM-YS\\x9f\\xb8\\x87\\xb7\\xe3m\\xe0\\x10#>>\\xdeb\\xdfC\\xba\\xbfF\\xf1P^C\\xd6\\xc5\\xd5\\xcc]\\x1c\\x04\\x08\\xca\\xba\\xa2\\xc6\\xa0\\x8b\\xd7l\\x88\\xa3\\xc5\\x86XO\\xdf\\xf1&6\\xc4\\xb4W~\\xd7\\xb7\\x07K\\xf1\\xd9\\xd0I\\xbc\\x80\\x00\\xc1\\xf9&\\xb5x\\xc3o\\xd4\\xf5\\xc1\\xc9G-2x!w\\xd8\\xec\\x82\\xad\\x85\\x8d8\\x0c6b\\x04\\x82\\xda\\x82\\x11t\\xdc\\x16 \\xe8BZ\\xb5\\xd4\\x1eO\\xef\\xc0F\\xb0|\\x87\\x85e\\x8dZR\\xbf[)\\xb8\\x89\\x8e\\xd8m\\x81Rp\\x06\\x06\\x11\\xf4\\xfdZ\\xcf\\x01\\xf9\\xe0)\\xd8_\\x87Z\\x02=\\xa7\\x16\\x1e\\xf3j\\x18\\xc4\\xd1\\x82A\\xac\\xa7\\xb7\\xdf\\x94\\x8330\\x88\\xc0\\xef:\\x07w\\xb3\"|>F\\r\\xbc\\xcf,?h)![dt\\x01(\\xc0(=\\xc7p\\t\\xd7\\tZbo\\x92%\\xf6K!\\xb1\\'\\xf6j`(\\xb7[\\x0f\\xc5;\\xf0bN\\r\\xbc\\x98S\\xc3\\xaf\\xa0\\x0f\\xd4R\\xaf\\x85\\x8a8\\x0c*b\\xbco\\xea\\xfbF\\xea\\xf9K\\xc8\\xa4\\xf8\\x8c\\\\\\x92\\xb3P3\\xefB\\xa1\\\\\\xd0\\xf7W\\x8d\\x9c\\xaa\\xa9A\\x11\\xc7D?\\xbc?\\xfd\\x99\\xdc\\xdc/Rz\\x06\\x14\\xe1\\xa7\\xb11\\xed\\xebfkr\\x92\\nv\\x9f\\xb2\\xf8\\x86\\x81\\xf2\\xd0\\xa80\\xbaw\\x0e\\x85R\\xa5\\xd7bE\\x1c\\xf3\\xe9\\xdd\\xd0I\\xe9\\x19VD\\xe0z\\xad\\xf4\\x14%A\\xdf\\x04\\xc8\\x9f\\x95\\x96\\x12)\\x1e\\xad\\x91\\x175Z&\\x1b\\xed[\\xa0\\x88c>\\xbd\\xfd&\\xa5g@\\x11\\xec7\\xa8\\x0e\\xc9ii\\xa9>\\x9a\\xf9\\xbfa\\xa0\\x90\\xa3B\\x9e\\xdeo\\x80\\xc4Kb\\xde\\x0em-T\\xc4aP\\x11#\\x10\\xbe\\x8f\\x1bTD\\xe0\\xf9\\xca\\xcf%\\xe7\\x8a\\xa4\\xf6hY\\xf3\\x05C0\\xdek\\x11\\x9e\\xe6\\xd4\\x90\\x06\\xbc\\x95\\x9e3\\xa0\\x88\\x11\\x06r\\xfb\\xf5>\\x92\\xc0\\xed:=\\x07\\xe8\\x03)=5\\xf8[!FC\\xd0\\x9b\\xecH\\xd8\\xab!\\xf5\\xba\\x95\\x9d3\\xf0\\x87\\x11\\x03\\xf2\\xda\\x889\\x1a\\xd0k\\xf8\\xc3\\x01\\xf8\\x03\\xad\\xddS\\xf8\\xc3]\\x84\\xdd.\\xbf\\x858Z\\xec\\x87\\xf5\\xf4\\xdd\\xbb\\x89\\xfd0\\xed{\\xfaf\\xb7k-w\\xb3\\x1f(7\\x07\\xf6\\x03\\x9d\\x1a\\x92\\xbf8\\xa7F\\xceY\\xd4\\xec\\x87c\\xd2\\x1c\\xde\\x9e\\xc9\\x0c\\xfba\\xbcl\\x8a\\xb7\\xc9\\xcd\\xf9[\\xb5\\xe4\\x8f\\xc9\\xafL;w\\xbc\\xa1::\\xf72D\\x9d{Yx4\\xd7\"i3o\\xc95\\x83~\\x18\\xef\\x9a\\xdc6r\\x8d\\xdd\\xd6\\xdc[:\\x9a\\xab\\x9c\\xf3G\\x82\\x0f\\xc58\\xf0h\\x8e\\xddY\\x7f\\xf7\\x0cJ\\x8c\\xef\\x87R\\xcf[\\xdb\\xa9\\x86\\xfc0\\xe2@\\x9e\\x1b\\xc5\\xc6\\x9e\\xff\\xb0\\x9d\\xaa\\xb0\\x06\\x96.Dq\\xd0,\\x15P\\x11\\xa1tQc\\xf6q\\xcf1i\\x0e\\xef\\xb7u\\xa3\\xda\\x88\\xfd0k\\xdb\\x9d\\x9c]\\xafwT\\x95\\xe4\\xc0I\\x8b\\x1b\\xf1\\xe0\\xa2>\\x86t\\xd5\\x81\\xacV\\t\\x17\\xe1&\\xf0\\xce\\xf7\\x0e\\x87a=\\x1c\\x7f\\x91d3\\xac\\x07\\xbf#\\xfc)\\xc5\\xab$\\x15X\\x0ftr\\xe0&:\\xb0\\xdf\\x89\\x98\\xfb\\x83\\xbf\\x955\\xf5\\x16\\xec\\xe10\\xb0\\x87\\xf1\\xb2}S7\\xb0\\x07\\xf6\\xbb\\x86=H\\xedqb\"\\x85=\\xa0\\x08\\x8fm5\\xeb\\xe1h\\xb1\\x1e\\xd6\\xd3{.#\\xbdfX\\x0f\\x81\\xdb\\xe5\\xd7\\xabR\\xbb\\xb8\\xcdKQ5\\xb0pQ\\x03\\x1f\\x1b\\xa8Q\\x0fG\\x0b\\xf5\\xb0\\x9e\\xbe\\xbd\\xf6\\xaf\\xf8\\x9fi/:\\xf7\\x8dz\\x88\\x0f\\xfeJ\\xf1\\x95c\\xf0\\x1f\\xa8\\xc3\\x12\\xec\\xb6h\\x99`_\\xb1\\x86=\\x1c-\\xd8\\xc3zz{N\\x92Mj\\xab</o\\n\\x96\\xda\\xa7\\xe3\\x9c\\x87RK\\x90\\x87\\x02\\xed\\x81O\\x06\\xa9%\\xed\\xdf\\xad\\x04\\x9c\\xa1=\\x8c8P\\xff6g\\xe0\\xfc\\x05r\\x87\"\\x18>\\xb2I\\x1c4\\x08\\x9a\\xc4\\x89\\xdd\\xa0S\\x19*\\xe4%\\x19\\xaa\\xca\\xbe\\xeb9&\\xc1\\xe1\\xed\\x89\\xcc\\xf0\\x1eF\\x84\\xc8q#\\xda\\xd8qM\\x8be\\xe9\\x07E4\\xf0\\x1cN\\xec\\x068\\xae\\x15\\x86s\\xb8\\x16\\xca\\xbe\\xe78Z\\xc4\\x87\\xf5\\xf4n\\xec$\\xdc\\x0c\\xf1\\xe1b\\xd7\\xeb<\\x1b\\xb8\\x0e\\xb4*SC0\\xb8\\xa9p\\x0b\\xc6\\xf4:\\xcf\\xd6\\xe2=\\x1c\\x86\\xf70Z\\x0bE\\xdc\\xa86v\\xbb\\xfe\\xacA\\xaa\\xcfF\\xb7e\\xa1\\xcf\\x8f\\xbfQ&\\xe8\\xe3\\xf5\\x9ej\\x0b\\xf0p\\xcc\\xa7w\\xbc)\\xd3f\\x00\\x0fA\\xbck\\xcd\\xa6H\\x06\\xd6lj\\x08\\xf6\\x92a\\xa1\\xcfs\\xe5\\xa7\\xcaKL\\xc7\\xb6\\x96f3t\\x87\\xf1\\xae)\\xe0fC\\x95\\x03^\\xde:r\\x80\\xee\\xc0\\x93\\x99*3\\xfa\\x98\\x0bE8\\x9f\\\\\\xc3\\x1d\\x8e\\x16\\xdca=\\xbd\\xc3M\\x92\\xcd\\xc0\\x1d8\\xdcJ\\\\\\xf8H\\xf6S\\x01w \\xa9z\\xc3\\x1dH\\xaa\\xc2\\xc2~\\xd7t\\x87c\\xf2\\x1a\\xde\\x1e\\xd1\\r\\xdda\\xbck\\x1fnCw\\x08\\xfc./\\xfd\\x95\\xdf\\x12KU5\\x04YU\\xb5p\\x8e\\xad\\x86;\\x1c-\\xb8\\xc3z\\xfa\\x0e7\\xc1\\x1d\\xa6}K\\x17j\\xe5\\n\\\\\\xc8\\xcez\\x82\\xe1\\xc0\\xd2E-\\x81tA\\x19^\\x92\\xd5t\\x87\\xa3EwXOo\\xc7I\\xb3\\x19\\xba\\x83\\'F\\x7fJ\\xf1*\\xed\\xa2f\\x82\\xd0\\xa2\\\\\\x90vA\\x11J\\xb3\\xa9!\\x1b\\xd5Zl\\x87\\xc3\\xb0\\x1dFt\\xa9\\x99\\x1b\\xc5\\xe6o\\x89\\x93\\xe2k\\xbb(\\xa6/\\xc2\\xee?v\\xfc\\xba\\x0b\\xf2\\xf6\\xf9]%\\xa5d`a5\\xa7\\x96+\\x954-\\xf0\\xc31\\x9f\\xdem\\x81\\xd4\\x9c\\x01?\\x04m\\x01j.Y\\xb9\\x00\\xf0\\xc0\\xe7\\xc4\\xd4\\x12\\xcc\\xedw\\x19\\xbf\\xa3\\x8a\"\\xff\\x8evT\\xb9\\x94\\xcdZ\\xb4\\xc0\\x10\\x87\\x01C\\x8c\\x08R[1):n+K~eGL\\x00y\\xa0L4 \\x0f|\\xc4D-<\\xf1\\xab!\\xed\"\\xad\\xfc\\x9ca?\\x8c\\xb6An\\x1b\\xa5\\xc7n\\xd7;\\xaa`?\\xd0)\\xf0\\x9b\\xf0\\xc03`\\xb6\\xa3\\xaaER\\xb7[g\\xe7&\\x0bbw\\x02\\xd2yb\\xdf3\\x01\\xbb]~\\xbez(\\xc4\\x81\\xb7\\x15\\xd5\\xc0\\xc8\\x8b\\xbb\\x08\\x8f\\x0b\\xb8v.\\xec\\x02\\xcb\\x98\\xae\\xf3&\\xcd\\xe1}U`N\\xd5\\x11\\xfb\\xe1\\x90\\xda\\xaa\\x97\\xa2\\xc7\\xe6\\xe2\\x8b\\x0c\\xa4t\\x9c\\xc9Q\\x03/v\\xd4\\x10\\x88\\x02\\xde\\x83\\xb5]\\xbf\\xc5~\\x18\\x979\\xbd~\\tA\\xec\\x87i/\\xfc\\xbe\\xd9\\x0f\\xc9\\x17\\x01j\\xe7/\\x02n\\xc0\\x03u\\x02\\xb5\\x10\\xa3]~\\xca\\x9c\\x92\\xc2\\xa5/\\x03#\\xdc[i}\\'11\\x12\\xbb\\x8b\\x90F4`\\x08\\x9e\\'\\x14\\xe3\\x90\\x89\\xa5\\x9b\\xff@{Tj\\t\\xc4\\x12\\xca\\xf0\\x1aP-\\xd9\\xd8\\xd0\"C\\x1c\\x86\\x0c\\xf1z\\xd3\\x97~(!\\xf6\\xdd\\x1c\\xfcM\\xa3R|\\x86(;H\\r;\\x91\\xddP\\x92\\x86\\x80\\x1b\\x0c\\x11\\r\\x01wu\\xf7\\xc8\\xed\\x82\\xde\\xda\\x8f5p\\x88\\x83\\xe0\\x10\\x87\\xd8+\\xdfk\\xa1\\xa8<\\x07\\x16\\x8aj\\x08\\x84b\\n\\x87\\x90\\x9fR\\xad\\x7f[p\\x88\\xc3\\xc0!F \\xfc4(\\xf6\\xca\\xef\\x9a\\x02&\\xd5\\xcbo\\r\\x86\\x00\\xbd\\xcd\\x84\\xee3@\\x91\\xb1\\xb6\\xb4\\xbf\\xe5\\x0f,ico},1Q\\x12w/\\'8\\xc4!\\xf6\\xca\\xf1\\xf2\\xc2\\x12)\\x9dds\\xd5\\x12\\xf5r\\x1c\\xafc\\xc7\\x97%u\\xbc\\xb5%k\\xe8\\x10\\xe3\\x9dR\\xc4\\x8d\\xde\\xe3^\\xfe\\xc3\\x96\\xac\"\\x1dxm\\x00\\n\\x04\\xaf\\r\\xd42\\xae\\x8a\\xa7\\x88\\xd7\\xb9\\xbd\\x16\\x1f\\xe2\\x98O\\xef\\x88\\x93\\xe2\\x13{\\x15\\xf1\\xfas\\t\\xc5Cp\\x8a\\x0b\\\\\\t\\x16\\xba\\xb0\\x10\\xd9J~j\\xd9\\xc5[\\x92o\\xd2$\\xb6\\xdf$\\xf9\\x0c\\x1f\\xe2\\xe2\\x80\\xd7\\x92\\x0fx\\x087M~\\x1fj\\xe0A\\xbd\\xd2u\\x00D\\xa4\\x87\\xe8Z\\x18\\x88\\xc3` \\xc6[\\xa5\\xb6n\\x84\\x1d\\xbb\\xaer+96\\t\\x0c\\x84g\\x98\\xca\\x9f\\x95\\xf0\\x05\\xe9\\x1e\\x80%8\\x8d\\xad\\x96\\xac\\x8f\\xb78\\x10\\x87\\xe1@\\x8cHx\\xbf\\r\\x07\\x82C\\xaeh\\x86\\xbf\\x13A\\xabf\\xde\\x9aT\\x03\\x0bZ\\x94\\xa0\\xc6\\xa0\\x86\\xe3\\xef\\x7f\\xf9B\\x7f\\xc4\\x89\\xa9\\x9b\\xd3W\\xd2Ru\\x86\\x101\"D\\xaf\\xc4|I\\xe1/#<jB\\x04\\xcc\\xdc\\xfbSB\\x04\\x8a\\xfc\\xc5\\xbd\\xbf&D\\x1c-B\\xc4z\\xfa\\xee\\xfdD\\x88\\x98\\xf6=\\xea\\xb1\\xdf?\\x88: \"X\\xd4\\xa9\\x85C\\xbej\\xfc\\x15\\xa66\\xb4Pz\\x06gb\\x1f\\xde^\\xd7\\x19H\\xc4x\\xe1\\x14s#\\xea\\xd8\\xf7\\x1f>\\x81\\x05%\\x82v\\xb1\\xd4\\x10\\xdca\\xa3\\x96\\xbf8\\xcd\\xad\\x96\\xb4\\xb1\\xb7vl\\r%b\\x84\\x98\\x1c7\\xaa\\x8e\\x1d\\xafo-\\x01%\\x82\\xfd^\\xe5\\x82\\xfe\\xaf2\\x91\\x1b\\xc32\\x1c\\xd7\\xbf\\xfev\\xbfb\\xf4\\x7f\\xfd\\x15\\xe9+i\\xe9\\xbd\\xc9\\x9b\\xd8\\xfd\\x80\\xb2\\x7f\\x86 \\xe1\\xaf`\\xff<@|\\xc8\\xf6r\\xd5\\xceB\\x174\\x08\\x16\\xba\\xa8\\x92\\xe7\\x02\\xc2N\\xd8\\x95M\\x8b\\x1fq\\x18~\\xc4x\\xa9\\xd4\\x16\\x8c\\xde\\xe3\\xb6\\xb0$Xv\\xf2P\\x99\\x0f\\xbc\\xb2QC\\xb0\\xb2\\x81\\x85\\x05~\\r\\x908Z\\x00\\x89\\xf5\\xf4\\x0e8\\xc9=\\x03\\x90\\x08\\x02\\xae\\t\\xbed\\x8bKa\\x10\\x84\\xac\\x97?k\\xa5\\x9b\\xee\\xdd\\x83+qEkY5\\xbe.\\n\\\\\\xc8[\\x8a\\xcf0$F\\x03\\xa0\\x90\\x9b$\\x1f\\x87\\\\\\x15Z\"{\\x94\\xfa@\\x84\\xc7C\\r\\x81\\xec\\x01B\\x82w{j\\x84\\xc4\\xd1BH\\xac\\xa7w\\xc8I\\xee\\x19\\x84D\\x10\\xf2%\\xdb\\xb2\\xcc\\r\\x88\\x10\\xbc\\xcd\\xa5\\x96`M\\x872\\x9c\\xcc&\\xee\\x84\\rx\\x0b 1\\x80\\x89\\xaf\\x89<\\x02HL\\xfb\\x9e\\xe4\\xfd\\xe5|b\\x9e\\xfb\\x96\\x89\\xdeS3\\xeb=5\\xf0x\\x0f\"\\x05\\x8d\\xf7j\\x08\\xf5\\x1e\\n\\xa5\\xa7P[p\\x89c>\\xbd\\x1b\\x03\\t>\\x03\\x97\\xb8\\xf8\\x9d\\xd4[\\xbdJ\\x84\\xe0N\\xa0\\x86\\xa0\\x13\\xa8%\\xb8\\xf7\\xa3\\xc6K\\x1c-\\xbc\\xc4z\\xfa\\xf6\\xdb\\xe7\\x90\\xff\\x99\\xf6\\xaa-\\xa8\\xe0K\\xc6=\\xb0\"h\\xb9G\\xac\\x08\\x1d\\xf7\\x80\\x9d\\x08\\xc7=5\\xbej`\\xd7\\rZI\\xbc\\t\\xa4\\xd8\\xae\\x93\\xde\\x13{\\xe5z}B\\x0f\\x84\\t\\xee\\xffj\\t\\xfa?,<\\xd7\\xa9%\\x137-\\xc4\\xc4a\\x10\\x13#\\xc2~\\xc07\\x88\\x89\\xa0\\xad\\xabn\\xfb\\xf5\\xbc\\x8e\\xa7\\xff(\\xe3?R\\xfb\\xda\\x05\\xb7\\xd5~\\xc1\\x10\\x9c\\xde\\x01a\\x82\\xc7=\\xb5\\xa4~\\xb7D\\x9d\\xc1H\\x8c\\x9fN~\\x9b$\\x1e\\xf7q\\xcd\\xb8e\\'\\x13\\x95\\xfc\\xc0\\xb9,\\x00&8\\x97\\xa5\\x96\\xd7o\\xbegG\\xf8s\\xd4\\x18\\x89\\xa3\\x85\\x91XO\\xef\\x96N\\xa2Nj\\xabZz-\\xea\\x14\\xfc\\xc0\\xa2N\\r\\x81\\xa8C\\x11J\\xe1\\xd5\\x10\\x89cb!\\xde^\\xd0\\x19\\x88\\xc4x\\xa3\\x14o\\x93\\xc2\\xe3x\\xff\\xf0Q\\x85\\x82\\x1fX\\xc4\\xa7\\x14\\t\\xf9\\xfd\\xd27\\xa2x\\xd79\\xbc\\x16E\\xe2\\x98O\\xefx\\x93\\xa23\\x14\\t?\\xe6\\x7fJ\\xf1\\x99\\x8e\\xce\\x06u\\xbd\\xf2\\x84\\x07u\\x7f\\xd4\\x0e\\x83z\\x95\\xc3\\xd3?\\xf6zP\\xdb\\r\\xea\\xad\\x13z\\x86\"1\\xde7\\xc5\\xfc5\\x87\\x17\\xb8\\xbeD]v>\\x01\\x14\\t:\\x9f\\x90R$\\x0eX\\x82\\xb1\\xad\\xbe\\xf2\\xa4E\\x918\\xe6\\xd3;\\xe4\\x94\\xc33\\x14\\t\\xf6\\xfb\\x07\\x8a\\x84T\\x1f\\xef\\xcc\\xa8!\\x100\\x19E\\x02uecz\\x8b\"q\\xcc\\xa7\\xb7\\xdf\\xa4\\xdb\\x0cE\"\\xf0{\\xe9\\xb6L\\xc4\\x83\\t\\xc1\\x93\\xb8Z\\x82I\\x1cex?^-\\xa9\\xe3\\xad\\x0fa\\rEb\\xbcS\\xdf\\xd0\\rE\"p\\xbc\\xfe\\x10V\\xc9\\x0f,\\xe2\\xd5\\xc0\"^\\r\\xbcfSC\\x9a\\xa3oQ$\\x8e\\xf9\\xf4\\x1do\\xa2HL\\xfb=\\x95\\x05n\\xff\\x90\\xa4\\x03e\\x82\\x92U\\xa0E\\xf0\\x1c\\xae\\x96G\\xe0y\\xbd\\xf5\\xda\\xe2H\\x1c\\x86#q\\x10Gb\\xda+\\xc7qH/\\xbe\\xcf\\x05\\x1c\\t\\xda\\x9c\\x00G\\x82\\x13R\\xb0\\xf01\\x03\\xb5\\xa4\\xed\\xbc%\\xda\\x0c*b\\x84\\x97\\xda\\xf9\\xabh\\x0b\\x02^\\x7f\\n\\xabp\\x07\\xd6.j\\x08\\xb4\\x0b\\x8a\\x90v\\xa9A\\x11G\\x0b\\x14\\xb1\\x9e\\xde\\xed\\x9c$\\x9b\\xd4\\xb6\\xc3M\\xb7\\x96\\x81\\xeb\\x90$e\\xd4\\xcc\\xebQ5D\\xc3\\xb9\\xee\\xe4\\xf2\\x95F7Cb\\xe4\\xaa\\xc6\\xc5\\xff\\xfb\\x9f\\xdf\\x9f\\xd5\\x07\\xd3\\x03\\x9a-\\xa6\\xc4a\\x98\\x12\\x87\\x8f\\xe0?\\xd3^\\xbd\\xa1%\\xb8\\xb2]+\\xc5C\\x04\\x03\\xa0n\\xec\\xba\\x86\\xf8-\\x7foN\\x91\\xdc.ji\\xd7\\x02J\\x1c\\x06(1Z\\tu\\x87\\xd7d\\x9d\\xc7&~J\\xf15\\x8f\\x87\\xe4\\x14\\x98?\\x82\\xf9n\\x15\\x8c\\xe6\\xbbe\\t\\xee\\xb4\\xa9\\x89\\x12G\\x8b(\\xb1\\x9e\\xde\\x1d\\x82\\x84\\x9d!J\\x04\\x8ecs69\\xa4\\xac\\x14\\x08^\\xbc\\x01)\\x11\\x0c\\xfc\\xaa\\x159\\xe0jx\\x99\\x94\\x8d\\xa4=[L\\x89\\xf5\\xf4\\xf6\\xdcK\\xbbi\\xcf\\x1b\\xba\\x98%\\xe4\\x89\\xa4\\x85\\x99\\xf6\"a\\xe0\\xe5:,\\x0f\\xda\\x8a\\x80%\\x19\\xf9\\xcf\\x16Sb=\\xbd\\xfd\\xf6\\xd2n\\xda+\\xbf5%\\x17\\xafb\\xa4\\xf4\\xccb\\xfa\\xafN`\\xe0\\xc3\\xa7\\xb0|\\x10:\\xe9\\xb6Di+\\x18\\xb3D\\xe5\\xd9\\x82J\\xac\\xa7\\xf1V\\xc6\\x0bw\\x03\\xc0\\xb4Woe\\xe9\\xbed\\x83FJ\\xaf\\xdc\\xaeK\\xde\\xc0\\xc0\\xf3\\xe1m\\xf1\\xd9[\\x18\\xc2\\x9b.\\x83R\\xae\\x8btRy\\xa7\\x01N\\x8c\\x17N/\\xe55\\x95G\\x83\\x83\\x14\\x9f\\x0b\\xded\\xbb\\x0evZ\\xe9\\xc3\\xc0\\xd3%,\\xb4\\xea\\x83!\\xed\"\\x9d\\x9d\\xdb\\xd3\\xf0&\\xc6;%\\xbf_wn}\\xa2\\xefS\\x8a\\x17\\x0b}\\x98\\xe9|6\\x0cQ\\x17\\xd1\\x83z\\x94\\xc1D\\x99\\xd4\\xef\\x8e(<\\rpb\\xbcR\\xf2\\xdb\\x88B\\x7f\\xb9\\xa1\\x14/v0`\\xa6\\xb9\\x1f\\x06Z\\xfc\\xc0\\xc0\\xc9zXR\\xb7;\\x87\\xf1\\xce\\x89\\xa6\\xd8}\\xdf\\x8b\\xc2i\\xdf}\\x9f\\xdd.?\\xbe\\x90\\xd2a\\xe2\\x16\\x86h&XEx\\xeeG\\x99\\xd4\\xef\\xce\\xd7\\x17\\xa7\\x81M\\x8cWJ\\xe1~M\\xe4\\x05\\xcd\\xbc\\xfc\\xfaBj\\x9f\\xad\\xc1\\xbd\\xafo\\x18x`\\xd3\\xfa\\x1e?\\x08^T\\xf0\\xfa\\xe2\\xdc(\\xd7\\xd9\\xa8=\\'\\xa9b\\x87\\xdfk\\xbfi\\xaf\\xc2_j?)=\\x07\\x03\\xd2~\\xb0\\xb0\\xf6\\xbb\\xcb\\x04\\xc3\\\\\\xf9\\xd9\\xed\\xd9\\x82O\\xac\\xa7\\xb7\\xe3^\\xfbM{\\xe5\\xb8j\\xbftx\\xc7N.Mz\\xd9\\xc9<\\xf9\\x8b\\xf2\\xb2h\\xcd\\x0fC\\xd6\\xee[\\xec\\x89\\xd3\\xb0\\'\\xc6\\xcb\\xf6\\xed\\xde\\xb0\\'\\xb8\\xdd\\xdf\\xa4\\x88X\\xf3J\\xf5\\xb3\\xe1\\xfb\\xab\\x14`\\xa0\\x86\\x8f\\n\\xe9\\xe3;\\x94xfT\\x9ds\\xe2$\\xde\\xcd\\xdc\\xaf\\xa7w\\xc0I\\xfaImE\\xc0\\x95\\x14\\x91\\x89\\x1c5\\x13\\x06Y\\xfe\\xac\\xbc\\x10\\xf6[\\xa5d\\x04\\x14B\\xa1T\\xecO\\xa0\\xc4\\xfb\\x9eK\\x12\\xf0\\xf6\\xdc+\\xcd\\x7fN\\xa9m{\\xee\\xaf<\\x13s\\xb1\\xbe\\x83\\x99\\xd7w\\xb0\\x04}\\\\\\xab\\xa4\\xe3i\\x7fP&m\\xeb-\\tg\\x00\\x14\\xe3\\xa5R[7\\x12\\x8e\\x1d/\\xef+>\\xc1\\x9f\\xa01\\x9eX\\x12k\\xcf\\x02\\x05>~\\x1c\\xe3\\x81\\xa9H\\xe5}\\x0bGq\\xce\\xa7w\\xfcI\\xd1\\x89\\xbd\\x8a\\x7f\\xfd\\x85\\x85T\\x1f\\xe6\\xf1a\\x08\\x94\\xac\\x16\\xe1!^\\ri\\xf8[\\x8a\\xce\\xd0(\\xc6\\xdb\\xa7\\xf0\\x1bE\\xc7\\xe1\\xd7\\xbd\\xd9d\\xb1\\x07\\x1a\\x05-\\xf6\\xd4\\x10(YX\\x02\\xbf\\xcb\\xef+\\xce\\t\\x98x\\xbf\\xbf\\xbf\\xf2\\xc3F\\x14\\xc8o\\x93\\xe7c\\xbf\\xeb\\xef+\\xe4\\xc7$C\\xbc\\xffV\\x02\\xed>\\xbb\\xf2\\x0eU\\x8d\\x83\\xd6\\xf7o\\xb4b\\xa6\\x85\\xa38\\r\\x8e\\xe2$\\x1c\\xc5\\xb4W\\r}i\\xb0t\\x88Gv\\xcf\\xbe\\xcfo\\xa96\\x1e\\xe2U\\xd3\\xc5C\\xbc\\xd6\\x96z\\xde\\x92q\\x06H1^+\\x85\\xdc\\xa4\\xf08\\xe4KYe\\xf9\\x1cEHp>\\'`K\\xcc\\x98\\x8fw\\xa2\\x19<V3\\x04\\xb1p\\x11\\xefl\\xcd\\x9e\\x93]\\xb1\\x876Rqb\\xaf\"^~7+\\xb5K`y\\xd1\\xa6\\x06^\\xb4\\x01FAG\\xeaQW\\x16\\xee\\x16\\x8c\\xe2\\x9cOo\\xb7I\\xc4\\x19\\x18\\x85O1|J\\xf1)\\xcb\\xe3L>\\xcc>\\x93\\xff\\r\\x03i\\x19\\xd4\\xf7\\xe3\\xc4\\x86\\x07\\xb3\\xfb\\x8a\\xcf\\x16\\x9bb=\\xbd_\\x03I:\\xc3\\xa6\\x08^Cy_\\xb1\\xd4\\x1e\\xe5\\xad\\xc6kH$\\x1d\\x98\\x15a\\x7f\\x871m\\x00\\x9d\\x9d\\xdas\\xb2,n\\xcf\\x89N1\\xed\\xbb\\xdd\\xfb\\x0b.\\xc5\\\\I:0(x\\xd9\\xa6\\x96@\\xd2\\xdde\\\\\\xeb\\xf8\\x83?\\x96:\\xde\\x92t\\x06A1\"\\xe1\\x07:\\xb1W\\x8e/I\\x97\\rtJ\\x8d\\xe0\\x81\\x0e\\xa0\\t\\xfa\\x84\\xee\\xcc,\\xc3\\xefr\\xab\\xf6\\x9cP\\x89\\xb7\\xe7t\\x83\\xa0\\x18\\xaf\\x94\\xfc6\\x1a\\x8e\\x03\\xfe\\x83\\x86\\x03O\\xc2\\xefQ\\xcb\\xaf\\x94\\x96\\x12h8`+\\xe8C\\x12\\x94I\\x03\\xde\\x12q\\x93X\\xb1[:\\x898\\xc3\\xa0\\x08\\xfax-\\xe2\\xc0\\xa0 \\x11\\x07\\x06\\x05}Ut\\xde\\xa8\\tn\\xe8\\xb5\\x88\\x9b\\xe0\\x88\\xf7\\x03nD\\xdc/\\x12q\\x063\\x11\\xf8\\xfd\\x83\\x88Sj\\x04\\xedM\\x9dj\\xe0/\\x87`\\xf1\\x83\\xcd\\xef\\xbb\\x08/\\xe1\\xb5\\xb2g\\xba\\x90i1(N\\xc3\\xa0\\x18\\x81\\xa0N`rv\\xdc\\t\\xca\\xedY\\xa9=\\x9e\\xed\\xd5\\xc0\\xb3=JpKXUe\\x1f\\x91\\x8d\\xe1\\xa7\\x81\\x9eZO\\xef.@\\xe2\\xce0(\\xfc\\x91\\xc41\\xdb\\xeb\\xd9\\xba\\xf8l=\\xcc^\\xe4\\x8ci.>z\\x87\\xff\\x97\\xc9\\xdeE`\\x8cy\\x9a\\xf0\\xcbN\\xe6\\x9c-\\x04\\xc5zz{N\\xf2\\xce (\\x02\\xcf\\xcb\\x93wR{\\x9c\\x9cVC\\x90\\x9c\\x86\\x85Wp5\\x82bl\\x8dw\"n\\x10\\x14\\xe3\\xa5\\xfa\\x86n\\x10\\x14\\xec\\xf7M\\x8c\\xf8\\xf7\\x90l\\xbe\\xd9\\xfeG~\\xcb\\x1464\\xe8\\xa9!X\\xb9\\xc2\\xc2{0j\\xc9\\x06\\xfb\\x16\\x80\\xe24\\x00\\x8a\\x11\\x1f\\xf2\\xdb\\xe4\\xe8\\xfc-qR|\\x05\\xf4\\xd7y\\xfd\\xf2c\\xe2\\xf0;\\x13tD\\x93\\xd0\\x85\\xab\\xfe\\x7f\\xbc\\xdb\\x88\\xdaR\\xcf[\\x82\\xce0(F\\x84\\xc8s\\x93\\xa3c\\xcfkA\\xa7\\xe0\\x88 G\\x07:\\x05a\\tN\\x94\\xa13\\x87\\xb0\\xa4\\x8e\\xb7\\x04\\x9d\\xc1P\\x8c\\x10\\x91\\xe3F\\xd0\\xb1\\xe3\\xf5\\xe1\\xbbSq\\x13<\\xcf\\x81CAg0P\\xc4K\\xbd\\xdf00g\\xed.\\x92\\x0e\\xf8-F\\xc59\\x9f\\xbe\\x87=bTL\\xfb\\x16\\xb9\\xfcN~\\x10{\\x8a\\x95\\xe0\\xadg5\\x04bO-\\xbc\\x9a\\xaf\\x11\\x15g\\x0bQ\\xb1\\x9e\\xde~\\x93\\xd6\\x93\\xda*\\xbf\\xf11Ex\\x1eQj\\x9f\\xc3\\x1e\\xe5k\\x897\\x81\\xee\\xaf\\xf5\\xfd\\xb8\\xac\\xd5\\n^/\\x8c\\xb1I\\x8d\\t\\xa1x[\\xfa\\x19d\\xc5\\x086u\\t\\x93\\xbf\\xf37\\xa4\\x9dJ\\x9e\\xc8\\xd2Xj\\xa6\\xe3\\x89(\\x17\\x1c\\xc7@\\x8d\\xa4s\\x08r\\xe1\\xdcn\\xed\\xc8\\x1a^\\xc5\\x88\\x16\\xb9m\\xd4\\x1d\\xbb\\xad\\xd9\\xb6lG.\\xe1U|\\x9dj\\x88Z\\xbdV\\xc9~\\x97\\xc7\\xef\\xce\\x16\\xacb=\\xbd[=\\xc9;\\xa9m\\xb7z\\xf6\\xbb\\x96w\\xca\\x97`yG\\xe0\\t\\xb4\\xfaU_(\\xef\\x80\\xb1H\\xf37\\x13@\\xf1~C\\x7f\\xbd\\xf5n\\xc4\\x81\"n\\xb2w\\xec\\xb9\\xee\\xc1&\\t\\xfa\\x0cWq\\xde\\xb8\\n\\xd7\\xc4\\xbea\\xf9 \\x82\\x01,\\xd9\\x9c\\xd7\\xc2U\\x9c\\x06W1\\xe2\\xef\\xfd6\\xb8\\x8a\\'\\xf9]\\xe3*\\xa4\\xf6h\\x9c\\xfb\\x82!h\\xe8Z\\x84\\x8e]\\xa3H\\xeav\\xe7\\x02\\x94s\\xc2-vC\\'ugp\\x15\\x81\\xdb\\xf8\\x1e6\\xd9z\\x06}\\x82r\\x18j\\x08\\x96\\xb4\\xb0\\xf8t\\xedo\\xf9\\xad3E\\xcakZ\\xb5\\xfcJ7g[4\\x8bs>}\\xbf\\x14\\xa2YL{\\xd1\\xfb\\x95/\\x91|l\"\\xa5\\xa7\\x1b\\x9c\\xc9SK\\x90\\xc9S\\x0b\\xf7\\x81\\x9aeq\\xb6X\\x16\\xeb\\xe9\\xed7\\xe9>\\xc3\\xb2\\x08\\x1aC\\x9d\\xc8S\\xfa\\x04\\'\\xf2\\x00\\xb9\\xe0D\\x1e,\\xbc\\xc4\\xa9Q\\x16\\xe7\\x84S\\xbc=\\xe6\\x19\\x94\\xc5\\x88\\x0f\\xf5}\\x93\\xc8\\xf3\\x17B\\xc9\\x1f[I\\xe9_\\xff~\\x9e\\xfe\\xaa\\xdc\\xff\\xc0\\xcc\\xa3}B\\xb2@\\x81p\\xb4\\x07\\xe5\"U\\xb5-\\x96\\xc5iX\\x16#\\xfe\\xe4\\xb9Qw\\xec\\xf9RcY\\xea\\x16\\xf0\\t\\xff\\x19\\x9d\\xfc\\xd9\\xd9\\x05\\x82\\x88\\xe3\\x8a<\\x9a\\xdf\\t\\x7fauM\\x0bdq\\xce\\xa7wK\\'9g@\\x16\\xfe\\xeb\\xc2O)\\xbeF\\xa2x1\\xaff>P\\xa9\\x86`1\\x0fK0\\xdc\\x97\\xb7\\xdd\\x9d-\\x92\\xc5zz\\xfbMzNj\\xdb#\\x1b\\xc7\\xfb\\x07=\\xa7$\\x0b^\\xc5\\xa8!\\x9a\\xe6\\xb4J\\xce\\xdeh\\x99t\\x9ek\\xe5\\xeb\\x0c\\xc9b\\xc4\\x8f\\x1a\\xba\\x11t\\xec\\xb8\\xe6\\xd0\\x92\\xdd9\\x85O\\xd0w6\\xa7\\x1a\"\\xbf\\xb5\\xc6 \\xe0\\xf5\\x91\\xba\\xc9\\xa6x\\x7fh3r\\x8eH\\x16\\xa7\\xd4V\\x05\\xbc\\xbc\\xfcDJgS\\x99n\\xd3r\\x0e\\x03e\\x82\\x80\\x97\\x1f\\xca\\x9e-\\x96\\xc5zz\\xb7t\\xd2s\\x86e\\xc1=\\\\\\xf9\\x12\\xd9\\x82\\r,\\x0b\\x8f\\xf0\\x90?;\\xf7f\\x08\\xe1q[h`\\xabQ\\x16g\\x0be\\xb1\\x9e\\xden\\x93\\x9e3(\\x8b\\xc0\\xed\\x1f\\xf4\\x1cX\\x16\\xa4\\xe7\\xd4\\x10\\xe89\\xb5\\xfc\\xc5y\\x8a\\x1afq\\xb6`\\x16\\xeb\\xe9\\xdbq\\xff\\xc7\\xfe\\x99\\xf6\\xdd\\xd0\\xfd\\xedFb\\xae\\xd2\\x94j\\xe6\\x05\\xba\\x1a\\x82\\x05\\xbaZ\\xf8\\xe3\\x99\\x1aeq\\xb6P\\x16\\xeb\\xe9\\xed6I6\\x83\\xb2x\\xb2\\xdb\\xf5q:p)\\xfc\\x85\\xf5\\xf2g\\x93-H\\xb5\\x04G\\xe4k\\x96\\xc5\\x10N\\x9dl\\xbcaY\\x8c\\xe8\\xf9\\xf1\\\\\\xecU\\xb8q>.\\xfc>N~K2\\xae\\xa9%\\x90\\xe8\\xb0\\xf01\\x13\\xb5d\\x13Y\\x8bWq\\x1a^\\xc5\\x88\\x039n\\x14\\x1b\\x07\\xbcVl\\n\\x91`\\x8d\\x0e\\xba\\x04+6X8\\'\\xad\\x96\\xd4\\xef\\xd67\\x11\\x06HA*{\\xf4o\\x93\\x80c\\xbf\\x7f\\xd8{U\\x8a\\x04\\xe7\\xa4A\\xa4\\xe0\\x9c\\xb4Z\\xa8)\\xfc\\x91\\xdf\"\\xcd\\'u\\xbc\\x95\\x823H\\x8a\\x11~\\n\\xb8\\x91l\\xec\\xf8\\x0f\\x92M9\\x12,\\xd9R&\\xc5y[\\xecO\\x19~\\xd7)\\xb8I\\x99x[\\xb9\\x18&\\xc5x\\xa5\\xe4\\xb7Ql\\xec\\xb7\\xea\\xab$\\x11\\x951)\\xce\\x94Iq[\\x82\\x86^+\\xb6\\x16v\\xe2\\x9cO\\xef\\x11\\x9d\\x12p\\x06;\\x11\\x8c\\xe8\\xf5\\xf1\\xb9\\x0c;!\\x7fV\\xda,o\\xa8\\xa3\\x84\\xd3-\\xbfQ\"\\\\\\xa6j\\xa1\\xf4\\x0ci\\x8bHq\\x1a\"\\xc5\\x88\\x83o\\nb\\xdf\\x83\\xbd\\xbf\\xe0G\\x8a\\xcf\\xd1<\\x11\\xefj\\xf6wL|\\xa1\\\\ \\xdeQ\\x84\\xb4\\x9c\\x1a\\xb2\\x9e?!\\x12o\\xf7\\x00\\x83\\x9c\\x18\\xaf\\x9b\\xdc6;\\xaf\\xec\\xb6j\\xb9\\x84\\xbcp\\x82\\x1f\\xe1\\x0f\\x0b\\r\\xc7WIF\\x13\\xdd\\x16v\\xdc\\x9f\\xbf\\xb3\\xab\\xf3\\x16r\\xe24\\xc8\\x89\\x11\\x06r\\xdcl\\xbc\\xb2\\xe3\\xf5\\xc6+\\x10\\x11,\\xe6\\xd4\\x12L\\xee(\\xc3jN-i\\xc4[\\x1b\\xaf\\x8671^69n6^\\xd9qUs\\xc9\\x98\\x07\\xde\\x04\\x9d1\\x00o\\x82\\x0fV\\x817\\xc1c^\\xcd\\x9b8[\\xbc\\x89\\xf5\\xf4=\\xe6\\x11ob\\xda\\xab\\x0e^\\'\\xe0\\x147\\xc1G\\x86\\xd5\\xc0c\\x9e\\x1a\\x82h\\xaf\\xbf\\x94F\\xbbu\\x8c\\xce\\xc0&N\\x82M\\x9c\\x066\\xf1\\xe4h\\xd7\\xf7\\xd4I\\xf1\\x99\\x96\\xa4\\xb5\\x1a0\\x14,i\\x80\\xa1\\xe0|\\xabZR\\xc7[Z\\xce\\xc0&Fp\\xa9\\x99\\x1b-\\xc7\\x8e\\xd7\\xdf\\xb7*8\\x825,X\\x13\\xacaa!\\xd6\\xc4\\xa9\\x96\\xd4\\xef\\x96\\x943\\xac\\x89\\x11\\x1f\\xf2\\xdbH9\\xf6\\xfb\\x07)w3%l\\xbdc<_\\x05\\xa3\\x89\\x0c\\x16/\\xe5j\\xd6\\xc49\\xe9\\x11\\xefOd\\x92\\xaa\\xdb\\xdd\\x9b\\xa4\\x9caM\\xf8=\\x8eO\\xf9cU~]\\xcdA\\xf7\\xd6/(\\xfc\\x15.\\xa8\\xf0\\x83\\x97j\\x84\\xa7p\\xd3X\\xebC\\x08\\xc3\\x99\\x18A\\xa0p\\xbf\\xe6\\xde\\x02\\xb75\\xb9\\x96\\xdcCy\\x024\\xc1\\xfd[\\x0b\\x06\\xfd[-D\\xd2Be\\xc19\\x9a\\x00[a_J\\x0bBq\\x1a\\x08\\xc5\\x88\\x84\\x7f)\\x06B\\xc1/E\\xf1\\x0f\\tcVj\\x9fM\\x85\\xa685\\x04\\x99\\xf7\\xdbB\\x9aF-Y\\xdf\\x9f\\xec\\x88\\xb7\\xfb\\x80!M\\x8c\\xd7M~\\xbf\\x8a\\xb9\\xc0\\xef\\xa5\\xaf\\xb2\\x9d\\x16\\x85C\\xf0\\x98\\x97\\x92&N\\xb5\\xfc\\xc5S{M\\x9a\\x18\\xc7\\xf8:\\x89\\x9a\\xf9\\xf4\\xdd\\xf7\\x8941k\\xbb\\xa7\\xf6\\xc0\\xefZ\\xcb\\x014\\xc1\\x99w\\xb5\\x04Z\\x0ee\\xf8\\xd0\\xb4Z~=\\xcf\\xe0\\x18\\xad\\x1a\\xd3-\\xe6\\x16\\x84\\xe24\\x10\\x8a\\x11\\x0bj\\x0e\\xafJ/x-%YLj_#\\xa6\\x9f\\t\\xd4\\x10\\xa4+A\\xa7\\xe0^P\\x7f21\\xa1\\x12\\xef\\xf7\\x02I\\xf2\\xed\\xd6@i;\\xa9\\xadj\\r8E\\x17\\xd3VO\\x85C\\xd0\\xcd=_\\xb0\\x04K\\x1ap+\\xd8\\xf1Z\\xebMt\\xc4\\xfb\\x8e\\x8b2\\xdc\\x8eS\\xda\\xce\\x80&\\x82x\\xab\\xd6\\xcb\\x0eR\\xdd\\xd4\\x08\\n\\xf8*\\x18L\\xfd7\\xbb\\x82\\x1d\\xaf\\xbf\\x99h\\x81&N\\x03\\x9a\\x18a\\xa0\\x86\\xfe\\xaa\\xf5\\x02\\xc7\\x91\\xb7\\x8b\\xcf\\x0f\\x024\\xe1\\xfa\\xcf\\xb7\\xfcY\\x9b\\x82\\xd3\\x93T\\xfa\\xff\\x1f\\x111\\x12\\x85~\\xbd\\x8c\\x0cn\\xaak\\xc9\\xbdI\\xa6\\xd81\\'\\xb9gX\\x13>\\xfd\\xf0y\\x82\\r\\x91\\xac\\xe6\\x12\\xd6\\xc4h\\xea\\xd0tt\\x94\\n5\\xf2\\xe7A\\xc4\\xa7p~\\xb7\\xf6Z\\rhb\\xbcT\\n\\xf9k\\xe6.\\xf0\\x1b;\\xa31@\\xf4\\x046\\x82tOJ\\x9a@\\x11\\xdek\\xadA\\x13g\\x0b4\\xb1\\x9e\\xde\\xf1&\\xbdg@\\x13\\x81\\xdf\\xf5^\\xeb\\r\\x9a\\xe0\\xb6\\xee\\xf7M\\xd1\\xd6\\xd7\\xff\\'\\xd3\\x99\\xfe\\xb5L\\xdd\\xb4P\\x13\\xa7AM\\x8c\\xd7\\xedC.\\xf6=\\xae\\xfbk,\\xa5\\xf8\\xca\\xd0%\\xc7\\xc8\\x80\\xa2\\xa0\\x1bL\\xd4@\\xb9IT\\xc8G\\xc5\\xd4\\xf2L\\x0f\\xd0\\xb4x\\x12\\xa7\\xe1I\\x8c\\x16@\\x8e\\x1bY\\xc7\\x8ec\\xbf5\\x1e\\xde\\xc0\\x93\\xa0\\x90\\x13\\x1bBC\\x0e\\x9aD8\\xbc\\x01B\\x91~\\x08\\xd4BJ\\x9c\\xf3\\xe9\\xbb\\xb9\\x13Rb\\xda\\xab\\x98\\x977\\x13Kii\\x12\\xfe\\xc8\\xf1\\x17\\x0c\\x9c\\xb4\\xb9\\xb1\\x11~-K\\x10\\n;\\xb8M>\\xc4\\xdb\\x13\\xb9\\xa1I\\x8c\\xf0S\\xc0\\x8dp\\xe3\\x80\\xd7\\xc2M\\xf9\\x0f\\x9c\\x9aTC \\xdc\\x00\\x93\\xa0i\\xbcfI\\x9c-\\x96\\xc4zz\\x07\\x9b\\x84\\x9baI\\xf0\\xd8\\xa6|\\x87l\\xf9\\x92\\xb1$\\xe4\\xcf\\xce\\x81\\x81S6\\xb0p\\xca\\xa6fI\\x9c\\x93\\x0e\\xf1~\\xb8\\x8dn#\\x96\\xc4\\xacm7r\\xba\\x8a\\r\\xac\\x88\\xe4;?5\\x07\\x8d\\\\\\xb7i)u\\x01\\xc6\\x04\\xa7&k\\x92\\xc4\\xd9\"I\\xac\\xa7w\\xb8I\\xb5\\x19\\x92\\x84_|}J\\xf1\\xb9\\x99\\x14\\xa3C`\\xe6\\xd5\\xaa\\x96\\x0b>\\xf2\\x83\\x85S65J\\xe2l\\xa1$\\xd6\\xd3\\xdbo\\x92lR[\\x15n\\xcd\\xd0%\\x92M\\xb1\\x10|.\\xf0&I\\x90dS\\x0b\\xa3\\x01\\xe5\\xa7V\\x9b\\xcc-\\x92\\xc4iH\\x12#>4\\xaa\\x19\\xc9\\xc6\\xcd\\xfc\\x07\\xc9\\x06\\xd2\\x04I6P!\\xe8\\xdaq\\xf9E\\xf3@\\x0e\\x0fk\\xf5f\\xeb\\x04C\\xbc\\xdf\\xbd\\xcd\\xf18\\xc2H\\x9cR[\\x15\\xefZ\\xb2\\x81\\t\\xe1\\xc7\\xc3o\\xa97\\\\\\x9e\\xe8\\xff\\xc7\\x92\\r\\xd5\\xa5\\xbb\\xaa-\\x94\\xc4iP\\x12\\xe3}\\xfb\\x98\\x1b\\x94\\x04\\xf7q\\xa0$\\xb2\\xf4\\xa4\\xda\\xfd\\x89\\x8ao\\xf9\\xbb\\xa1\\xef\\xa8\\x905\\x9bZ\\xc6\\xeds\\xf7o\\xb4Sx\\x8b%q\\x1a\\x96\\xc4\\x08\\x059n4\\x1b5v\\x80\\x1f\\x92\\xedd5s\\xcc\\t\\x0b\\xa1\\x9a\\r\\xf5\\x85\\x9a\\r\\xc6<\\xe6\\xadl\\x9c\\xa1I\\x8cH\\x90\\xeb\\xaf;\\xabA\\xcc\\xebSr\\x8a\\x80`\\xf5\\xa2\\x86@\\xbd\\xa8\\x85W\\xa4jH#\\xde\\xdaW54\\x89\\x11\\x7fr\\xdb\\x886\\xba\\x8aI\\xd1\\x0f\\xd9\\x07\\x1d`F\\x04!\\xf7\\xb93\\x84\\\\\\x8f\\xcf\\x85\\x89FT\\x97~\\xd0\\xd5\\x02J\\x9c\\x06(q\\x12Pb\\xda\\xf7\\x10\\xc7\\xbe\\xff\\xf0\\xe1\\xaaB \\xfc\\x8df_R\\xaft\\xf3 \\xf3\\xa4\\x16^\\x8d\\xd7@\\x89s\"\"\\xde\\x1e\\xda\\rP\\xe2$\\xa0\\xc4\\xac\\xad\\xf2[wO\\x13\\xe5\\xa6\\x10\\x88\\xbf\\xdcL9\\xdc\\xce\\x94\\x9b\\x1aX\\xaf\\xd6<\\x89\\xb3\\xc5\\x93XO\\xdf\\x02\\xc6\\x0f\\xbe\\xffL{\\xe5\\xf5\\x0f\\xc7\\xe4\\x00\\x94\\xa0\\x89\\x1cp\\x08\\xdes\\xbaQ\\x13\\xb6\\xd3\\xfd\\x96\\x9f2\\xb5}0\\xde\\xab|\\xcc\\xc7\\xfbV\\x1e\\xce\\x10$F\\x80\\xa8\\xf7\\x1bQ\\xc7=\\xa0\\x16u\\xca\\x83`Q\\xa7\\x86`\\xcb\\xe9\\xb6\\x90\\xb8QK:\\xea\\xb5\\xf2p\\x86!1^7\\xf9mD\\x1d\\xfb]\\x7f\\xf3\\xa0\\xd4\\x87`\\xd0K\\xee(\\xd1\\x02q\\xeaU\\x8d\\xbf^\\xd2\\x08n\\x8aom\\xbdN\\xe6\\xc4\\xee\\x06\\x94\\x8a3\\x14\\t?6|\\x9e\\n\\x83\\xc8N\\xff\\x03\"A\\xa7\\xff\\xd5\\x10\\xcds\\xba\\xf3\\xca\\x11/?z\\xb8Z\\x08\\x89\\xf5\\xf4v\\xdbK\\xbai\\xcf{\\xbf\\x98\\x8be\\x1b\\xcc\\xb4l\\x83\\x81\\x97m\\xb0\\xd0w\\x8b0$\\r\\xfdj\\x11$\\xd6\\xd3\\xdbm/\\xe8\\xa6}\\xbb\\xed\\xef \\x12\\xf3\\\\j\\xfc\\x15^Q\\x023\\xa9\\x1a\\x188\\xda\\xb0\\x90\\xaa\\x81!u\\xbb#\\xe6\\xae\\t\\x94\\x80\\xdb\\xe3\\x8d\\xba\\xfe=\\xed\\x95\\xdb%\\xd3UJ\\x87[\\xe90\\xf0\\xb8\\x06\\xcbH\\xe2\\xba\\x14\\x1c,\\xa9\\xdf\\x1d5w\\x19\\n\\xc4x\\xa5\\xe4\\xb7Qs\\x1c\\xee\\xfaz\\x12\\xa9~:\\xee\\x93\\xcd0\\xf8d3\\xfe\\x9f\\xcfN\\xc0r\\xbc\\xc4\\xc6\\x8cj\\xd7\\x04;\\xbc+i\\xd6\\xd3;\\xe0>\\t7\\xedU\\xc0\\xcbcrRzf\\\\\\xbd\\xa4\\x81\\xc1\\x9f\\xc3\\xfc\\x86\\x81N\\x10\\xc0\\x90\\x86\\xbbsL\\xee2\\x10\\x88\\xf1J)\\xdc\\xaf_<x\\xc5\\xf3)\\xc5\\xcbAm\\x99\\x83A-\\xfbF\\x155\\xf2\\xf1!XR\\xbf;\\xa7\\xe4.C\\x81\\x18\\xaf\\x94\\xfc6;\\xa7\\xdc\\xccU^%[\\xc6R\\xfd|/\\xfe\\xdb\\x1e\\x18X\\xb8\\xc3\\x12t\\xef\\xf2\\x83\\x87kr\\x1d\\xdeo\\xe5\"\\xeev+\\xf7rm\\xd6V\\xb5r\\x95k\\xf1\\xf2\\\\J\\xcf\\xde\\xed\\xb7T`\\xe0\\xde\\x8d\\x0fT\\x83\\xbb\\xd5P(\\xdd1\\xbe&\\xcb\\xe1}\\xd7_\\x0f\\xca\\x8d\\xd7M!7\\x8a\\x8dC\\xbe\\x94W\\xb2N\\x95\\xdf2\\x05\\xb7\\x9f\\x8dGG\\x8e%\\x1b\\xfe?LG\\xdd\\xd5e;iW\\x0b\\xfe\\xb0\\x9e\\xdea\\xf7\\x92m\\xdaw\\xd8\\xfd\\x05Kb\\x9e\\xceea\\xd7\\xcf\"\\xb8\\xb5\\xeb&)e Q\\xa3\\x1f\\xdd~\\xdf\\x7f*J\\xd8\\xc0\\x98\\xed\\xb1]-2\\xc4zz\\xbf\\x14\\x12t\\x86\\x0c\\xe1\\x15\\xca\\xa7\\x14_/%\\xdeW\\x85\\x9d\\xbez\\xba\\x0b\\xd2r\\x0e\\x16JH\\xff\\xbe\\xcb\\xd0z\\x0e\\x96\\xfc\\x9dt\\xae,\\xb9&bb\\xbf\\x13R{\\x06\\x1a\\x11\\xbc\\x93\\xa5\\xf6\\xb2N\\xa2l\\x08\\xban\\xe6K\\xfe\\xee\\x9c\\x1f\\xe9\\x93fXx\\x1e$\\xd0\\x84\\x9d\\xfd[\\xc8\\x88k>}\\xfbM\\xc8\\x88i/:\\x88\\xf2\\x1d\\x92-8)\\xbdD\\xb0\\x1ds\\x86\\xdb*\\x13i\\x0b\\xee\\xb6P\"\\x07\\x96l\\x1e\\x9c\\x0c\\x88\\xb7\\x07EC\\x8c\\x18\\xef\\xda\\x0f\\x8ab\\xaf\\xfc\\xc6Y\\xb8\\xf0v\\x8eK\\xb9\\x0e\\xfe\\xa2\\xa3\\xe1\\xb7\\xdef\\xe2&\\x84o\\x18h\\xfa\\x1f=`\\x159.>>\\x18T\\xe7\\xdaB\\xe7\\xf3\\xd7\\xcb\\xe0#\\xc6\\xeb\\xa6wb\\xce\\xd1\\xd1`\\xa9H\\x87\\xe4\\x14\\xad\\xd4\\x1eK\\x7f5\\x04\\xd2\\x1f5\\xd2\\xbe$*K\\xdbBK\\x0b\\x1a|\\xc4x\\xa7\\xe4\\xb7\\xd1\\x82\\xfe\\x96\\xa6Ka\\x0f\\x1f\\xc9\\x9e\\x05\\xec\\xc1x\\xa8b0\\x18\\x0f\\xd5\\xc2\\xa2H\\xffX\\xeaxK\\x0cN\\xda\\xc4\\xee\\xfc$\\x06\\xc5\\xbe;\\x01;\\xbe\\x04Z:\\xe8\\xa9V\\xf4\\xca`\\xf4\\x82e\\xe1c\\xb4\\xb0\\x04\\x8b=-\\x93:\\xdeI\\xde]\\x86\\x1f1\\x02D\\x117\\xc9;v\\xbcV\\x83\\x8a\\x89\\xa0o\\xff\\xe4\\xcf\\xc6\\xd9kX\\x82\\xc1\\xbe\\xdc\\x90\\xbd&\\x0e\\xe2\\xfdA\\xcf(A\\x82G\\xcc\\xda\\xaax\\x97_\\xbfJ\\xe9\\xa4\\x83/C\\xd4\\xc1\\x93\\xfdX\\xd4\\x95F\\xbb\\x93\\xb7\\xbb\\x0c;b\\xbcj\\x8a\\xb6\\xd9\\x8f\\xe5h\\xebG\\xac\\xf1\\xb9\\x03\\xa9=\\x99\\xe3T<\\x06s\\xdc\\xb20\\xf5\\x1b\\x95e~\\xb7\\xe0\\x11\\x97\\x81G\\x8cW\\xea\\xfd6\\xf0\\x08\\x9f\\xc9\\xfd\\x94\\xe2U\\x06K\\xcd\\x9c\\xc1RC\\x90\\xc1\\x02\\x15\\x8229jH\\xddnI\\xb9\\x89\\x96\\xd8\\xa3\\x1aI9\\x03\\x8b\\x08\\xdc\\xc6\\xe5\\xc1\\xf1\\xd4\\xaex\\x07?\\xb5\\x7f_\\t,\\x02\\xff\\x1f\\xce\\xdf`Ed\\xbbr\\xd7\\xc4?\\xbc\\xdd\\xbf\\r,b\\xc4\\x8f\\x02n6b\\xfd}D\\xf2\\xc7\\xa6\\xb0\\xcf\\x16\\xf77L\\xc2\\xab95\\x04\\x8b{\\xb5\\xf0\\x04\\xae\\x864\\xe2\\xad\\xdc\\x9daE\\x8c\\x17N~\\x1b1\\xc7~\\x97\\xf7\\x95\\\\\\x8aw\\xe0\\xe1\\\\\\r\\x91\\xdb\\xf77\\xb3>gY\\xb3\"\\xae\\x16+b=}\\xb7tbEL\\xfb\\x1e\\xcf\\xd9\\xef:u\\xa7\\xdc\\x07\\x7fk\\xe5h\\xe9\\xfe\\x1b\\x86\\xb5\\x01\\x8d\\xff\\x8f[\\xba\\xde\\x8d\\x92\\x06\\xbc\\xa5\\xd8\\x0c+b\\x04\\x88\\x02n\\x14\\x1b;^\\x7f\\xe4z\\x01\\x16\\xe1\\xb7b`\\xe0\\x0b\\x89`y\\xddj\\x9ao\\xe5\\x0f,\\xa9\\xe3-\\xc56\\xd1\\x12;\\xe2\\xa4\\xd8\\x0c,\\xc2\\xdf\\x059\\x86\\xf4Z\\xb1\\x01\\t\\xc1\\x8aM-\\x81bC\\x19\\xde\\x96PK\\xeaxK\\xb1\\x19\"\\xc4x\\xa7\\x14q\\xa3\\xd88\\xe2\\xe5v\\xeb\\xa5|\\x07\\xdan\\x85!\\x90.Z\\x84\\x15\\x9b\\x1aR\\xb7;\\xbb\\xad\\xe3r\\xfb\\xd7\\xb4\\xe5/\\xca\\xdd\\x19\"D\\x10o\\xfdX5\\x91.\\nq\\xe04u@wX\\xb8/\\xf9A2G\\x04n\\x97\\'\\xe8\\xae\\x16\\x0eb=\\xbd\\x9b9)6\\x83\\x83\\xf8\\xdb_\\xd3\"\\xc5\\xcb\\x0c\\x95\\xda\\x03\\xe9\\xa2\\x05yE\\xa6E~\\xd1\\x05s\\xf8cY\\xbc[<\\x88\\xcb\\xf0 \\xc6\\xcb\\xf6\\xcd\\xdc\\xf0 \\xd8q\\xf0 \\x92|%x\\x10\\x94\\xaf\\xbcy\\x10\\x94\\x97\\xd8\\x84\\t?\\x93\\xd5<\\x88\\xab\\xc5\\x83XO\\xef\\x80\\x93f\\x93\\xda\\xf6LF\\x01\\x07\\xbf!>\"+\\xb5\\xc7+\\x135\\x04\\xdd\\x1b5\\xd2\\xd1`T\\x96\\xc6\\xbb\\xb5\\xdbjh\\x10#\\xfa\\x14o\\xa3\\xd8\\xd8\\xef\\xf2C\\xd6q\\xd2 \\xce\\xcd\\x7f\\xc1\\x12\\x8c\\xe7Z\\x86;\\xb8\\x1aR\\xbf[\\x8a\\xcd\\xc0 \\xc6+%\\xbf\\x8dbc\\xbf5\\x8d\\x96\\x8ck\\x8a|\\xb8h\\xfe\\x06\\x0b\\x82\\x97d\\x19%\\xe2\\xcf\\xa5\\x96\\xd4\\xefV\\x8a\\xcd\\x00\\x1fF\\x14\\xc8o\\x93bc\\xbf\\xebssW\\x06|\\x80!\\x90\\xaaZ\\x843M5\\xf0a|F\\xd7\\xf8`{=}\\xf7\\xef\\xbfH\\xb0\\x19\\xe0C0\\xae\\x95\\xe7\\xe6\\xa4v\\xe9\\xdfAT\\xfdG\\xa7\\xaaT\\xb5@\\xa8T\\x7fb<\\\\-\\xc6\\xc3zz{N\\x8aMj\\xdb#\\x9b\\xbf\\x9eC\\x8a\\xcf\\xa1+>1\\x08\\xb3\\xf7|tp\\xdd\\x88\\xe5\\x01}\\x19\\x82\\x89\\xacf<\\\\\\x93\\xda\\xf0\\xf6R\\xd40\\x1eF\\x80\\xa8\\xa1\\x1b\\xbd\\xc6n/\\xbd\\x96\\x9c\\x95\\x92\\xdf\\xb2\\xde\\x8a_\\x89\\x02\\xf1@7\\xa5\\xa2\\x08\\xafD\\xb5H\\xda\\xbf[zm\\x02!v\\xb4I\\xaf\\x19\\xc4\\x83\\x97\\x9b\\x9f\\x17\\xb0\\x0bY*Y\\xed>i1\\xc2\\xad\\xa99\\x16.j\\xa1\\x9e?\\x06\\xb6Z\\xb1\\xb5\\x08\\x0f\\xd7|z;N\\x8aM\\xecU3/\\xbfy\\x90\\xda\\xa7\\xa0\\xe3\\x85\\x89Z\\xa2\\x89L7g]\\x0f\\xf8\\x8d\\xca~E\\xf4N\\x18\\xd3\\xed\\xe7\\x16\\xff\\xe12\\xfc\\x87\\xf1\\xc2}/0\\xfc\\x07n\\x0eJk\\xc8v\\xd7\\xd4\\xec\\xbf\\x85\\xfe\\x92?;_\\x17\\x0f\\x88\\xb0\\xd0K\\x81\\xe1\\xd78\\x90\\xf0\\xf8\\xfb\\xe5\\x9f\\x97}x0;SyM\\xf8\\xc3\\xdb\\xe3\\x84AE\\x8c\\xb7Oo\\xc8\\x08?\\x1a\\'nzCxg\\xba\\xfc\\x96X\\xf8\\x81\\xed@\\x97\\x93\\xa1\\x08\\xeb\\x1f-\\x92\\x8d\\x13-\\x18\\xc4e`\\x10#^\\xe4\\xb6\\xd1}\\xec\\xb6\\n\\xbbD\\xe7\\x83\\x15\\xe1z\\xe1h\\x18\\xab\\\\ \\x03\\xc0\\x8f\\xe0\\xf1\\xb1\\x86A\\\\-\\x18\\xc4z\\xfa\\x1e&\\x1e\\xa4\\xfb\\x0c\\x0c\"\\xe8\\x10\\x9aW\\xcb2\\x94\\np\\xa0{G\\xe5\\xef&;/j\\xe1\\xed\\xe6\\x1a\\x06q\\xb5`\\x10\\xeb\\xe9\\xed7\\xe9>\\xa9\\xed\\x1e\\x1ei\\x13\\xf8S\\xca\\x97+Z\\xd0\"\\xe8\\x98]\\x80v\\xd0\\x95\\xbcZ\\xe8\\xd6\\xa6\\xfd\\xb7\\xa2\\xb3IZ\\xea5\\xb9l\\xb7\\x9c[\\xa8\\x88\\xcb\\xa0\"F\\x94\\xa8\\x1f\\xbc&\\xf2\\xa2\\xf7R\\x0bC\\xc5;\\xb0<R\\x03\\x9f>\\x04D\\x82\\x07\\xc8\\xf5\\x97\\xfe\\x1a/\\xc5u\\xab?\\xe2\\x85D\\xe7H\\xd3\\xf8-\\x8e\\xc4e8\\x12#\\x1c\\xf4R^%c\\xf4R\\xea,\\x1f8\\x13\\xfe\\x84\\xfa\\xb7\\xfca\\xf1\\x83}W\\xcd\\x18\\xce\\x98\\x80Ld\\xe8\\xd7\\xab\\x05\\x93XO\\xef\\x9eB\\xc2\\xd1\\xc0$\"\\xe7\\xebL\\x9f\\xf2\\x1f8\\xd3w\\xc3$\\xfc\\xd7\\xb2\\xf2\\x8b\\xd6\\xd8a\\xe3\\xf0\\x1b\\x86\\x8f\\x9f\\xb0qx\\xf0\\xc8\\xaey\\xba&H\\xe2\\xfd9\\xd3$\\x05\\t;1k+\\x07\\x93\\xf2\\x1b\\x0c)>S|<{`\\x1f\\x97\\x16\\x15Z\\xc4\\xe7\\x80\\xc7+\\xd2?\\x15\\x9ej\\x831\\x97\\x12\\xadm\\xde\\xc9\\xb0\\xd8-\\x87$\\xa8\\xa1RD-GEf:\\xb9@\\xa3\\xfaE\\x87\\xc2\\'\\xa2Yu\\x15!J\\xc1\\xa5E21\\xd1\\xa2R\\\\\\xf3\\xe9\\xed8\\xa9LC\\xa5\\x08\\x1cWVD&3A\\xadps\\xcb\\xb7\\xfc\\xddp\\xb8\\xd0\\xff\\xff\\xf8QK\\xea\\x83\\x8ft\\xe8ha*\\xae\\xf9\\xf4~\\x0f\\xa4%\\r\\xa6\"z\\x0f\\xf5\\'\\x1b\\xc0TPVI\\r\\xc1\\x867,\\xae\\xc3\\xfc\\x91\\x9fj_\\x9d\\x9dD[\\x94\\x8ak>}\\xfbM\\x94\\x8ai\\x7f\\x19\\x0f\\xfc\\xf5!b/\\xc5\\x058\\x15$.P\\x90W\\x9d\\xb0\\xd0ux\\xfb\\x8fE\\xea\\x02\\xc5\\xd2O\\x1bZ\\x1c\\x8bk>\\xbd_\\x0c\\xa9M\\xc3\\xb1\\xf8\\xf0\\xdf||J\\xf9*\\xf9\\xa2f\\xafb\\xbfP\\x8e\\xd5\\x058\\x16\\xac6\\xd5\\x92\\xae;[ \\x8b\\xcb\\x80,\\xc6+\\xf7\\n\\xc2\\x80,\"\\xc7!7\\xc3\\x1b\\x84\\xa4\\xfa9C\\xf8\\x0b1a\\x08FB\\xc0/|S\\xf9\\x8d2\\xe1\\x17|\\xbb\\xc2\\xdb\\x03\\xd7QZYH\\x83\\xb9\\x18Q\\xa2\\xd7b\\xd5&w\\x94\\xfa\\xab\\x0fp.x\\xa0L\\xd2\\x90\\xa0\\\\\\xfc<P\\xaa\\xc0\\xcc\\xfbEk\\x17\\xd9`/\\xc6;\\xa6\\xf7`\\x05&\\xbf\\x87Z`*\\xa9\\xe2\\x97\\x97\\x03c\\xc6H\\x04&J\\x84\\x023\\x80e\\xb8F\\xd0\\xdaI6\\xe8\\x8b\\x8b\\xd0\\x17\\x97\\xd8\\xcb\\xd1R\\x05f&\\x132\\xf6\\x85T\\x9c\\xacA\\xd5\\xf2\\xc1\\x9b\\x8b5\\xfc\\xe2j\\xc1/\\xd6\\xd3{8\\xa4\\xe4\\xa4\\xd4Vz^\\x9f\\xff\\xcb\\xe8\\x17\\xf2w\\x97\\xe3$\\xadaa\\xe1\\xa8\\x96\\x9f\\xb55\\x1eL\\xd7^-P\\xc6e@\\x19#d\\xd45^\\xf3\\x98\\x1f\\xff\\xf6\\xf7xH\\xf9r\\xca\\xd0\\x93\\x7f\\xae\\xdc\\x982\\xf4\\x90!IkT\\xc8\\x12b\\x95\\xc8$d\\x0b\\x86q\\x19\\x18\\xc6\\x08\\x98w\\xdb\\xc00\\x02\\xb7\\x15Q\\x91\\xe5\\xeb\\x81\\xb6 \\xe9\\xa4\\x86@:\\x81\\xafA~\\xd74\\x8c\\xabE\\xc3XO\\xef.A\\x92Qj{\\xe9\\x12\\x14\\xee\\x1bw\\x11O\\x94j\\xf6+\\xed/\\xf9\\xbb\\xc9X\\x80\\x1ayCN-i\\xc0[\\x1b\\xcf\\x86\\x861\\xc2O\\x01\\x7fM@F\\x01\\xff\\xe1\\xac\\xa0\\x12,8\\x13\\xa7\\x86@\"\\xa8\\x853\\x905\\r\\xe3\\x9a|\\x8b\\xb7\\x17\\xcf\\x86\\x861\\xe2@\\x8e\\xbf\\xee<G\\x8e\\xdfG\\xfb\\xceq\\xda\\xc0I\\x88\\xff\\xc8\\x8f\\x893\\xce)\\x0e\\x03E\\x98E\\rK\\x1a\\xf1\\xd6\\xd6\\xf3\\x84g\\xdcM\\x9dp\\x18\\x97\\xd8\\xcb\\xa6\\xbeD_\\xb6JT\\xba\\xc5\\xe5F\\xcco\\xa97\\\\%\\xea\\xff\\xff\\xbcJ\\x047#\\xbb\\xad\\xe8\\x9a\\xc8\\x8b\\xf7\\x1b\\xc0\\xeb\\xe5{\\xe3\\x15S\\x03\\xb0\"\\x90\\xbb\\xbc\\x1e\\x1eL\\x088\\xf2k\\xd6j\\xca\\xf5\\xa9\\xd1\\xe9\\x97\\x85\\xaf\\x8b\\x86%h\\xfa^9Z\\xe53\\x99\\x17\\xef{.\"q\\xb7\\x00\\x92}R[\\xd9\\x02\\xf4\\x83\\x8elwR\\xb1\\x16\\xbc;\\t\\x12\\x06\\xaf\\x133z\\xc6\\x9f\\xabfd\\\\\\x93z\\xf1\\xbe\\xe7\\xe6\\xeb_bd\\xcc\\xdaJ\\xcf\\x97t\\xcb\\xbet\\x01\\n\\x83\\x05/\\x11/\\xf4\\x00\\x02J\\x84\\x82\\x17\\xc6\\xf4\\xd3\\xc6\\x16(\\xe3\\x9aO\\xef\\xb0\\x93\\xec3\\xa0\\x8c\\x0f\\xff)\\xfc\\xa7\\x94\\x9f\\r:\\x13\\xbcj\\x0f\\x86\\xfa4_\\xa8E\\x829\\xae\\xde\\x93\\x9e\\xf0\\x8b\\xf7\\xa3\\xfez\\x0f\\xdf\\x881\\xf5t\\xab\\xe5\\xfc]5\\x17X\\x18\\xc9\\xd9\\x0b5{\\xb2\\xf7\\xe8\\xe7\\x99\\x96K\\x0c\\xa3\\xb1\\xd7Z\\xae\\x05\\xc3\\xb8\\x0c\\x0ccD\\xcf\\xbbm`\\x18A\\xbc\\x95P\\x915v\\xa0-\\x88\\xf0%\\x7fX\\x1aJ\\xb0\\x17\\x0f\\xc0\\x06o6\\xa1\\xb6\\xb0#\\xdc\\x14\\x8dd\\xf5\\xdf\\x82e\\\\\\x06\\x961^9\\xbd\\x17\\xab\\xf5\\xa89\\x80z\\x91\\x1c2T3\\xef,\\xa8!8d\\x08\\x0b\\x9f\\x9d\\xaei\\x19W\\x8b\\x96\\xb1\\x9e\\xbe\\x07\\x00\\xa2eL\\xfb\\xcb\\xe8\\xc7\\x8e/\\xad\\x97\\xcd\\xfc\\xca\\xb0\\xf03\\xff\\x97\\xd4;\\x07\\x0e>\\x86\\xa0\\x16\\xfe\\n\\xfe\\xc6h\\xfct\\x0c\\x01T\\x8d\\xecV\\xfd\\xabE\\xceXO\\xefWD\\xaaPj+_Qy\\x03\\xb3T\\xbfV\\x85~\\xeb Eg\\xa0\\x08o\\x1dh\\x91L\\x14\\xb6\\xd0\\x19\\xd7|z\\xfbM\\x89B\\x83\\xce\\x88\\xc6\\x8a\\x1f\\xf6\\xa5\\x95\\x83\\xc1\\x92\\x00P\\r\\x96\\x04\\x19n\\xe3\\x8f\\xfc\\xd8*i\\xdebg\\\\\\xf3\\xe9\\xed9\\xc9@\\xc3\\xce\\x88<\\x87\\xcc\\x8bW~\\n\\xc2\\xe0\\x95\\x9f\\x1a\\x82\\xf5\\x0f\\xd8\\x19\\xc4I\\x93\\xdfZ:\\xdeJ\\xfe\\x19v\\xc6x\\xa74\\x0cZ\\x15H\\xf7\\x81\\x00v\\x91\\r\\x83z`\\x91r\\xc3Z.\\x1a\\x06\\xe3\\xb3\\x8a#\\xe0\\xf5\\r0\\x13\\x85\\xf1\\xb6\\x1a0\\xe0\\x8c\\xf1J\\xc9o\\x9b\\xf7c\\xbf\\xf1\\xd1or\\xed\\x05\\xd0\\x19\\xb4K\\x02@\\x86\\x1fx\\xbf/\\xb5\\xf0n@M\\xce\\xb8&\\x0b\\xe3}\\xc7\\xcdv1\\x913fm/c\\x1b;\\xae\\xfb\\xc1\\x8f\\x10k-\\xc5g*#\\xd0\\x03\\xcb\\x12\\xe9\\x01\\x95\\x94\\xbc\\xe0\\xa9\\xd9\\x19W\\x8b\\x9d\\xb1\\x9e\\xde}\\x9c\\x04\\xa0ag|\\xf8\\xcb\\x90>\\xa5\\xbc\\xb8\\x96N|\\xcb\\x1cL|\\xba\\x93\\x1cL|j\\xe1\\xe3e\\xfa\\xb7\\xb2a\\xbdE\\xce\\xb8\\x0c9cD\\xc8\\xb7uC\\xce\\x08\\x1c\\x07\\x1a#Q\\xbejf\\xe5\\xab\\x06\\xde\\xf8\\xbaY\\x1c\\x94\\xce#\\xd8\\x86]\\xe1\\xb6\\xc0\\x19\\x97\\x01g\\x8c\\xf0\\x91\\xdfV\\xe2QS\\x07\\xe9\"[\\xea\\xa8\\x9d\\x97:\\xa0`\\xf0\\x85?j\\xe1\\xd4>\\xd16\\x9c\\xe3\\xadt\\x9e\\xc1f\\x8c\\xf0\\x93\\xe36\\x9d\\xc7\\x8e\\xd7\\x07\\n\\x15v\\xc1\\xb3\\x99\\x1a\\x82\\xd9\\x0cE8\\xe0\\xebO\\xa5\\r\\xbd\\xf5\\x1d\\x89\\x01g\\x8c\\xf0\\x93\\xdfV\\xb7\\xb1\\xdf\\xb5n\\xcb\\xc8\\x19WJ\\xce\\x80%\\x88\\xf7\\xfaS\\xa9\\xdf\\xadd\\xde\\xe4l\\xdc#\\xdb\\x93t\\x9b!g|\\xf8S\\xae\\x9f\\x17@\\x17\\xc9$\\xaef^\\xcb\\xa8!\\x98\\xc4A\\xdb\\xe0x\\xd7\\xaa\\xadE\\xce\\xb8\\xe6\\xd3\\xdboRmb\\x7f\\x99\\xcb\\xe8\\x8e\\x1a\\x90.\\x92\\x83\\xb3 k\\xb8z\\xbf\\xe4\\xef&\\xf9z\\xb5\\xb0N\\xaf\\xd1\\x19W\\x0b\\x9d\\xb1\\x9e\\xde~\\x93h3\\xe8\\x8c(\\xdeKIe\\xfb3\\x8a\\xbb\\xe0\\x0f\"\\xd5\\x10\\xec\\xcf\\x80\\xc6\\xc1\\xf1\\xaeE[\\x0b\\x9dq\\xcd\\xa7\\xb7\\xdf$\\xda\\x0c:#\\xf2\\x1b\\x1f\\x8a\\xc4\\x979(\\xee\"\\x98\\xc8V\\xb9`\"\\xd3L \\xbb]_\\xd4\\xd2\"g\\\\\\x86\\x9c1\\x82O\\xc3\\x9a\\xdd\\xa9\\xe5f\\xfeC\\xcaN9\\x18\\xc1<\\x96\\xa6\\xec\\xb4\\x08kU5\\xa4\\xe3Z\\xeb\\x0c\\xdf\\x04m\\xecx\\x93b3\\xe8\\x8c(\\xde\\xf5w$ a\\xb0VUK\\xa0U\\x01\\xc8\\xe0/A\\x89\\xb7ag\\xf0\\x168\\xe32\\xe0\\x8c\\xd1\\x00|\\xc8\\r8#\\xf0\\x1c8\\x8b\\xe4\\x93H5\\xb3V\\x05 \\x83\\xb5*,\\xec8\\xc16\\x9c\\xe3\\xad\\xebZ\\x0c8\\xe3\"p\\xc6%\\xf6jH\\x07\\xcc\"\\xdb\\x8f\\xb9\\xc9\\x1a\\xb4\\x1f\\xa3\\x96`?F-\\xdc\\xd8\\t\\xb7\\xe1<o\\x896\\xc3\\xcd\\x18\\r\\x80BnE\\x1b\\xf5r`.\\xb2\\xfd\\x18\\x903\\\\[\\xfa\\xbaP\\x90W\\xa4(B\\xc3[M\\xce\\xb8&\\x0b\\xe3\\xed\\x15\\xa9!g\\x8c\\x00\\x93\\xe3V\\xb5\\xd1\\x8dL\\n\\xb3\\xc8f35\\xf3l\\xa6\\x86`6\\x03\\x8c\\x83\\xfd\\xaeU[\\x8b\\x9aq\\x19j\\xc6\\x88\\x02\\xf9m\\xb7`\\xd9\\xef\\xfa\\xc2\\x16%]\\xf0l\\xa6\\x06\\x9e\\xcd\\xd4\\xc0\\xe2\\xa5\\x86f\\\\-h\\xc6z\\xfa\\x1e\\xd4\\t\\x9a1\\xed/=\\x9c\\xdd\\xd6T[\"V\\x15u\\xc1bU\\r\\x81X\\x85\\x85Uz\\xcd\\xcd\\xb8Z\\xdc\\x8c\\xf5\\xf4v\\x9cT\\x9b\\xd4V:\\xfe\\xc3\\x86+\\xc0\\x19\\xdc\\xc1\\xb5`\\xd0\\xc1\\xb3\\\\\\x9b\\xd6\\x95M\\xe3\\x13w\\xf1~\\x077\\xfb\\xad\\x04\\xc7\\xb8\\xa4\\xb6\\xd2q\\x95_\\xd9d\\xa6_\\x07\\xd3\\x17\\nJ\\xba\\x08\\x98\\x01j\\xe1\\xbcK\\r\\xc7\\xb8&\\xee\\xe2}\\xbfM\\xaa\\x8d\\xe0\\x18\\xb3\\xb6\\xd2\\xef:\\xd5\\x06\\x9e\\x05\\xcb\\x17\\xb5\\x04\\xf2\\x05D\\r\\x1e\\xd9\\xea\\xad\\xd6\\t\\xbbx\\xdfq\\xb3\\xd5\\xea\\xbf\\x90\\xfa\\xe72h\\x8c\\x0f\\x7f\\x07\\xf5\\xa7\\xd8\\xd7\\xa1\\x898\\x9b\\x0e6\\x86\\xebAc&[\\xe5\\x82\\xfc\\x03,\\x9cbTK\\xd2\\xd2\\x9f-8\\xc6zzwq/\\xdb\\xa6\\xbd\\x88\\xb8\\xd8\\xd7\\xe6z\\x0c\\x1f\\xbf\\xed\\x14rXX\\xbd\\xdce|\\xc8aH=\\xef\\xe8\\xb6\\xe7\\xa4il\\xcf}\\xaem\\xda_<\\xf7W2\\x89}\\x85<\\xce\\xa7\\xc3\\xee/\\x83\\xf8\\xba\\x0b\\xd2\\xe0\\x06\\x0bur\\x18R\\xc7;\\xb2\\xedi\\x08\\x19\\xe3\\x9d\\xbaY|\\xdaK\\xc7\\xeb\\xa3sR^^\\x0c-\\xce`\\xe0\\xc6\\xbe-\\xf6\\xb7\\xfc\\x81!u\\xbc\\x93l{\\x1aD\\xc6x\\xa7\\xe4\\xb8\\x95m\\x1c\\xf12\\xd9&\\xd5\\x87\\x9b\\xa40\\xb0l\\x83\\x85\\xf4\\x0b\\x0c\\xa9\\xdf\\x9dd\\xdbs\\xf24\\xd0\\xd2\\xc7+%\\xbf\\xadlc\\xbf\\xcb\\xaf)\\xa4\\xfa\\xe9\\xb7\\xdf8\\x82!\\x8a7j\\xe4.^f\\xdb\\x9e\\x13{\\xf1\\xee\\xa8\\xbe\\x9e\\xde\\x8e\\xfbl\\xdb\\xb4\\x97-\\xbd>*\\'\\xe5\\xe3\\xa3r\\xb0D\\x83\\x1b2q\\xd4\\xd4\\xcbM\\xd2\\xe7\\x04_\\xbc\\xef\\xf9\\xebQ\\xb9\\x11\\x08\\n\\xb9Un\\x1cr\\x95Y\\xb1\\x80\\x91\\x1f#\\x8e\\xd3j\\x1c\\x06\\x160\\xb00\\xb3\\x15\\x96\\xb4\\xadw\\xbe\\x8exN\\xaa\\xc6\\x0e\\xb9O\\xb8M{\\x19\\xf22\\xe1&\\xc5\\xc5qZ\\xa2\\xc0@K\\x14\\x18>h-\\x0eK\\xeaw\\xe7\\xe2\\x96\\xe7Djl\\xbf}\\xc6m\\xdaK\\xbf\\xcbo#\\xa4\\xf8\\xec\\xe3~W\\x1c\\x06^\\xa3\\xc0\\xc2\\x1f\\x85\\xc0\\x92:\\xde\\xc9\\xb8=\\'Oc;\\xee3n\\xd3^:^f\\xdc\\xa4\\xf8J\\x9c{\\xad\\x0e\\x0bKVX>\\x82y\\xbc<\\'\\xf7la0\\xd6\\xd3\\xdbs\\x92n\\x06\\x83\\xf1\\xf1o\\x7f\\x19\\x97\\x94_\\xf3U\\x98[\\x86\\x99\\x9b\\xba\\x96\\xe3\\xa6\\xae\\x06\\x9e\\xcd\\xd4\\x90\\x05|\\xb2+\\xde\\x1e\\xda\\x0c\\xe9b\\xbck?\\xb4\\x19\\xd2E\\xe4\\xf6\\xd2m\\xc9\\xa6\\xf8S\\xe9\\x14~\\xcf\\xf9\\x0b\\x86`h\\x03\\x1d#p\\xbc\\xfcL\\xf6\\xd9B]\\xac\\xa7\\xefx\\x13\\xeab\\xda_Z:\\xc7[u[\\x9c\\x86\\x90\\xe2q\\x17WC\\xd0\\xc5A\\xc1\\xa0\\x0c+*K#\\xde\\xd2m\\x86u1\\xe2@\\x11\\xb7\\xba\\x8d\\x1d\\xc7\\xad+\\xc9\\x1aE\\t\\x15\\x1f\\xbcFQK0\\x8d\\xa3\\x0c\\t\\x185\\xa4\\x9e\\xb7\\x94\\x9b!Z\\x8c\\x97J\\x9e[\\xe5\\xc6\\x9e/5\\x95$\\x1a\\x9f@Z\\xf8\\xcf\\x9a`\\x08\\x14+\\x8a\\xb0\\xdf\\xb5p\\x9b\\x8c\\x8a\\xf7\\xfb\\xf8\\xeb7\\x0eO\"Z<\\xa5\\xb6\\xb2\\xa9/-\\x95\\x1c\\x01\\x96\\xe2S\\xb7Q\\xca\\r\\x96`PG\\x19:\\xf3\\x8d2i\\xc4;\\xa7\\xdb\\x9e\\x06i1\\xe2@\\x11\\xb7\\xc2\\x8d#^\\xa7\\xdc\\xa4\\xfe\\xd9\\xcb}\\xca\\r\\x06\"W|\\xc3\\xc2\\xb3Y\\x8d\\xb4xNH\\xc5\\xfb!\\x7fM\\xb9\\x8dwJ\\x8e\\xdb\\x94\\x1b;\\x8e\\xe3ma\\x06F~L\\xbcHI\\x99\\x16(B\\xdfv\\xde\\x06\\xb9\\x14\\xc4\\t\\xad?\\xb71\\xbb+\\xe5\\xd9B^\\xac\\xa7\\xf7\\xa0O\\xbaNj+{B\\xbd\\x93*\\xf5\\xc7\\x8bu5\\x04\\x8b7\\xb5\\xd0\\xa1o\\xd4\\x95v\\x84\\x96\\xae3\\xd0\\x8b\\xf1V\\xa9=\\xd8\\x8f\\x1f\\xfc\\x15cO\\xc5Z\\xfc\\x1d\\x1f\\x01\\x839P7\\xc9\\xc7\\x0f(A\\xb3\\xc4\\x08y\\xad\\xeaZ\\xd0\\x8b\\xa7\\x81^\\x8cW\\xea\\xfd6\\xd0\\x8b\\x0f/\\x7f>\\xa5\\xfcJ\\xc8\\x8dK+\\xff\"\\xae\\xf3\\x7f`\\xe7\\xec\\x0c\\xb0\\x17t\\x04\\x0cE\\xe8\\\\/\\x0cY\\xc0\\'\\xc8\\xe2\\xed\\x01\\xc0`/\\xc6;%\\xc7\\xed>*\\x05\\x1c,\\x8ad7\\xf1\\xa9v\\xce\\xc7\\xa1 \\xe7\\xe3\\xd4B)X\\xd4\\x95:\\xde\\xca\\xc7\\x19\\xea\\xc5x\\xa7\\xe4\\xb8\\xddFe\\xc7\\xcb\\xcf\\x1b\\x9eJ\\xaa`A\\x0b\\\\\\x06\\xed\\x9c\\xa3H\\xb0f\\xad\\xb1\\x17\\xcf\\t\\xb2x?\\xe2\\xa2\\x02\\xef\\xb1\\x8d\\xb0\\x17\\xb3\\xb6\\x97\\xb1\\x8d\\x1d/?e\\x95\\xe2\\xb1\\xa0\\x05\\xf7\\x82>wC\\x11\\xd2\\xf8\\x7f`I#\\xde\\x92u\\x93\\x92\\xb1\\x1d\\'Y\\'\\xf6\\xd2\\xf1:!\\xa7|\\x0b?7}?\\x13\\xf0\\x05\\xfe\\x7f^aB\\x13\\x1a0\\x1a\\xd9\\xdd\\x1d\\xcf\\t\\xb3x?\\xe8F\\xda\\x11\\xfab\\xd6V\\xfa^K;E_\\x8c\\xf3q\\xb6\\x1b}I\\xc5\\xd2\\x1c\\x02i\\x872\\xbc~SK\\x1a\\xf5\\x96\\xb43\\xec\\x8b\\xf1\\xce\\xa9\\x9f[i\\xc7\\xcd\\xbd<\\x03\\xf7T\\\\\\x05\\x9d\\x1a\\x80!\\x10\\xf3Z$\\x18\\xd8\\xcb3p\\xcf\\t\\xb3x?\\xe2F\\xd9\\x11\\xfab\\xd6\\xb6#\\xee;\\xe5\\x98\\xd1\\xea\\x0bK`\\x0ff\\xb4\\xec\\xc2\\x12\\x14\\t\\x1c/O\\xc1=\\'\\xce\\xe2}\\xc7_wSG\\x18(\\xe0F\\xbb\\x05\\x8e\\xd799EY\\x04-=\\xf9\\xa2a\\x0c\\x00Z#/\\xd8\\xd5\\x92\\xb6\\xf4\\x96v\\x9b\\xb0\\x8c=\\xbe\\x91v3\\xf8\\x0b\\x12T#\\xe2\\xe5w\\x0b0\\x073Z\\xf6\\xdd\\x02\\x8a\\xfc\\xe2,\\xac\\xfe\\xad\\xcc\\xf1\\x16\\xfe\\xe2i\\xf0\\x17\\xe3m\\xfb\\x88\\x1b\\xfcE\\xe0x\\xcd\\xbf\\x90\\xea\\xa3\\xc5\\xdb7\\x0cN:\\xfc\\xc6\\xff\\xc7\\x03\\xbb\\xd6\\xf6: \\x9a\\xd3`\\xcf\\x16\\x02c=\\xbd\\x83N\\xfa\\xcd 0\"\\xdf\\x7f\\xd8O\\x05\\x04\\x83V\\xae@]<\\xfd\\xf5<\\xf2\\x93f\\xb6\\x9e\\x92\\x15jH\\x83\\xde\\xd2o\\x86\\x811^9\\x05\\xdd\\xe87\\xee\\xe6 V\\xc4\\xdf\\'=o\\x08\\x06\\xcdhj\\tf\\xb4\\x0c\\x9c\\xf1\\x07\\xb5\\xa5\\x9e\\xb7\\x12s\\x86\\x821\\xde6yn\\x12s\\x81\\xe7\\xf5\\x86\\xaa\\x92+xFSC0\\xa3\\xa9\\x85\\x15{M\\xc1xN\\xae\\xc5\\xdb\\x03\\xbb\\xa1`\\x8cWJ~\\x1b\\xfd\\x16\\xf8]\\x9e\\x83\\x93\\x1f\\x13o2\\xa9\\x813\\xef\\xe0fpC\\xaf\\xb3r-\\x08\\xc6s>}\\xf7p\\x82`L\\xfb\\xcbD\\xee\\xaf]\\x13\\xfb\\xca5\\x84\\x1f\\xe2\\xc1\\x1cH7-\\x185\\xf4\\xe4\\xbb\\x86\\xd1\\xd0\\xeb\\xed\\xd4\\x16\\x04\\xe39\\x9f\\xde\\x9e\\x93t3\\x10\\x8c\\x01\\xd2\\xb5\\r\\xe2S\\xca\\xcfEy\\xb66\\x05%\\x83\\xc76-\\x18\\x8cm\\xcb\\xc2\\x9a\\xb5\\xc6`<[\\x18\\x8c\\xf5\\xf4v\\x9c\\xb2rR[\\x19\\xf2\\x1f\\xb4\\x9b\\xc2+X\\xbb\\x01\\x84\\xc1\\xd9\\x08\\xb03\\xb8\\xad\\xd7\\xdam\\xa2-\\xde\\xef\\xe2F\\xbb\\xfdE\\xda\\xcd\\x800\\xa2\\x88\\xeb\\x86i\\x92~Rv\\x05\\xa7\\x9f\\xd4\\x10t\\xf1U!\\x9d\\xf8|\\xd6\\x18\\x8cg\\x0b\\x83\\xb1\\x9e\\xde\\xf1&\\xe5f0\\x18\\x91\\xdb\\xfaI\\xe9_\\xbf\\xceA\\xffr\\xfd\\xe4?R\\xfd\\xdar\\xf4\\x8b35D#\\xfa*\\x12\\x8c\\xe8u\\xd6\\xad\\x05\\xbax\\x1a\\xd0\\xc5x\\xa5~D7\\xa0\\x8b\\xc0oP%\\xe2\\xef\\xb2\\xa4\\xfa(\\x15\\xf1\\r\\x03\\t7\\xd4\\x17\\xa6\\x98\\xd5\\xf8+\\xbb;\\xe2\\xd9BX\\xac\\xa7w\\xccI\\xb8ImU\\x1f\\xaf\\x19\\x16R\\xfd\\x1c\\xfb|O\\xfe\\x82\\x85\\xef\\xd9\\xbc\\xcbp\\x8e\\xb9\\xa6X<[\\x14\\x8b\\xf5\\xf4\\xed9Q,\\xa6\\xbd\\xf4\\x1c\\'\\xe1\\x92\\x8dE@)xc\\x11 \\x0b\\xce\\xbd\\xa9\\x85\\xdb{\\xcd\\xb1x\\xb68\\x16\\xeb\\xe9\\xed9)7\\xc3\\xb1\\x88\\xda\\xfbRn\\xd9&\\xba\\xb2\\'x\\x85\\xa6\\x86`\\x13\\x1d\\x1c\\x8b \\xe4\\xe5\\'\\x0c\\xcf\\x16\\xc8b=\\xbd\\x1d\\'\\xe9fA\\x16~\\xc7\\xf5S\\xca\\x97\\xe9u\\xb5\\xf3\\x84\\xa6\\x86`?\\xe5\\xb6\\xd8A\\xe7\\x0f\\xfeV\\xa6\\xd5[\\xa4\\x8a\\xa7!U\\x8c\\xf8\\xd3\\x08g\\xb6T\\x03\\xc7\\xcb\\xfbB\\xa4\\xfa\\xb0\\x97\\x8f!\\xce\\x0b\\xb1u\\x85\\xd8]\"\\xbaZ\\x1f\\xc6\\xecf\\xfd\\xb1\\xb1\\xdb\\xa0\\xb7\\xad\\xa7w\\xd0I\\xbeIm/\\xfd\\xdc_\\x99\\'\\xe5\\xa7s\\xc9\\xc9\\t\\x98\\x83\\x11n\\x15\\x8cF\\xb8e\\t\\xbay\\x9dzk\\xc1(\\x9e\\xf3\\xe9\\xed8\\xc97\\x0b\\xa3\\x08\\x82\\x0e\\xf9\\x96\\rp\\xd8tu\\x13\\xd8\\x18\\xdb5\\xf7\\x16\\x0cp\\xc8\\xcaQs\\xaf\\xf5[\\x8b1\\xf1\\x9cOo\\xcfI\\xbf\\x89\\xbd\\x0c\\xf9\\x92[\\xd9\\xc9\\tE?\\xf0\\xd2T\\r\\x81\\x90QK\\x10\\xf1\\xf2C\\x86\\xe7\\xc4B\\xbc\\xad[\\rDbD\\x81\\xba\\xb9\\xd96\\r\"^\\x1f\\x87S\\xeeC\\xb0FSK\\xb0FS\\x0b\\x1f\\x9c\\xa8!\\x12\\xcf\\x16Db=\\xbd\\x03N\\n\\xceB$\\xd8qe9d\\xfb\\xc5@=\\xf8\\x8b\\x8f\\xe5\\xef\\xca\\xd8\\xc0\\x82]\\r\\x9cc&\\xec\\x84\\xcd\\xba\\xb5\\x98\\x11O\\xc3\\x8c\\x18m\\xc5\\xc7\\xdb2#\\x02\\xb7\\x7f\\xc8\\xba\\x01\\x1aA+S5|\\xf0\\xca\\x14\\x16Z\\xa0\\xd5\\xd0\\x88g\\x0b\\x1a\\xb1\\x9e\\xbe\\xe3M\\xd0\\x88i\\xaf:\\xb8\\xa2\\x1a2\\x05\\xa3fV0@<\\xf0\\xc0\\x06\\xcc\\x04\\xfb\\x1d\\xdf\\x18\\xf2\\x7f\\xfe\\xdf\\xff\\xfc\\xf7\\x7f\\xff\\xef\\x7f\\xfe\\xeb\\x7f\\xff\\xeb\\xff\\xfe\\x7f\\x00\\x00\\x00\\xff\\xff\\x00\\x00\\x00\\xff\\xff\\xb2)HLO\\xf5M,J\\xcf\\xcc+V\\xc8IM+\\xb1U2\\xd037UR(\\xcaL\\xcf\\x80sJ\\xf2\\x0bl\\x95\\x0c\\x95\\x14\\x92\\xf2KJ\\xf2s\\xc1\\xcc\\x8c\\xd4\\xc4\\x94\\xd4\"\\x90j\\xa0\\xe2\\xb4\\xfc\\xfc\\x12\\x18G\\xdf\\xceF\\xbf<\\xbf(\\xbb8#5\\xb5\\xc4\\x0e\\x00\\x00\\x00\\xff\\xff\\x03\\x00PK\\x03\\x04\\x14\\x00\\x06\\x00\\x08\\x00\\x00\\x00!\\x00\\xe9\\xa6%\\xb8f\\x06\\x00\\x00S\\x1b\\x00\\x00\\x13\\x00\\x00\\x00xl/theme/theme1.xml\\xecY\\xcdn\\x1b7\\x10\\xbe\\x17\\xe8;\\x10{O,\\xd9\\x92b\\x19\\x91\\x03K\\x96\\xe26qb\\xd8J\\x8a\\x1c\\xa9]j\\x97\\x11w\\xb9 );\\xba\\x15\\xc9\\xb1@\\x81\\xa2i\\xd1K\\x81\\xdez(\\xda\\x06H\\x80^\\xd2\\xa7q\\x9b\\xa2M\\x81\\xbcB\\x87\\xe4JZZTl\\'\\x06\\xfa\\x17\\x1dl-\\xf7\\xe3\\xfc\\xcfp\\x86\\xbaz\\xedA\\xca\\xd0!\\x11\\x92\\xf2\\xac\\x15T/W\\x02D\\xb2\\x90G4\\x8b[\\xc1\\x9d~\\xef\\xd2z\\x80\\xa4\\xc2Y\\x84\\x19\\xcfH+\\x98\\x10\\x19\\\\\\xdb|\\xff\\xbd\\xabxC%$%\\x08\\xf6gr\\x03\\xb7\\x82D\\xa9|ceE\\x86\\xb0\\x8c\\xe5e\\x9e\\x93\\x0c\\xde\\r\\xb9H\\xb1\\x82G\\x11\\xafD\\x02\\x1f\\x01\\xdd\\x94\\xad\\xacV*\\x8d\\x95\\x14\\xd3,@\\x19N\\x81\\xec\\xed\\xe1\\x90\\x86\\x04\\xf55\\xc9`sJ\\xbc\\xcb\\xe01SR/\\x84L\\x1ch\\xd2\\xc4\\xd9a\\xb0\\xd1\\xa8\\xaa\\x11r\";L\\xa0C\\xccZ\\x01\\xf0\\x89\\xf8Q\\x9f<P\\x01bX*x\\xd1\\n*\\xe6\\x13\\xacl^]\\xc1\\x1b\\xc5&\\xa6\\x96\\xec-\\xed\\xeb\\x99O\\xb1\\xaf\\xd8\\x10\\x8dV\\rO\\x11\\x0ffL\\xab\\xbdZ\\xf3\\xca\\xf6\\x8c\\xbe\\x010\\xb5\\x88\\xebv\\xbb\\x9dnuF\\xcf\\x00p\\x18\\x82\\xa6V\\x962\\xcdZo\\xbd\\xda\\x9e\\xd2,\\x81\\xec\\xd7E\\xda\\x9dJ\\xbdRs\\xf1%\\xfak\\x0b27\\xdb\\xedv\\xbdY\\xc8b\\x89\\x1a\\x90\\xfdZ[\\xc0\\xafW\\x1a\\xb5\\xadU\\x07o@\\x16__\\xc0\\xd7\\xda[\\x9dN\\xc3\\xc1\\x1b\\x90\\xc57\\x16\\xf0\\xbd+\\xcdF\\xcd\\xc5\\x1bP\\xc2h6Z@k\\x87\\xf6z\\x05\\xf5\\x19d\\xc8\\xd9\\x8e\\x17\\xbe\\x0e\\xf0\\xf5J\\x01\\x9f\\xa3 \\x1af\\xd1\\xa5Y\\x0cy\\xa6\\x96\\xc5Z\\x8a\\xefs\\xd1\\x03\\x80\\x062\\xach\\x86\\xd4$\\'C\\x1cB\\x14wp:\\x10\\x14k\\x06x\\x83\\xe0\\xd2\\x1b\\xbb\\x14\\xca\\x85%\\xcd\\x0b\\xc9P\\xd0\\\\\\xb5\\x82\\x0fs\\x0c\\x191\\xa7\\xf7\\xea\\xf9\\xf7\\xaf\\x9e?E\\xaf\\x9e?9~\\xf8\\xec\\xf8\\xe1O\\xc7\\x8f\\x1e\\x1d?\\xfc\\xd1\\xd2r6\\xee\\xe0,.o|\\xf9\\xedg\\x7f~\\xfd1\\xfa\\xe3\\xe97/\\x1f\\x7f\\xe1\\xc7\\xcb2\\xfe\\xd7\\x1f>\\xf9\\xe5\\xe7\\xcf\\xfd@\\xc8\\xa0\\xb9D/\\xbe|\\xf2\\xdb\\xb3\\'/\\xbe\\xfa\\xf4\\xf7\\xef\\x1e{\\xe0[\\x02\\x0f\\xca\\xf0>M\\x89D\\xb7\\xc8\\x11\\xda\\xe7)\\xe8f\\x0c\\xe3JN\\x06\\xe2|;\\xfa\\t\\xa6\\xce\\x0e\\x9c\\x00m\\x0f\\xe9\\xaeJ\\x1c\\xe0\\xad\\tf>\\\\\\x9b\\xb8\\xc6\\xbb+\\xa0x\\xf8\\x80\\xd7\\xc7\\xf7\\x1dY\\x0f\\x121V\\xd4\\xc3\\xf9F\\x92:\\xc0]\\xceY\\x9b\\x0b\\xaf\\x01nh^%\\x0b\\xf7\\xc7Y\\xecg.\\xc6e\\xdc>\\xc6\\x87>\\xde\\x1d\\x9c9\\xae\\xed\\x8es\\xa8\\x9a\\xd3\\xa0tl\\xdfI\\x88#\\xe6\\x1e\\xc3\\x99\\xc21\\xc9\\x88B\\xfa\\x1d\\x1f\\x11\\xe2\\xd1\\xee\\x1e\\xa5\\x8e]wi(\\xb8\\xe4C\\x85\\xeeQ\\xd4\\xc6\\xd4k\\x92>\\x1d8\\x814\\xdf\\xb4CS\\xf0\\xcb\\xc4\\xa73\\xb8\\xda\\xb1\\xcd\\xee]\\xd4\\xe6\\xcc\\xa7\\xf569t\\x91\\x90\\x10\\x98y\\x84\\xef\\x13\\xe6\\x98\\xf1:\\x1e+\\x9c\\xfaH\\xf6q\\xca\\xca\\x06\\xbf\\x89U\\xe2\\x13\\xf2`\"\\xc22\\xae+\\x15x:&\\x8c\\xa3nD\\xa4\\xf4\\xed\\xb9-@\\xdf\\x92\\xd3o`\\xa8W^\\xb7\\xef\\xb2I\\xea\"\\x85\\xa2#\\x1f\\xcd\\x9b\\x98\\xf32r\\x9b\\x8f:\\tNs\\xaf\\xcc4K\\xca\\xd8\\x0f\\xe4\\x08B\\x14\\xa3=\\xae|\\xf0]\\xeef\\x88~\\x06?\\xe0l\\xa9\\xbb\\xefR\\xe2\\xb8\\xfb\\xf4Bp\\x87\\xc6\\x8eH\\xf3\\x00\\xd1o\\xc6\\xa2\\xa8\\xdaN\\xfdMi\\xf6\\xbab\\xcc(T\\xe3w\\xc5xz:m\\xc1\\xd1\\xe4K\\x89\\x9d\\x13%x\\x19\\xee_Xx\\xb7\\xf18\\xdb#\\x10\\xeb\\x8b\\x07\\xcf\\xbb\\xba\\xfb\\xae\\xee\\x06\\xff\\xf9\\xba\\xbb,\\x97\\xcfZm\\xe7\\x05\\x16\\x9a\\xe4y_l\\xba\\xe4ti\\x93<\\xa4\\x8c\\x1d\\xa8\\t#7\\xa5\\xe9\\x93%\\x1c\\x16Q\\x0f\\x16M\\x03o\\xa6\\xb8\\xd9\\xd0\\x94\\'\\xf0\\xb5(\\xee\\x0e.\\x16\\xd8\\xecA\\x82\\xab\\x8f\\xa8J\\x0e\\x12\\x9cC\\x8f]5#_,\\x0b\\xd2\\xb1D9\\x970\\xdb\\x99e3|\\x92\\x13\\xb4\\xcd8I\\xa1\\xcd6\\x93a]\\xcf\\x0c\\xb6\\x1eH\\xacvyd\\x97\\xd7\\xca\\xb3\\xe1\\x8c\\x8c\\x99\\x14c3\\x7fN\\x19\\xadi\\x02ge\\xb6v\\xe5\\xed\\x98U\\xadTK\\xcd\\xe6\\xaaV5\\xa2\\x99R\\xe7\\xa86S\\x19|\\xb8\\xa8\\x1a,\\xce\\xac\\t]\\x08\\x82\\xde\\x05\\xac\\xdc\\x80\\x11]\\xcb\\x0e\\xb3\\tf$\\xd2v\\xb7s\\xf3\\xd4-\\x9a\\xf5\\x85\\xbaH&8\"\\x85\\x8f\\xb4\\xde\\x8b>\\xaa\\x1a\\'Mce\\x1aF\\x1e\\x1f\\xe99\\xef\\x14\\x1f\\x95\\xb855\\xd9\\xb7\\xe0v\\x16\\'\\x95\\xd9\\xd5\\x96\\xb0\\x9bz\\xefm\\xbc4\\x1dn\\xe7^\\xd2y{\"\\x1dYVNN\\x96\\xa1\\xa3V\\xd0\\xac\\xaf\\xd6\\x03\\x14\\xe2\\xbc\\x15\\x0ca\\xac\\x85\\xafi\\x0e^\\x97\\xba\\xf1\\xc3,\\x86\\xbb\\xa1P\\t\\x1b\\xf6\\xa7&\\xb3\\t\\xd7\\xb97\\x9b\\xfe\\xb0\\xac\\xc2M\\x85\\xb5\\xfb\\x82\\xc2N\\x1d\\xc8\\x85T\\xdbX&64\\xcc\\xab\"\\x04Xf\\x86p#\\xffj\\x1d\\xcczQ\\n\\xd8H\\x7f\\x03)\\xd6\\xd6!\\x18\\xfe6)\\xc0\\x8e\\xaek\\xc9pHBUvvi\\xc5\\xdcQ\\x18@QJ\\xf9X\\x11q\\x90DGh\\xc0\\xc6b\\x1f\\x83\\xfbu\\xa8\\x82>\\x11\\x95p;a*\\x82~\\x80\\xab4mm\\xf3\\xca-\\xceE\\xd2\\x95/\\xb0\\x0c\\xce\\xaec\\x96\\'\\xb8(\\xb7:E\\xa7\\x99l\\xe1&\\x8fg2\\x98\\'+\\xad\\x11\\x0ft\\xf3\\xcan\\x94;\\xbf*&\\xe5/H\\x95r\\x18\\xff\\xcfT\\xd1\\xe7\\t\\\\\\x17\\xacE\\xda\\x03!\\xdc\\xe4\\n\\x8ct\\xbe\\xb6\\x02.T\\xc2\\xa1\\n\\xe5\\t\\r{\\x02.\\xb9L\\xed\\x80h\\x81\\xebXx\\rA\\x05\\xf7\\xc9\\xe6\\xbf \\x87\\xfa\\xbf\\xcd9K\\xc3\\xa45L}j\\x9f\\xc6HP8\\x8fT\"\\x08\\xd9\\x83\\xb2d\\xa2\\xef\\x14b\\xd5\\xe2\\xec\\xb2$YA\\xc8DTI\\\\\\x99[\\xb1\\x07\\xe4\\x90\\xb0\\xbe\\xae\\x81\\r}\\xb6\\x07(\\x81P7\\xd5\\xa4(\\x03\\x06w2\\xfe\\xdc\\xe7\"\\x83\\x06\\xb1nr\\xfe\\xa9\\x9d\\x8fM\\xe6\\xf3\\xb6\\x07\\xba;\\xb0-\\x96\\xdd\\x7f\\xc6^\\xa4V*\\xfa\\xa5\\xa3\\xa0\\xe9=\\xfbLO5+\\x07\\xaf9\\xd8\\xcfy\\xd4\\xda\\x8a\\xb5\\xa0\\xf1j\\xfd\\xccGm\\x0e\\x97>H\\xff\\x81\\xf3\\x8f\\x8a\\x90\\xd9\\x1f\\'\\xf4\\x81\\xda\\xe7\\xfbP[\\x11\\xfc\\xd6`\\xdb+\\x04Q}\\xc96\\x1eH\\x17H[\\x1e\\x07\\xd08\\xd9E\\x1bL\\x9a\\x94mX\\x8a\\xee\\xf6\\xc2\\xdb(\\xb8\\x91.:\\xdd\\x19_\\xc8\\xd27\\xe9t\\xcfi\\xecYs\\xe6\\xb2sr\\xf1\\xf5\\xdd\\xe7\\xf9\\x8c]X\\xd8\\xb1u\\xb9\\xd3\\xf5\\x98\\x1a\\x92\\xf6d\\x8a\\xea\\xf6h:\\xc8\\x18\\xc7\\x98_\\xb5\\xca?<\\xf1\\xc1}p\\xf46\\\\\\xf1\\x8f\\x99\\x92\\xf6j\\xff\\x01\\\\\\xf1\\xc1\\x94a\\x7f$\\x80\\xe4\\xb7\\xce5[7\\xff\\x02\\x00\\x00\\xff\\xff\\x03\\x00PK\\x03\\x04\\x14\\x00\\x06\\x00\\x08\\x00\\x00\\x00!\\x00\\x80\\x9b\\xc2\\x08\\x1e\\x03\\x00\\x00\\xf4\\x07\\x00\\x00\\r\\x00\\x00\\x00xl/styles.xml\\xa4U\\xdbn\\xdb0\\x0c}\\x1f\\xb0\\x7f\\x10\\xf4\\xee\\xcav\\xe3,\\tl\\x17MS\\x03\\x05\\xbaa@;`\\xaf\\x8a-\\'Bu1d\\xa5s:\\xec\\xdfG\\xf9\\x92\\xb8h\\xb7\\x0c\\xd9K\"Q\\xd4\\xd1!\\x0fI\\xc7W\\x8d\\x14\\xe8\\x99\\x99\\x9ak\\x95\\xe0\\xe0\\xc2\\xc7\\x88\\xa9\\\\\\x17\\\\m\\x12\\xfc\\xed1\\xf3f\\x18\\xd5\\x96\\xaa\\x82\\n\\xadX\\x82\\xf7\\xac\\xc6W\\xe9\\xc7\\x0fqm\\xf7\\x82=l\\x19\\xb3\\x08 T\\x9d\\xe0\\xad\\xb5\\xd5\\x82\\x90:\\xdf2I\\xeb\\x0b]1\\x05\\'\\xa56\\x92Z\\xd8\\x9a\\r\\xa9+\\xc3hQ\\xbbKR\\x90\\xd0\\xf7\\xa7DR\\xaep\\x87\\xb0\\x90\\xf9\\xbf\\x80Hj\\x9ev\\x95\\x97kYQ\\xcb\\xd7\\\\p\\xbbo\\xb10\\x92\\xf9\\xe2n\\xa3\\xb4\\xa1k\\x01T\\x9b`Bs\\xd4\\x04S\\x13\\xa2\\xc6\\x0c\\x8f\\xb4\\xd67\\xefH\\x9e\\x1b]\\xeb\\xd2^\\x00.\\xd1e\\xc9s\\xf6\\x96\\xee\\x9c\\xcc\\t\\xcd\\x8fH\\x80|\\x1eR\\x10\\x11?|\\x15{c\\xceD\\x9a\\x10\\xc3\\x9e\\xb9\\x93\\x0f\\xa7q\\xa9\\x95\\xadQ\\xaew\\xca&8\\x04\\xa2.\\x05\\x8b\\'\\xa5\\x7f\\xa8\\xcc\\x1d\\x81\\xc2\\xbdW\\x1a\\xd7/\\xe8\\x99\\n\\xb0\\x04\\x98\\xa4q\\xae\\x856\\xc8\\x82t\\x90\\xb9\\xd6\\xa2\\xa8d\\x9d\\xc7\\r\\x15|m\\xb8s+\\xa9\\xe4b\\xdf\\x99Cgh\\xd5\\xee\\xfd$\\x87\\xdc;#q<:6i\\xbcv^\\xaf\\xdez\\x17\\xb9\\xbf\\xd3\\xfe\\xd5p\\x97\\x0b1\\x8a\\xa43\\xa41Hn\\x99Q\\x19\\x9c\\xa2~\\xfd\\xb8\\xaf\\x80\\xb2\\x82\\xea\\xec\\x9e\\x86\\xa3\\x93\\xde\\x1bC\\xf7A\\x18\\x8d.\\x90\\xf6A`\\xabM\\x01\\xddp\\xcc\\xe1`Jc\\xc1J\\x0b\\xb1\\x18\\xbe\\xd9\\xba\\x7f\\xab+\\xf8]kk\\xa1b\\xd2\\xb8\\xe0t\\xa3\\x15\\x15.\\xfc\\x0e\\xe4\\xf5M\\xe8\"h\\x98\\x04\\xdb-\\x14\\xfc\\x90o\\xba\\xb3\\xbaO7q\\xf0=\\xfaI\\xdf\\x96CK\\xe1\\xa4+\\xd0\\x1cX\\x9e\\xf4\\xed\\x82y?\\x96>(\\x90&gB<\\xb8`\\xbe\\x97\\x87<\\xb9\\xb2jJ\\xa4v2\\x93\\xf6\\xaeH0\\xcc\\x11W\\x04\\xc3\\x12D\\xe9\\x97]n\\xba\\x8d\\xcb\\xd5\\x18\\xad\\xc3\\x1e\\xc1\\x86g\\xc1\\xa2\\xa6<\\xe0\\xff\\x89T\\x00\\xfc\\xde#\\x05\\xf6\\xe16\\xa2U%\\xf6\\xaeo\\x9cD\\xddn\\xd9\\x96\\xc7q\\x7f-\\xf8FI\\xd6\\xb9\\xa414J\\xb7E[m\\xf8\\x0b\\\\u\\x1d\\x96\\xc39\\x83\\x01\\x04c\\xd6\\xf2\\xdcY@\\x94\\xb6\\xf6\\x9a\\xb2\\xcf\\x00\\xc4<J\\xec\\xab\\xb4\\x1e\\x12\\x84\\\\\\xdf$\\xf8\\x8b\\x1b\\xa8bDs\\xbd\\xe3\\xc2r\\xf5NJ\\x01\\xb3h\\x8e\"\\xf9\\xeeM\\xeb\\x86c+\\xdf\\xe1\\x15\\xd0\\xaa`%\\xdd\\t\\xfbx8L\\xf0q\\xfd\\x99\\x15|\\'\\xe7\\x07\\xaf\\xaf\\xfcY\\xdb\\x16\"\\xc1\\xc7\\xf5\\xbd\\xeb\\x8b`\\xea\\xde`\\x8d\\xbd\\xaf\\xa1\\x98\\xe1\\x1f\\xed\\x0cO\\xf0\\xcf\\xdb\\xe5\\xa7\\xf9\\xea6\\x0b\\xbd\\x99\\xbf\\x9cy\\x93K\\x16y\\xf3h\\xb9\\xf2\\xa2\\xc9\\xcdr\\xb5\\xca\\xe6~\\xe8\\xdf\\xfc\\x1a\\x8d\\xe8\\xff\\x18\\xd0\\xed\\x17\\x05\\xaa1\\x98,j\\x01c\\xdc\\xf4\\xc1\\xf6!>\\x1cm\\t\\x1em:\\xfa\\xad*@{\\xcc}\\x1eN\\xfd\\xeb(\\xf0\\xbd\\xec\\xd2\\x0f\\xbc\\xc9\\x94\\xce\\xbc\\xd9\\xf42\\xf2\\xb2(\\x08W\\xd3\\xc9\\xf26\\xca\\xa2\\x11\\xf7\\xe8\\xccA\\xee\\x93 \\xe8>\\t\\x8e|\\xb4\\xb0\\\\2\\xc1\\xd5\\xa0\\xd5\\xa0\\xd0\\xd8\\n\"\\xc1\\xf6/A\\x90A\\tr\\xfc\\\\\\xa7\\xbf\\x01\\x00\\x00\\xff\\xff\\x03\\x00PK\\x03\\x04\\x14\\x00\\x06\\x00\\x08\\x00\\x00\\x00!\\x00Z!\\xa7\\x1fp\\x02\\x00\\x00$\\x0c\\x00\\x00\\x14\\x00\\x00\\x00xl/sharedStrings.xml|\\x96\\xcdn\\xdb0\\x10\\x84\\xef\\x05\\xfa\\x0e\\x86\\xee\\x8cH\\xca?ra;\\x87\\x02}\\x82\\xf6l\\x086k\\x0b\\xb1$W\\x94\\xd3\\xf6\\xed;\\xa4P\\xa0Hfz\\x8c>\\xec\\x90\\xdc\\xdd\\x19g\\xf7\\xfc\\xab\\xbb-^\\xc3\\x18\\xdb\\xa1\\xdf\\x17\\xee\\xc9\\x16\\x8b\\xd0\\x9f\\x86s\\xdb_\\xf6\\xc5\\xb7\\xaf_L],\\xe2\\xd4\\xf4\\xe7\\xe66\\xf4a_\\xfc\\x0e\\xb1x>|\\xfc\\xb0\\x8bqZ\\xa0\\xb6\\x8f\\xfb\\xe2:M\\xf7Oe\\x19O\\xd7\\xd05\\xf1i\\xb8\\x87\\x1e\\xe4\\xfb0v\\xcd\\x84?\\xc7K\\x19\\xefch\\xce\\xf1\\x1a\\xc2\\xd4\\xddJo\\xed\\xba\\xec\\x9a\\xb6/\\x16\\xa7\\xe1\\xd1O\\xfb\\xa2^\\xe1\\x98G\\xdf\\xfex\\x84\\xcf\\xf3\\x17\\xe7\\xaa\\xe2\\xb0\\x8b\\xeda7\\x1d\\xce\\xcd\\x14\\x8e?Cx\\xd9\\x95\\xd3aW\\xa6\\x8f3\\x88/\\x8f\\xe3\\xe9\\x1c\\xde~>\\rq:\\xde\\xc7\\xf6\\xf4\\x8e\\x8c\\xe1\\xf2\\xb85\\xe3\\xff\\xe1\\xebp{t\\xefJ\\xef\\xe3\\xd0\\r\\xbcpF\\xbc\\xcc[o\\x8d\\xf5\\xc6n\\xdf\\xde\\xf2/qkE|\\xc5Ie\\xac\\x93\\xa4V\\xc4\\xad\\x14\\xf1^\\x12q\\xeb\\xa5\\xb1Bmi\\x9cP\\x03\\x91j^\\xf4`e\\xac\\xe8\\xc1\\xca8\\xcbo\\r\\xb2Q\\xc4/\\x15\\xa9DG\\xd7\\xc6\\n\\xb5\\xb5qBmm\\xbcT\\xf3b>\\x1b\\xd9\\xd1\\x8d\\xec(\\x88\\xe8\\xe8\\xc6\\xa8\\x8e\\xd6XF\\xde\\x03\\x10\\xa1V\\x1b\\xb5\\xa3\\xb5Q;Z\\x9bJ\\xccgk\\xac\\x98\\xf6\\xd681\\xed\\xad\\xf1R\\xcd\\xf3\\xf98\\xd8\\x8e\\xcf\\x07\\xc4\\xf1\\xf9$\\xc2\\xe7\\x03\\xe2\\xf9\\xc6;\\xa7\\xdc\\x98\\x88PsF\\xb8\\x115\\xc2\\x8d\\x89\\xf0\\xf98\\xa4\\x0b\\xef(\\x88\\xe8(\\x88\\xe8h\"\\xac\\xa3\\xe9\\x99\\xdc\\x8d\\x99P7\\xceD\\xaaQ7\\xe6\\x1a\\xeaF\\x10\\xbcT\\xa8\\xe1\\xa5l\\xda\\xb9\\x86\\xbaq&l>\\xe9\\x99\\xf2\\x9cJ\\x9eSq\\xd7g5\\xeaz\\x10\\xe4\\xa8\\xb85\\xd2\\x92\\xedh\\xae\\xa1;\\x9a\\t\\xddQ\\x10\\xe4(s\\xfdL\\xd8VeB]\\x9f\\tu}&\\xd4\\xf5 \\xc8Q\\xb6\\xa3\\x99\\xd0\\x1d\\xcd\\x84\\xee\\xe8L\\xc4\\x1e GEG\\x91\\x96\\xa2\\xa3 b\\x0f\\x90\\xa3\\xcc\\xf5\\xb8\\x01\\xd2R\\xa8\\x81\\x085\\xe4\\xa8T\\xa3\\xae\\xcf\\xe7P\\xd7\\x83 G\\x85\\x1arTL\\x1bDL\\x1b\\t\\xcb\\xe7\\x93r\\x94\\xa52\"\\x0ci\\xc9Ry&|>)G\\xf9|@\\x84\\xebS\\x8e\\n5\\x1c%\\xd4\\x90\\x96|>)G\\xf9|R\\x8e\\xf2\\x8e\\xa6\\x1c\\xe5\\x1dM\\x84w4\\xe5(\\xeb(\\x0e\\xc1{\\x98\\xdaL\\x98Z&\\xd4\\x8d\\x99P7fB\\xdd\\x08\"~12\\xf9\\xd7\\x8d%\\xfe\\xcb?\\xfc\\x01\\x00\\x00\\xff\\xff\\x03\\x00PK\\x03\\x04\\x14\\x00\\x06\\x00\\x08\\x00\\x00\\x00!\\x005\\xbb\\xc5@O\\x01\\x00\\x00l\\x02\\x00\\x00\\x11\\x00\\x08\\x01docProps/core.xml \\xa2\\x04\\x01(\\xa0\\x00\\x01\\x00\\x00\\x00\\x00\\x00\\x00\\x00\\x00\\x00\\x00\\x00\\x00\\x00\\x00\\x00\\x00\\x00\\x00\\x00\\x00\\x00\\x00\\x00\\x00\\x00\\x00\\x00\\x00\\x00\\x00\\x00\\x00\\x00\\x00\\x00\\x00\\x00\\x00\\x00\\x00\\x00\\x00\\x00\\x00\\x00\\x00\\x00\\x00\\x00\\x00\\x00\\x00\\x00\\x00\\x00\\x00\\x00\\x00\\x00\\x00\\x00\\x00\\x00\\x00\\x00\\x00\\x00\\x00\\x00\\x00\\x00\\x00\\x00\\x00\\x00\\x00\\x00\\x00\\x00\\x00\\x00\\x00\\x00\\x00\\x00\\x00\\x00\\x00\\x00\\x00\\x00\\x00\\x00\\x00\\x00\\x00\\x00\\x00\\x00\\x00\\x00\\x00\\x00\\x00\\x00\\x00\\x00\\x00\\x00\\x00\\x00\\x00\\x00\\x00\\x00\\x00\\x00\\x00\\x00\\x00\\x00\\x00\\x00\\x00\\x00\\x00\\x00\\x00\\x00\\x00\\x00\\x00\\x00\\x00\\x00\\x00\\x00\\x00\\x00\\x00\\x00\\x00\\x00\\x00\\x00\\x00\\x00\\x00\\x00\\x00\\x00\\x00\\x00\\x00\\x00\\x00\\x00\\x00\\x00\\x00\\x00\\x00\\x00\\x00\\x00\\x00\\x00\\x00\\x00\\x00\\x00\\x00\\x00\\x00\\x00\\x00\\x00\\x00\\x00\\x00\\x00\\x00\\x00\\x00\\x00\\x00\\x00\\x00\\x00\\x00\\x00\\x00\\x00\\x00\\x00\\x00\\x00\\x00\\x00\\x00\\x00\\x00\\x00\\x00\\x00\\x00\\x00\\x00\\x00\\x00\\x00\\x00\\x00\\x00\\x00\\x00\\x00\\x00\\x00\\x00\\x00\\x00\\x00\\x00\\x00\\x00\\x00\\x00\\x00\\x00\\x00\\x00\\x00\\x00\\x00\\x00\\x00\\x00\\x00\\x00\\x00\\x00\\x00\\x00\\x00\\x00\\x00\\x00\\x00\\x00\\x00\\x00\\x00\\x00\\x00\\x00\\x8c\\x92KO\\xc30\\x10\\x84\\xefH\\xfc\\x87\\xc8\\xf7\\xc4y@\\x01+I\\xc5C=\\x81@\\xa2\\x08\\xc4\\xcd\\xb2\\xb7\\xad\\xd5\\xd8\\xb1l\\x974\\xff\\x1e\\'iC*8p\\xf4\\xce\\xec\\xa7\\x99\\x95\\xf3\\xf9^V\\xc1\\x17\\x18+jU\\xa0$\\x8aQ\\x00\\x8a\\xd5\\\\\\xa8u\\x81\\xde\\x96\\x8b\\xf0\\x1a\\x05\\xd6Q\\xc5iU+(P\\x0b\\x16\\xcd\\xcb\\xf3\\xb3\\x9ci\\xc2j\\x03/\\xa6\\xd6`\\x9c\\x00\\x1bx\\x92\\xb2\\x84\\xe9\\x02m\\x9c\\xd3\\x04c\\xcb6 \\xa9\\x8d\\xbcCyqU\\x1bI\\x9d\\x7f\\x9a5\\xd6\\x94m\\xe9\\x1ap\\x1a\\xc73,\\xc1QN\\x1d\\xc5\\x1d0\\xd4#\\x11\\x1d\\x90\\x9c\\x8dH\\xbd3U\\x0f\\xe0\\x0cC\\x05\\x12\\x94\\xb38\\x89\\x12\\xfc\\xe3u`\\xa4\\xfds\\xa1W&N)\\\\\\xab}\\xa7C\\xdc)\\x9b\\xb3A\\x1c\\xdd{+Fc\\xd34Q\\x93\\xf51|\\xfe\\x04\\x7f<=\\xbe\\xf6UC\\xa1\\xba[1@e\\xce\\x19a\\x06\\xa8\\xabM\\xd9\\xf5\\xd7\\xed\\xbe\\xca\\xf1d\\xd8\\x1d\\xb0\\xa2\\xd6=\\xf9[\\xaf\\x04\\xf0\\xbb\\xb6\\xbcmk#\\x14\\x87\\xe0\\xb9\\xa2Jh\\xd8\\xeeT\\x8e\\x7f\\xdb<\\xbao2\\xf0\\x81\\x07>\\x1b\\x19\\x9a\\x1c\\x95\\xf7\\xec\\xfea\\xb9@e\\x1a\\xa7i\\x18\\xcf\\xc2\\xf4f\\x99\\\\\\x92lF.\\xe2\\xcf.\\xc5\\xc9~\\x97u\\x18\\xc8C\\x96\\xff\\x13\\xafH\\x96N\\x88G@\\xd9\\xe7>\\xfd\\x1f\\xe57\\x00\\x00\\x00\\xff\\xff\\x03\\x00PK\\x03\\x04\\x14\\x00\\x06\\x00\\x08\\x00\\x00\\x00!\\x00)\\x0f\\xf5\\xc6}\\x01\\x00\\x00\\xfe\\x02\\x00\\x00\\x10\\x00\\x08\\x01docProps/app.xml \\xa2\\x04\\x01(\\xa0\\x00\\x01\\x00\\x00\\x00\\x00\\x00\\x00\\x00\\x00\\x00\\x00\\x00\\x00\\x00\\x00\\x00\\x00\\x00\\x00\\x00\\x00\\x00\\x00\\x00\\x00\\x00\\x00\\x00\\x00\\x00\\x00\\x00\\x00\\x00\\x00\\x00\\x00\\x00\\x00\\x00\\x00\\x00\\x00\\x00\\x00\\x00\\x00\\x00\\x00\\x00\\x00\\x00\\x00\\x00\\x00\\x00\\x00\\x00\\x00\\x00\\x00\\x00\\x00\\x00\\x00\\x00\\x00\\x00\\x00\\x00\\x00\\x00\\x00\\x00\\x00\\x00\\x00\\x00\\x00\\x00\\x00\\x00\\x00\\x00\\x00\\x00\\x00\\x00\\x00\\x00\\x00\\x00\\x00\\x00\\x00\\x00\\x00\\x00\\x00\\x00\\x00\\x00\\x00\\x00\\x00\\x00\\x00\\x00\\x00\\x00\\x00\\x00\\x00\\x00\\x00\\x00\\x00\\x00\\x00\\x00\\x00\\x00\\x00\\x00\\x00\\x00\\x00\\x00\\x00\\x00\\x00\\x00\\x00\\x00\\x00\\x00\\x00\\x00\\x00\\x00\\x00\\x00\\x00\\x00\\x00\\x00\\x00\\x00\\x00\\x00\\x00\\x00\\x00\\x00\\x00\\x00\\x00\\x00\\x00\\x00\\x00\\x00\\x00\\x00\\x00\\x00\\x00\\x00\\x00\\x00\\x00\\x00\\x00\\x00\\x00\\x00\\x00\\x00\\x00\\x00\\x00\\x00\\x00\\x00\\x00\\x00\\x00\\x00\\x00\\x00\\x00\\x00\\x00\\x00\\x00\\x00\\x00\\x00\\x00\\x00\\x00\\x00\\x00\\x00\\x00\\x00\\x00\\x00\\x00\\x00\\x00\\x00\\x00\\x00\\x00\\x00\\x00\\x00\\x00\\x00\\x00\\x00\\x00\\x00\\x00\\x00\\x00\\x00\\x00\\x00\\x00\\x00\\x00\\x00\\x00\\x00\\x00\\x00\\x00\\x00\\x00\\x00\\x00\\x00\\x00\\x00\\x00\\x00\\x00\\x00\\x00\\x00\\x00\\x00\\x00\\x00\\x00\\x9c\\x92\\xcbN\\xc30\\x10E\\xf7H\\xfcC\\xe4=u\\n\\x08\\xa1\\xca1B<\\xc4\\x02D\\xa5\\x16X\\x1bg\\xd2X\\xb8v\\xe4\\x19\\xa2\\x96\\xafg\\x92\\x88\\x92\\x02+v\\xf3\\xb8\\xba>\\xbe\\xb6\\xba\\xd8\\xac}\\xd6BB\\x17C!\\xa6\\x93\\\\d\\x10l,]X\\x15\\xe2iy{t.2$\\x13J\\xe3c\\x80Bl\\x01\\xc5\\x85><P\\xf3\\x14\\x1bH\\xe4\\x003\\xb6\\x08X\\x88\\x9a\\xa8\\x99I\\x89\\xb6\\x86\\xb5\\xc1\\t\\xaf\\x03o\\xaa\\x98\\xd6\\x86\\xb8M+\\x19\\xab\\xcaY\\xb8\\x8e\\xf6}\\r\\x81\\xe4q\\x9e\\x9fI\\xd8\\x10\\x84\\x12\\xca\\xa3fg(\\x06\\xc7YK\\xff5-\\xa3\\xed\\xf8\\xf0y\\xb9m\\x18X\\xab\\xcb\\xa6\\xf1\\xce\\x1a\\xe2[\\xea\\x07gS\\xc4XQv\\xb3\\xb1\\xe0\\x95\\x1c/\\x15\\xd3-\\xc0\\xbe\\'G[\\x9d+9n\\xd5\\xc2\\x1a\\x0fWl\\xac+\\xe3\\x11\\x94\\xfc\\x1e\\xa8;0]hs\\xe3\\x12j\\xd5\\xd2\\xac\\x05K1e\\xe8>8\\xb6c\\x91\\xbd\\x1a\\x84\\x0e\\xa7\\x10\\xadI\\xce\\x04b\\xacN64}\\xed\\x1b\\xa4\\xa4_bz\\xc3\\x1a\\x80PI\\x16\\x0c\\xc3\\xbe\\x1ck\\xc7\\xb5;\\xd5\\xd3^\\xc0\\xc5\\xbe\\xb03\\x18@x\\xb1\\x8f\\xb8t\\xe4\\x01\\x1f\\xab\\xb9I\\xf4\\x07\\xf1tL\\xdc3\\x0c\\xbc\\x03\\xce\\xa2\\xe3\\x1b\\xce\\x1c\\xf3\\xf5W\\xe6\\x93~x\\xdf\\xbb\\xf0\\x86O\\xcd2^\\x1b\\x82\\xaf\\xec\\xf6\\x87jQ\\x9b\\x04%\\xc7\\xbd\\xcbv7Pw\\x1c[\\xf2\\x9d\\xc9Um\\xc2\\n\\xca/\\xcd\\xefE\\xf7\\xd2\\xcf\\xc3w\\xd6\\xd3\\xb3I~\\x92\\xf3#\\x8efJ~\\x7f\\\\\\xfd\\t\\x00\\x00\\xff\\xff\\x03\\x00PK\\x01\\x02-\\x00\\x14\\x00\\x06\\x00\\x08\\x00\\x00\\x00!\\x00b\\xee\\x9dh^\\x01\\x00\\x00\\x90\\x04\\x00\\x00\\x13\\x00\\x00\\x00\\x00\\x00\\x00\\x00\\x00\\x00\\x00\\x00\\x00\\x00\\x00\\x00\\x00\\x00[Content_Types].xmlPK\\x01\\x02-\\x00\\x14\\x00\\x06\\x00\\x08\\x00\\x00\\x00!\\x00\\xb5U0#\\xf4\\x00\\x00\\x00L\\x02\\x00\\x00\\x0b\\x00\\x00\\x00\\x00\\x00\\x00\\x00\\x00\\x00\\x00\\x00\\x00\\x00\\x97\\x03\\x00\\x00_rels/.relsPK\\x01\\x02-\\x00\\x14\\x00\\x06\\x00\\x08\\x00\\x00\\x00!\\x00\\x1eH\\x11\\x18\\x8b\\x02\\x00\\x00\\xf8\\x05\\x00\\x00\\x0f\\x00\\x00\\x00\\x00\\x00\\x00\\x00\\x00\\x00\\x00\\x00\\x00\\x00\\xbc\\x06\\x00\\x00xl/workbook.xmlPK\\x01\\x02-\\x00\\x14\\x00\\x06\\x00\\x08\\x00\\x00\\x00!\\x00\\x81>\\x94\\x97\\xf3\\x00\\x00\\x00\\xba\\x02\\x00\\x00\\x1a\\x00\\x00\\x00\\x00\\x00\\x00\\x00\\x00\\x00\\x00\\x00\\x00\\x00t\\t\\x00\\x00xl/_rels/workbook.xml.relsPK\\x01\\x02-\\x00\\x14\\x00\\x06\\x00\\x08\\x00\\x00\\x00!\\x00\\xef\\xa8\\xb8t\\x89\\x7f\\x00\\x00\\xdaH\\x03\\x00\\x18\\x00\\x00\\x00\\x00\\x00\\x00\\x00\\x00\\x00\\x00\\x00\\x00\\x00\\xa7\\x0b\\x00\\x00xl/worksheets/sheet1.xmlPK\\x01\\x02-\\x00\\x14\\x00\\x06\\x00\\x08\\x00\\x00\\x00!\\x00\\xe9\\xa6%\\xb8f\\x06\\x00\\x00S\\x1b\\x00\\x00\\x13\\x00\\x00\\x00\\x00\\x00\\x00\\x00\\x00\\x00\\x00\\x00\\x00\\x00f\\x8b\\x00\\x00xl/theme/theme1.xmlPK\\x01\\x02-\\x00\\x14\\x00\\x06\\x00\\x08\\x00\\x00\\x00!\\x00\\x80\\x9b\\xc2\\x08\\x1e\\x03\\x00\\x00\\xf4\\x07\\x00\\x00\\r\\x00\\x00\\x00\\x00\\x00\\x00\\x00\\x00\\x00\\x00\\x00\\x00\\x00\\xfd\\x91\\x00\\x00xl/styles.xmlPK\\x01\\x02-\\x00\\x14\\x00\\x06\\x00\\x08\\x00\\x00\\x00!\\x00Z!\\xa7\\x1fp\\x02\\x00\\x00$\\x0c\\x00\\x00\\x14\\x00\\x00\\x00\\x00\\x00\\x00\\x00\\x00\\x00\\x00\\x00\\x00\\x00F\\x95\\x00\\x00xl/sharedStrings.xmlPK\\x01\\x02-\\x00\\x14\\x00\\x06\\x00\\x08\\x00\\x00\\x00!\\x005\\xbb\\xc5@O\\x01\\x00\\x00l\\x02\\x00\\x00\\x11\\x00\\x00\\x00\\x00\\x00\\x00\\x00\\x00\\x00\\x00\\x00\\x00\\x00\\xe8\\x97\\x00\\x00docProps/core.xmlPK\\x01\\x02-\\x00\\x14\\x00\\x06\\x00\\x08\\x00\\x00\\x00!\\x00)\\x0f\\xf5\\xc6}\\x01\\x00\\x00\\xfe\\x02\\x00\\x00\\x10\\x00\\x00\\x00\\x00\\x00\\x00\\x00\\x00\\x00\\x00\\x00\\x00\\x00n\\x9a\\x00\\x00docProps/app.xmlPK\\x05\\x06\\x00\\x00\\x00\\x00\\n\\x00\\n\\x00\\x80\\x02\\x00\\x00!\\x9d\\x00\\x00\\x00\\x00'}"
            ]
          },
          "metadata": {},
          "execution_count": 3
        }
      ],
      "source": [
        "from google.colab import files\n",
        "files.upload()"
      ]
    },
    {
      "cell_type": "code",
      "source": [
        "import pandas as pd"
      ],
      "metadata": {
        "id": "GYf-ANxBkHbB"
      },
      "execution_count": 25,
      "outputs": []
    },
    {
      "cell_type": "code",
      "source": [
        "df=pd.read_csv('data.csv')\n",
        "df.head()"
      ],
      "metadata": {
        "colab": {
          "base_uri": "https://localhost:8080/",
          "height": 206
        },
        "id": "-o_nXDWqkRH1",
        "outputId": "31216456-6736-4e47-ddc3-26d21b729beb"
      },
      "execution_count": 26,
      "outputs": [
        {
          "output_type": "execute_result",
          "data": {
            "text/plain": [
              "    date_week    sku_cde  cost_price  regular_price  regular_volume  \\\n",
              "0  2020-02-09   62875832        68.0          140.0            10.0   \n",
              "1  2020-02-09   84630314       180.0          300.0            10.0   \n",
              "2  2020-02-09   95208654        26.0           56.0            40.0   \n",
              "3  2020-02-09  111708109        80.0            NaN             0.0   \n",
              "4  2020-02-16   73267284        94.0          205.0            20.0   \n",
              "\n",
              "   promo_price  promo_volume  \n",
              "0          NaN           0.0  \n",
              "1          NaN           0.0  \n",
              "2          NaN           0.0  \n",
              "3       109.95          10.0  \n",
              "4          NaN           0.0  "
            ],
            "text/html": [
              "\n",
              "  <div id=\"df-7744c5c5-c109-48ed-8609-2e795aaf29c8\">\n",
              "    <div class=\"colab-df-container\">\n",
              "      <div>\n",
              "<style scoped>\n",
              "    .dataframe tbody tr th:only-of-type {\n",
              "        vertical-align: middle;\n",
              "    }\n",
              "\n",
              "    .dataframe tbody tr th {\n",
              "        vertical-align: top;\n",
              "    }\n",
              "\n",
              "    .dataframe thead th {\n",
              "        text-align: right;\n",
              "    }\n",
              "</style>\n",
              "<table border=\"1\" class=\"dataframe\">\n",
              "  <thead>\n",
              "    <tr style=\"text-align: right;\">\n",
              "      <th></th>\n",
              "      <th>date_week</th>\n",
              "      <th>sku_cde</th>\n",
              "      <th>cost_price</th>\n",
              "      <th>regular_price</th>\n",
              "      <th>regular_volume</th>\n",
              "      <th>promo_price</th>\n",
              "      <th>promo_volume</th>\n",
              "    </tr>\n",
              "  </thead>\n",
              "  <tbody>\n",
              "    <tr>\n",
              "      <th>0</th>\n",
              "      <td>2020-02-09</td>\n",
              "      <td>62875832</td>\n",
              "      <td>68.0</td>\n",
              "      <td>140.0</td>\n",
              "      <td>10.0</td>\n",
              "      <td>NaN</td>\n",
              "      <td>0.0</td>\n",
              "    </tr>\n",
              "    <tr>\n",
              "      <th>1</th>\n",
              "      <td>2020-02-09</td>\n",
              "      <td>84630314</td>\n",
              "      <td>180.0</td>\n",
              "      <td>300.0</td>\n",
              "      <td>10.0</td>\n",
              "      <td>NaN</td>\n",
              "      <td>0.0</td>\n",
              "    </tr>\n",
              "    <tr>\n",
              "      <th>2</th>\n",
              "      <td>2020-02-09</td>\n",
              "      <td>95208654</td>\n",
              "      <td>26.0</td>\n",
              "      <td>56.0</td>\n",
              "      <td>40.0</td>\n",
              "      <td>NaN</td>\n",
              "      <td>0.0</td>\n",
              "    </tr>\n",
              "    <tr>\n",
              "      <th>3</th>\n",
              "      <td>2020-02-09</td>\n",
              "      <td>111708109</td>\n",
              "      <td>80.0</td>\n",
              "      <td>NaN</td>\n",
              "      <td>0.0</td>\n",
              "      <td>109.95</td>\n",
              "      <td>10.0</td>\n",
              "    </tr>\n",
              "    <tr>\n",
              "      <th>4</th>\n",
              "      <td>2020-02-16</td>\n",
              "      <td>73267284</td>\n",
              "      <td>94.0</td>\n",
              "      <td>205.0</td>\n",
              "      <td>20.0</td>\n",
              "      <td>NaN</td>\n",
              "      <td>0.0</td>\n",
              "    </tr>\n",
              "  </tbody>\n",
              "</table>\n",
              "</div>\n",
              "      <button class=\"colab-df-convert\" onclick=\"convertToInteractive('df-7744c5c5-c109-48ed-8609-2e795aaf29c8')\"\n",
              "              title=\"Convert this dataframe to an interactive table.\"\n",
              "              style=\"display:none;\">\n",
              "        \n",
              "  <svg xmlns=\"http://www.w3.org/2000/svg\" height=\"24px\"viewBox=\"0 0 24 24\"\n",
              "       width=\"24px\">\n",
              "    <path d=\"M0 0h24v24H0V0z\" fill=\"none\"/>\n",
              "    <path d=\"M18.56 5.44l.94 2.06.94-2.06 2.06-.94-2.06-.94-.94-2.06-.94 2.06-2.06.94zm-11 1L8.5 8.5l.94-2.06 2.06-.94-2.06-.94L8.5 2.5l-.94 2.06-2.06.94zm10 10l.94 2.06.94-2.06 2.06-.94-2.06-.94-.94-2.06-.94 2.06-2.06.94z\"/><path d=\"M17.41 7.96l-1.37-1.37c-.4-.4-.92-.59-1.43-.59-.52 0-1.04.2-1.43.59L10.3 9.45l-7.72 7.72c-.78.78-.78 2.05 0 2.83L4 21.41c.39.39.9.59 1.41.59.51 0 1.02-.2 1.41-.59l7.78-7.78 2.81-2.81c.8-.78.8-2.07 0-2.86zM5.41 20L4 18.59l7.72-7.72 1.47 1.35L5.41 20z\"/>\n",
              "  </svg>\n",
              "      </button>\n",
              "      \n",
              "  <style>\n",
              "    .colab-df-container {\n",
              "      display:flex;\n",
              "      flex-wrap:wrap;\n",
              "      gap: 12px;\n",
              "    }\n",
              "\n",
              "    .colab-df-convert {\n",
              "      background-color: #E8F0FE;\n",
              "      border: none;\n",
              "      border-radius: 50%;\n",
              "      cursor: pointer;\n",
              "      display: none;\n",
              "      fill: #1967D2;\n",
              "      height: 32px;\n",
              "      padding: 0 0 0 0;\n",
              "      width: 32px;\n",
              "    }\n",
              "\n",
              "    .colab-df-convert:hover {\n",
              "      background-color: #E2EBFA;\n",
              "      box-shadow: 0px 1px 2px rgba(60, 64, 67, 0.3), 0px 1px 3px 1px rgba(60, 64, 67, 0.15);\n",
              "      fill: #174EA6;\n",
              "    }\n",
              "\n",
              "    [theme=dark] .colab-df-convert {\n",
              "      background-color: #3B4455;\n",
              "      fill: #D2E3FC;\n",
              "    }\n",
              "\n",
              "    [theme=dark] .colab-df-convert:hover {\n",
              "      background-color: #434B5C;\n",
              "      box-shadow: 0px 1px 3px 1px rgba(0, 0, 0, 0.15);\n",
              "      filter: drop-shadow(0px 1px 2px rgba(0, 0, 0, 0.3));\n",
              "      fill: #FFFFFF;\n",
              "    }\n",
              "  </style>\n",
              "\n",
              "      <script>\n",
              "        const buttonEl =\n",
              "          document.querySelector('#df-7744c5c5-c109-48ed-8609-2e795aaf29c8 button.colab-df-convert');\n",
              "        buttonEl.style.display =\n",
              "          google.colab.kernel.accessAllowed ? 'block' : 'none';\n",
              "\n",
              "        async function convertToInteractive(key) {\n",
              "          const element = document.querySelector('#df-7744c5c5-c109-48ed-8609-2e795aaf29c8');\n",
              "          const dataTable =\n",
              "            await google.colab.kernel.invokeFunction('convertToInteractive',\n",
              "                                                     [key], {});\n",
              "          if (!dataTable) return;\n",
              "\n",
              "          const docLinkHtml = 'Like what you see? Visit the ' +\n",
              "            '<a target=\"_blank\" href=https://colab.research.google.com/notebooks/data_table.ipynb>data table notebook</a>'\n",
              "            + ' to learn more about interactive tables.';\n",
              "          element.innerHTML = '';\n",
              "          dataTable['output_type'] = 'display_data';\n",
              "          await google.colab.output.renderOutput(dataTable, element);\n",
              "          const docLink = document.createElement('div');\n",
              "          docLink.innerHTML = docLinkHtml;\n",
              "          element.appendChild(docLink);\n",
              "        }\n",
              "      </script>\n",
              "    </div>\n",
              "  </div>\n",
              "  "
            ]
          },
          "metadata": {},
          "execution_count": 26
        }
      ]
    },
    {
      "cell_type": "code",
      "source": [
        "data=df"
      ],
      "metadata": {
        "id": "Q4vpOLQnxp3D"
      },
      "execution_count": 27,
      "outputs": []
    },
    {
      "cell_type": "markdown",
      "source": [
        "**To advise business based on elasticities of the items (sku_cde)**"
      ],
      "metadata": {
        "id": "0Jeht8BrlhFq"
      }
    },
    {
      "cell_type": "code",
      "source": [
        "#load all the libraries...\n",
        "import pandas as pd\n",
        "import numpy as np\n",
        "import re\n",
        "from IPython.display import display, HTML, Image\n",
        "\n",
        "import matplotlib.pyplot as plt\n",
        "import seaborn as sns\n",
        "import statsmodels.api as sm\n",
        "\n",
        "import warnings\n",
        "warnings.filterwarnings(\"ignore\")\n",
        "\n",
        "sns.set_style(\"darkgrid\")"
      ],
      "metadata": {
        "id": "syfVdXjXpIPZ"
      },
      "execution_count": 28,
      "outputs": []
    },
    {
      "cell_type": "code",
      "source": [
        "!pip install openpyxl"
      ],
      "metadata": {
        "colab": {
          "base_uri": "https://localhost:8080/"
        },
        "id": "n2cYXCS7r4Eb",
        "outputId": "9aa56a51-a3f3-4d02-b273-4de2f08209c2"
      },
      "execution_count": 29,
      "outputs": [
        {
          "output_type": "stream",
          "name": "stdout",
          "text": [
            "Looking in indexes: https://pypi.org/simple, https://us-python.pkg.dev/colab-wheels/public/simple/\n",
            "Requirement already satisfied: openpyxl in /usr/local/lib/python3.7/dist-packages (3.0.10)\n",
            "Requirement already satisfied: et-xmlfile in /usr/local/lib/python3.7/dist-packages (from openpyxl) (1.1.0)\n"
          ]
        }
      ]
    },
    {
      "cell_type": "code",
      "source": [
        "pd.options.display.width = 0\n",
        "pd.set_option('display.max_columns', 500)\n",
        "pd.set_option('display.max_rows',500)"
      ],
      "metadata": {
        "id": "HeMbEWoNr-47"
      },
      "execution_count": 30,
      "outputs": []
    },
    {
      "cell_type": "code",
      "source": [
        "#checking Null values\n",
        "temp_df = pd.DataFrame((df.isnull().sum()/df.shape[0])*100,columns=['Null value%'])\n",
        "temp_df['data'] = df.dtypes\n",
        "temp_df.T"
      ],
      "metadata": {
        "colab": {
          "base_uri": "https://localhost:8080/",
          "height": 112
        },
        "id": "bA37zpEcs6_p",
        "outputId": "ffc38650-0739-464a-e2bd-4f340a0cfb09"
      },
      "execution_count": 31,
      "outputs": [
        {
          "output_type": "execute_result",
          "data": {
            "text/plain": [
              "            date_week sku_cde cost_price regular_price regular_volume  \\\n",
              "Null value%       0.0     0.0        0.0     19.506463            0.0   \n",
              "data           object   int64    float64       float64        float64   \n",
              "\n",
              "            promo_price promo_volume  \n",
              "Null value%   70.975323          0.0  \n",
              "data            float64      float64  "
            ],
            "text/html": [
              "\n",
              "  <div id=\"df-573aa682-fc0b-455e-b853-5bab7ffe1cb4\">\n",
              "    <div class=\"colab-df-container\">\n",
              "      <div>\n",
              "<style scoped>\n",
              "    .dataframe tbody tr th:only-of-type {\n",
              "        vertical-align: middle;\n",
              "    }\n",
              "\n",
              "    .dataframe tbody tr th {\n",
              "        vertical-align: top;\n",
              "    }\n",
              "\n",
              "    .dataframe thead th {\n",
              "        text-align: right;\n",
              "    }\n",
              "</style>\n",
              "<table border=\"1\" class=\"dataframe\">\n",
              "  <thead>\n",
              "    <tr style=\"text-align: right;\">\n",
              "      <th></th>\n",
              "      <th>date_week</th>\n",
              "      <th>sku_cde</th>\n",
              "      <th>cost_price</th>\n",
              "      <th>regular_price</th>\n",
              "      <th>regular_volume</th>\n",
              "      <th>promo_price</th>\n",
              "      <th>promo_volume</th>\n",
              "    </tr>\n",
              "  </thead>\n",
              "  <tbody>\n",
              "    <tr>\n",
              "      <th>Null value%</th>\n",
              "      <td>0.0</td>\n",
              "      <td>0.0</td>\n",
              "      <td>0.0</td>\n",
              "      <td>19.506463</td>\n",
              "      <td>0.0</td>\n",
              "      <td>70.975323</td>\n",
              "      <td>0.0</td>\n",
              "    </tr>\n",
              "    <tr>\n",
              "      <th>data</th>\n",
              "      <td>object</td>\n",
              "      <td>int64</td>\n",
              "      <td>float64</td>\n",
              "      <td>float64</td>\n",
              "      <td>float64</td>\n",
              "      <td>float64</td>\n",
              "      <td>float64</td>\n",
              "    </tr>\n",
              "  </tbody>\n",
              "</table>\n",
              "</div>\n",
              "      <button class=\"colab-df-convert\" onclick=\"convertToInteractive('df-573aa682-fc0b-455e-b853-5bab7ffe1cb4')\"\n",
              "              title=\"Convert this dataframe to an interactive table.\"\n",
              "              style=\"display:none;\">\n",
              "        \n",
              "  <svg xmlns=\"http://www.w3.org/2000/svg\" height=\"24px\"viewBox=\"0 0 24 24\"\n",
              "       width=\"24px\">\n",
              "    <path d=\"M0 0h24v24H0V0z\" fill=\"none\"/>\n",
              "    <path d=\"M18.56 5.44l.94 2.06.94-2.06 2.06-.94-2.06-.94-.94-2.06-.94 2.06-2.06.94zm-11 1L8.5 8.5l.94-2.06 2.06-.94-2.06-.94L8.5 2.5l-.94 2.06-2.06.94zm10 10l.94 2.06.94-2.06 2.06-.94-2.06-.94-.94-2.06-.94 2.06-2.06.94z\"/><path d=\"M17.41 7.96l-1.37-1.37c-.4-.4-.92-.59-1.43-.59-.52 0-1.04.2-1.43.59L10.3 9.45l-7.72 7.72c-.78.78-.78 2.05 0 2.83L4 21.41c.39.39.9.59 1.41.59.51 0 1.02-.2 1.41-.59l7.78-7.78 2.81-2.81c.8-.78.8-2.07 0-2.86zM5.41 20L4 18.59l7.72-7.72 1.47 1.35L5.41 20z\"/>\n",
              "  </svg>\n",
              "      </button>\n",
              "      \n",
              "  <style>\n",
              "    .colab-df-container {\n",
              "      display:flex;\n",
              "      flex-wrap:wrap;\n",
              "      gap: 12px;\n",
              "    }\n",
              "\n",
              "    .colab-df-convert {\n",
              "      background-color: #E8F0FE;\n",
              "      border: none;\n",
              "      border-radius: 50%;\n",
              "      cursor: pointer;\n",
              "      display: none;\n",
              "      fill: #1967D2;\n",
              "      height: 32px;\n",
              "      padding: 0 0 0 0;\n",
              "      width: 32px;\n",
              "    }\n",
              "\n",
              "    .colab-df-convert:hover {\n",
              "      background-color: #E2EBFA;\n",
              "      box-shadow: 0px 1px 2px rgba(60, 64, 67, 0.3), 0px 1px 3px 1px rgba(60, 64, 67, 0.15);\n",
              "      fill: #174EA6;\n",
              "    }\n",
              "\n",
              "    [theme=dark] .colab-df-convert {\n",
              "      background-color: #3B4455;\n",
              "      fill: #D2E3FC;\n",
              "    }\n",
              "\n",
              "    [theme=dark] .colab-df-convert:hover {\n",
              "      background-color: #434B5C;\n",
              "      box-shadow: 0px 1px 3px 1px rgba(0, 0, 0, 0.15);\n",
              "      filter: drop-shadow(0px 1px 2px rgba(0, 0, 0, 0.3));\n",
              "      fill: #FFFFFF;\n",
              "    }\n",
              "  </style>\n",
              "\n",
              "      <script>\n",
              "        const buttonEl =\n",
              "          document.querySelector('#df-573aa682-fc0b-455e-b853-5bab7ffe1cb4 button.colab-df-convert');\n",
              "        buttonEl.style.display =\n",
              "          google.colab.kernel.accessAllowed ? 'block' : 'none';\n",
              "\n",
              "        async function convertToInteractive(key) {\n",
              "          const element = document.querySelector('#df-573aa682-fc0b-455e-b853-5bab7ffe1cb4');\n",
              "          const dataTable =\n",
              "            await google.colab.kernel.invokeFunction('convertToInteractive',\n",
              "                                                     [key], {});\n",
              "          if (!dataTable) return;\n",
              "\n",
              "          const docLinkHtml = 'Like what you see? Visit the ' +\n",
              "            '<a target=\"_blank\" href=https://colab.research.google.com/notebooks/data_table.ipynb>data table notebook</a>'\n",
              "            + ' to learn more about interactive tables.';\n",
              "          element.innerHTML = '';\n",
              "          dataTable['output_type'] = 'display_data';\n",
              "          await google.colab.output.renderOutput(dataTable, element);\n",
              "          const docLink = document.createElement('div');\n",
              "          docLink.innerHTML = docLinkHtml;\n",
              "          element.appendChild(docLink);\n",
              "        }\n",
              "      </script>\n",
              "    </div>\n",
              "  </div>\n",
              "  "
            ]
          },
          "metadata": {},
          "execution_count": 31
        }
      ]
    },
    {
      "cell_type": "markdown",
      "source": [
        "**Data Cleaning**"
      ],
      "metadata": {
        "id": "kXqc6dIR5wod"
      }
    },
    {
      "cell_type": "code",
      "source": [
        "df.describe()"
      ],
      "metadata": {
        "colab": {
          "base_uri": "https://localhost:8080/",
          "height": 300
        },
        "id": "JVJs8etY35rA",
        "outputId": "c8d5244e-9c93-4021-faeb-5d4642b67ad8"
      },
      "execution_count": 32,
      "outputs": [
        {
          "output_type": "execute_result",
          "data": {
            "text/plain": [
              "            sku_cde  cost_price  regular_price  regular_volume  promo_price  \\\n",
              "count  8.510000e+02  851.000000     685.000000      851.000000   247.000000   \n",
              "mean   7.545326e+07   94.408931     184.426277      109.388954   152.039271   \n",
              "std    4.223877e+07   42.363465      71.458772      111.862743    58.689836   \n",
              "min    1.199078e+07   14.000000      50.000000        0.000000    36.950000   \n",
              "25%    6.287583e+07   74.000000     140.000000       15.000000   125.000000   \n",
              "50%    8.463031e+07   92.000000     190.000000       80.000000   149.950000   \n",
              "75%    1.117081e+08   99.000000     205.000000      170.000000   169.960000   \n",
              "max    1.373537e+08  210.000000     330.000000      620.000000   299.950000   \n",
              "\n",
              "       promo_volume  \n",
              "count    851.000000  \n",
              "mean      91.363102  \n",
              "std      222.298207  \n",
              "min        0.000000  \n",
              "25%        0.000000  \n",
              "50%        0.000000  \n",
              "75%       60.000000  \n",
              "max     2610.000000  "
            ],
            "text/html": [
              "\n",
              "  <div id=\"df-648d4bf1-0011-474e-91ba-7477c86ce484\">\n",
              "    <div class=\"colab-df-container\">\n",
              "      <div>\n",
              "<style scoped>\n",
              "    .dataframe tbody tr th:only-of-type {\n",
              "        vertical-align: middle;\n",
              "    }\n",
              "\n",
              "    .dataframe tbody tr th {\n",
              "        vertical-align: top;\n",
              "    }\n",
              "\n",
              "    .dataframe thead th {\n",
              "        text-align: right;\n",
              "    }\n",
              "</style>\n",
              "<table border=\"1\" class=\"dataframe\">\n",
              "  <thead>\n",
              "    <tr style=\"text-align: right;\">\n",
              "      <th></th>\n",
              "      <th>sku_cde</th>\n",
              "      <th>cost_price</th>\n",
              "      <th>regular_price</th>\n",
              "      <th>regular_volume</th>\n",
              "      <th>promo_price</th>\n",
              "      <th>promo_volume</th>\n",
              "    </tr>\n",
              "  </thead>\n",
              "  <tbody>\n",
              "    <tr>\n",
              "      <th>count</th>\n",
              "      <td>8.510000e+02</td>\n",
              "      <td>851.000000</td>\n",
              "      <td>685.000000</td>\n",
              "      <td>851.000000</td>\n",
              "      <td>247.000000</td>\n",
              "      <td>851.000000</td>\n",
              "    </tr>\n",
              "    <tr>\n",
              "      <th>mean</th>\n",
              "      <td>7.545326e+07</td>\n",
              "      <td>94.408931</td>\n",
              "      <td>184.426277</td>\n",
              "      <td>109.388954</td>\n",
              "      <td>152.039271</td>\n",
              "      <td>91.363102</td>\n",
              "    </tr>\n",
              "    <tr>\n",
              "      <th>std</th>\n",
              "      <td>4.223877e+07</td>\n",
              "      <td>42.363465</td>\n",
              "      <td>71.458772</td>\n",
              "      <td>111.862743</td>\n",
              "      <td>58.689836</td>\n",
              "      <td>222.298207</td>\n",
              "    </tr>\n",
              "    <tr>\n",
              "      <th>min</th>\n",
              "      <td>1.199078e+07</td>\n",
              "      <td>14.000000</td>\n",
              "      <td>50.000000</td>\n",
              "      <td>0.000000</td>\n",
              "      <td>36.950000</td>\n",
              "      <td>0.000000</td>\n",
              "    </tr>\n",
              "    <tr>\n",
              "      <th>25%</th>\n",
              "      <td>6.287583e+07</td>\n",
              "      <td>74.000000</td>\n",
              "      <td>140.000000</td>\n",
              "      <td>15.000000</td>\n",
              "      <td>125.000000</td>\n",
              "      <td>0.000000</td>\n",
              "    </tr>\n",
              "    <tr>\n",
              "      <th>50%</th>\n",
              "      <td>8.463031e+07</td>\n",
              "      <td>92.000000</td>\n",
              "      <td>190.000000</td>\n",
              "      <td>80.000000</td>\n",
              "      <td>149.950000</td>\n",
              "      <td>0.000000</td>\n",
              "    </tr>\n",
              "    <tr>\n",
              "      <th>75%</th>\n",
              "      <td>1.117081e+08</td>\n",
              "      <td>99.000000</td>\n",
              "      <td>205.000000</td>\n",
              "      <td>170.000000</td>\n",
              "      <td>169.960000</td>\n",
              "      <td>60.000000</td>\n",
              "    </tr>\n",
              "    <tr>\n",
              "      <th>max</th>\n",
              "      <td>1.373537e+08</td>\n",
              "      <td>210.000000</td>\n",
              "      <td>330.000000</td>\n",
              "      <td>620.000000</td>\n",
              "      <td>299.950000</td>\n",
              "      <td>2610.000000</td>\n",
              "    </tr>\n",
              "  </tbody>\n",
              "</table>\n",
              "</div>\n",
              "      <button class=\"colab-df-convert\" onclick=\"convertToInteractive('df-648d4bf1-0011-474e-91ba-7477c86ce484')\"\n",
              "              title=\"Convert this dataframe to an interactive table.\"\n",
              "              style=\"display:none;\">\n",
              "        \n",
              "  <svg xmlns=\"http://www.w3.org/2000/svg\" height=\"24px\"viewBox=\"0 0 24 24\"\n",
              "       width=\"24px\">\n",
              "    <path d=\"M0 0h24v24H0V0z\" fill=\"none\"/>\n",
              "    <path d=\"M18.56 5.44l.94 2.06.94-2.06 2.06-.94-2.06-.94-.94-2.06-.94 2.06-2.06.94zm-11 1L8.5 8.5l.94-2.06 2.06-.94-2.06-.94L8.5 2.5l-.94 2.06-2.06.94zm10 10l.94 2.06.94-2.06 2.06-.94-2.06-.94-.94-2.06-.94 2.06-2.06.94z\"/><path d=\"M17.41 7.96l-1.37-1.37c-.4-.4-.92-.59-1.43-.59-.52 0-1.04.2-1.43.59L10.3 9.45l-7.72 7.72c-.78.78-.78 2.05 0 2.83L4 21.41c.39.39.9.59 1.41.59.51 0 1.02-.2 1.41-.59l7.78-7.78 2.81-2.81c.8-.78.8-2.07 0-2.86zM5.41 20L4 18.59l7.72-7.72 1.47 1.35L5.41 20z\"/>\n",
              "  </svg>\n",
              "      </button>\n",
              "      \n",
              "  <style>\n",
              "    .colab-df-container {\n",
              "      display:flex;\n",
              "      flex-wrap:wrap;\n",
              "      gap: 12px;\n",
              "    }\n",
              "\n",
              "    .colab-df-convert {\n",
              "      background-color: #E8F0FE;\n",
              "      border: none;\n",
              "      border-radius: 50%;\n",
              "      cursor: pointer;\n",
              "      display: none;\n",
              "      fill: #1967D2;\n",
              "      height: 32px;\n",
              "      padding: 0 0 0 0;\n",
              "      width: 32px;\n",
              "    }\n",
              "\n",
              "    .colab-df-convert:hover {\n",
              "      background-color: #E2EBFA;\n",
              "      box-shadow: 0px 1px 2px rgba(60, 64, 67, 0.3), 0px 1px 3px 1px rgba(60, 64, 67, 0.15);\n",
              "      fill: #174EA6;\n",
              "    }\n",
              "\n",
              "    [theme=dark] .colab-df-convert {\n",
              "      background-color: #3B4455;\n",
              "      fill: #D2E3FC;\n",
              "    }\n",
              "\n",
              "    [theme=dark] .colab-df-convert:hover {\n",
              "      background-color: #434B5C;\n",
              "      box-shadow: 0px 1px 3px 1px rgba(0, 0, 0, 0.15);\n",
              "      filter: drop-shadow(0px 1px 2px rgba(0, 0, 0, 0.3));\n",
              "      fill: #FFFFFF;\n",
              "    }\n",
              "  </style>\n",
              "\n",
              "      <script>\n",
              "        const buttonEl =\n",
              "          document.querySelector('#df-648d4bf1-0011-474e-91ba-7477c86ce484 button.colab-df-convert');\n",
              "        buttonEl.style.display =\n",
              "          google.colab.kernel.accessAllowed ? 'block' : 'none';\n",
              "\n",
              "        async function convertToInteractive(key) {\n",
              "          const element = document.querySelector('#df-648d4bf1-0011-474e-91ba-7477c86ce484');\n",
              "          const dataTable =\n",
              "            await google.colab.kernel.invokeFunction('convertToInteractive',\n",
              "                                                     [key], {});\n",
              "          if (!dataTable) return;\n",
              "\n",
              "          const docLinkHtml = 'Like what you see? Visit the ' +\n",
              "            '<a target=\"_blank\" href=https://colab.research.google.com/notebooks/data_table.ipynb>data table notebook</a>'\n",
              "            + ' to learn more about interactive tables.';\n",
              "          element.innerHTML = '';\n",
              "          dataTable['output_type'] = 'display_data';\n",
              "          await google.colab.output.renderOutput(dataTable, element);\n",
              "          const docLink = document.createElement('div');\n",
              "          docLink.innerHTML = docLinkHtml;\n",
              "          element.appendChild(docLink);\n",
              "        }\n",
              "      </script>\n",
              "    </div>\n",
              "  </div>\n",
              "  "
            ]
          },
          "metadata": {},
          "execution_count": 32
        }
      ]
    },
    {
      "cell_type": "code",
      "source": [
        "df.isna().sum"
      ],
      "metadata": {
        "colab": {
          "base_uri": "https://localhost:8080/"
        },
        "id": "lQRzLKkI6L9o",
        "outputId": "7a05d630-3aa3-40ac-ad88-69a6467b451f"
      },
      "execution_count": 33,
      "outputs": [
        {
          "output_type": "execute_result",
          "data": {
            "text/plain": [
              "<bound method NDFrame._add_numeric_operations.<locals>.sum of      date_week  sku_cde  cost_price  regular_price  regular_volume  \\\n",
              "0        False    False       False          False           False   \n",
              "1        False    False       False          False           False   \n",
              "2        False    False       False          False           False   \n",
              "3        False    False       False           True           False   \n",
              "4        False    False       False          False           False   \n",
              "..         ...      ...         ...            ...             ...   \n",
              "846      False    False       False          False           False   \n",
              "847      False    False       False          False           False   \n",
              "848      False    False       False          False           False   \n",
              "849      False    False       False          False           False   \n",
              "850      False    False       False          False           False   \n",
              "\n",
              "     promo_price  promo_volume  \n",
              "0           True         False  \n",
              "1           True         False  \n",
              "2           True         False  \n",
              "3          False         False  \n",
              "4           True         False  \n",
              "..           ...           ...  \n",
              "846         True         False  \n",
              "847         True         False  \n",
              "848         True         False  \n",
              "849         True         False  \n",
              "850         True         False  \n",
              "\n",
              "[851 rows x 7 columns]>"
            ]
          },
          "metadata": {},
          "execution_count": 33
        }
      ]
    },
    {
      "cell_type": "code",
      "source": [
        "df.fillna(method='ffill', inplace=True)"
      ],
      "metadata": {
        "id": "jQSbUjJI6TBi"
      },
      "execution_count": 34,
      "outputs": []
    },
    {
      "cell_type": "code",
      "source": [
        "data[\"promo_price\"].fillna(\"0\", inplace = True) "
      ],
      "metadata": {
        "id": "hBF98ptS6aWF"
      },
      "execution_count": 35,
      "outputs": []
    },
    {
      "cell_type": "code",
      "source": [
        "df.isnull().sum()"
      ],
      "metadata": {
        "colab": {
          "base_uri": "https://localhost:8080/"
        },
        "id": "5InsMJ_06VZc",
        "outputId": "b2dae26e-b191-4fe5-ea64-dfde05c5eb40"
      },
      "execution_count": 36,
      "outputs": [
        {
          "output_type": "execute_result",
          "data": {
            "text/plain": [
              "date_week         0\n",
              "sku_cde           0\n",
              "cost_price        0\n",
              "regular_price     0\n",
              "regular_volume    0\n",
              "promo_price       0\n",
              "promo_volume      0\n",
              "dtype: int64"
            ]
          },
          "metadata": {},
          "execution_count": 36
        }
      ]
    },
    {
      "cell_type": "code",
      "source": [
        "df"
      ],
      "metadata": {
        "colab": {
          "base_uri": "https://localhost:8080/",
          "height": 424
        },
        "id": "apMJHkbj6oDs",
        "outputId": "9937ea1a-06f6-4fed-c78d-63d17215803d"
      },
      "execution_count": 37,
      "outputs": [
        {
          "output_type": "execute_result",
          "data": {
            "text/plain": [
              "      date_week    sku_cde  cost_price  regular_price  regular_volume  \\\n",
              "0    2020-02-09   62875832        68.0          140.0            10.0   \n",
              "1    2020-02-09   84630314       180.0          300.0            10.0   \n",
              "2    2020-02-09   95208654        26.0           56.0            40.0   \n",
              "3    2020-02-09  111708109        80.0           56.0             0.0   \n",
              "4    2020-02-16   73267284        94.0          205.0            20.0   \n",
              "..          ...        ...         ...            ...             ...   \n",
              "846  2022-02-13   73267284        95.0          216.0            40.0   \n",
              "847  2022-02-13   84630314       199.0          330.0            70.0   \n",
              "848  2022-02-13   95208654        42.0           60.0            20.0   \n",
              "849  2022-02-13  111708109        98.0          185.0            10.0   \n",
              "850  2022-02-13   62875832        78.0          140.0            90.0   \n",
              "\n",
              "    promo_price  promo_volume  \n",
              "0             0           0.0  \n",
              "1             0           0.0  \n",
              "2             0           0.0  \n",
              "3        109.95          10.0  \n",
              "4        109.95           0.0  \n",
              "..          ...           ...  \n",
              "846      169.95           0.0  \n",
              "847      169.95           0.0  \n",
              "848      169.95           0.0  \n",
              "849      169.95           0.0  \n",
              "850      169.95           0.0  \n",
              "\n",
              "[851 rows x 7 columns]"
            ],
            "text/html": [
              "\n",
              "  <div id=\"df-3f962f0c-ca95-4731-8691-f8f646dfe774\">\n",
              "    <div class=\"colab-df-container\">\n",
              "      <div>\n",
              "<style scoped>\n",
              "    .dataframe tbody tr th:only-of-type {\n",
              "        vertical-align: middle;\n",
              "    }\n",
              "\n",
              "    .dataframe tbody tr th {\n",
              "        vertical-align: top;\n",
              "    }\n",
              "\n",
              "    .dataframe thead th {\n",
              "        text-align: right;\n",
              "    }\n",
              "</style>\n",
              "<table border=\"1\" class=\"dataframe\">\n",
              "  <thead>\n",
              "    <tr style=\"text-align: right;\">\n",
              "      <th></th>\n",
              "      <th>date_week</th>\n",
              "      <th>sku_cde</th>\n",
              "      <th>cost_price</th>\n",
              "      <th>regular_price</th>\n",
              "      <th>regular_volume</th>\n",
              "      <th>promo_price</th>\n",
              "      <th>promo_volume</th>\n",
              "    </tr>\n",
              "  </thead>\n",
              "  <tbody>\n",
              "    <tr>\n",
              "      <th>0</th>\n",
              "      <td>2020-02-09</td>\n",
              "      <td>62875832</td>\n",
              "      <td>68.0</td>\n",
              "      <td>140.0</td>\n",
              "      <td>10.0</td>\n",
              "      <td>0</td>\n",
              "      <td>0.0</td>\n",
              "    </tr>\n",
              "    <tr>\n",
              "      <th>1</th>\n",
              "      <td>2020-02-09</td>\n",
              "      <td>84630314</td>\n",
              "      <td>180.0</td>\n",
              "      <td>300.0</td>\n",
              "      <td>10.0</td>\n",
              "      <td>0</td>\n",
              "      <td>0.0</td>\n",
              "    </tr>\n",
              "    <tr>\n",
              "      <th>2</th>\n",
              "      <td>2020-02-09</td>\n",
              "      <td>95208654</td>\n",
              "      <td>26.0</td>\n",
              "      <td>56.0</td>\n",
              "      <td>40.0</td>\n",
              "      <td>0</td>\n",
              "      <td>0.0</td>\n",
              "    </tr>\n",
              "    <tr>\n",
              "      <th>3</th>\n",
              "      <td>2020-02-09</td>\n",
              "      <td>111708109</td>\n",
              "      <td>80.0</td>\n",
              "      <td>56.0</td>\n",
              "      <td>0.0</td>\n",
              "      <td>109.95</td>\n",
              "      <td>10.0</td>\n",
              "    </tr>\n",
              "    <tr>\n",
              "      <th>4</th>\n",
              "      <td>2020-02-16</td>\n",
              "      <td>73267284</td>\n",
              "      <td>94.0</td>\n",
              "      <td>205.0</td>\n",
              "      <td>20.0</td>\n",
              "      <td>109.95</td>\n",
              "      <td>0.0</td>\n",
              "    </tr>\n",
              "    <tr>\n",
              "      <th>...</th>\n",
              "      <td>...</td>\n",
              "      <td>...</td>\n",
              "      <td>...</td>\n",
              "      <td>...</td>\n",
              "      <td>...</td>\n",
              "      <td>...</td>\n",
              "      <td>...</td>\n",
              "    </tr>\n",
              "    <tr>\n",
              "      <th>846</th>\n",
              "      <td>2022-02-13</td>\n",
              "      <td>73267284</td>\n",
              "      <td>95.0</td>\n",
              "      <td>216.0</td>\n",
              "      <td>40.0</td>\n",
              "      <td>169.95</td>\n",
              "      <td>0.0</td>\n",
              "    </tr>\n",
              "    <tr>\n",
              "      <th>847</th>\n",
              "      <td>2022-02-13</td>\n",
              "      <td>84630314</td>\n",
              "      <td>199.0</td>\n",
              "      <td>330.0</td>\n",
              "      <td>70.0</td>\n",
              "      <td>169.95</td>\n",
              "      <td>0.0</td>\n",
              "    </tr>\n",
              "    <tr>\n",
              "      <th>848</th>\n",
              "      <td>2022-02-13</td>\n",
              "      <td>95208654</td>\n",
              "      <td>42.0</td>\n",
              "      <td>60.0</td>\n",
              "      <td>20.0</td>\n",
              "      <td>169.95</td>\n",
              "      <td>0.0</td>\n",
              "    </tr>\n",
              "    <tr>\n",
              "      <th>849</th>\n",
              "      <td>2022-02-13</td>\n",
              "      <td>111708109</td>\n",
              "      <td>98.0</td>\n",
              "      <td>185.0</td>\n",
              "      <td>10.0</td>\n",
              "      <td>169.95</td>\n",
              "      <td>0.0</td>\n",
              "    </tr>\n",
              "    <tr>\n",
              "      <th>850</th>\n",
              "      <td>2022-02-13</td>\n",
              "      <td>62875832</td>\n",
              "      <td>78.0</td>\n",
              "      <td>140.0</td>\n",
              "      <td>90.0</td>\n",
              "      <td>169.95</td>\n",
              "      <td>0.0</td>\n",
              "    </tr>\n",
              "  </tbody>\n",
              "</table>\n",
              "<p>851 rows × 7 columns</p>\n",
              "</div>\n",
              "      <button class=\"colab-df-convert\" onclick=\"convertToInteractive('df-3f962f0c-ca95-4731-8691-f8f646dfe774')\"\n",
              "              title=\"Convert this dataframe to an interactive table.\"\n",
              "              style=\"display:none;\">\n",
              "        \n",
              "  <svg xmlns=\"http://www.w3.org/2000/svg\" height=\"24px\"viewBox=\"0 0 24 24\"\n",
              "       width=\"24px\">\n",
              "    <path d=\"M0 0h24v24H0V0z\" fill=\"none\"/>\n",
              "    <path d=\"M18.56 5.44l.94 2.06.94-2.06 2.06-.94-2.06-.94-.94-2.06-.94 2.06-2.06.94zm-11 1L8.5 8.5l.94-2.06 2.06-.94-2.06-.94L8.5 2.5l-.94 2.06-2.06.94zm10 10l.94 2.06.94-2.06 2.06-.94-2.06-.94-.94-2.06-.94 2.06-2.06.94z\"/><path d=\"M17.41 7.96l-1.37-1.37c-.4-.4-.92-.59-1.43-.59-.52 0-1.04.2-1.43.59L10.3 9.45l-7.72 7.72c-.78.78-.78 2.05 0 2.83L4 21.41c.39.39.9.59 1.41.59.51 0 1.02-.2 1.41-.59l7.78-7.78 2.81-2.81c.8-.78.8-2.07 0-2.86zM5.41 20L4 18.59l7.72-7.72 1.47 1.35L5.41 20z\"/>\n",
              "  </svg>\n",
              "      </button>\n",
              "      \n",
              "  <style>\n",
              "    .colab-df-container {\n",
              "      display:flex;\n",
              "      flex-wrap:wrap;\n",
              "      gap: 12px;\n",
              "    }\n",
              "\n",
              "    .colab-df-convert {\n",
              "      background-color: #E8F0FE;\n",
              "      border: none;\n",
              "      border-radius: 50%;\n",
              "      cursor: pointer;\n",
              "      display: none;\n",
              "      fill: #1967D2;\n",
              "      height: 32px;\n",
              "      padding: 0 0 0 0;\n",
              "      width: 32px;\n",
              "    }\n",
              "\n",
              "    .colab-df-convert:hover {\n",
              "      background-color: #E2EBFA;\n",
              "      box-shadow: 0px 1px 2px rgba(60, 64, 67, 0.3), 0px 1px 3px 1px rgba(60, 64, 67, 0.15);\n",
              "      fill: #174EA6;\n",
              "    }\n",
              "\n",
              "    [theme=dark] .colab-df-convert {\n",
              "      background-color: #3B4455;\n",
              "      fill: #D2E3FC;\n",
              "    }\n",
              "\n",
              "    [theme=dark] .colab-df-convert:hover {\n",
              "      background-color: #434B5C;\n",
              "      box-shadow: 0px 1px 3px 1px rgba(0, 0, 0, 0.15);\n",
              "      filter: drop-shadow(0px 1px 2px rgba(0, 0, 0, 0.3));\n",
              "      fill: #FFFFFF;\n",
              "    }\n",
              "  </style>\n",
              "\n",
              "      <script>\n",
              "        const buttonEl =\n",
              "          document.querySelector('#df-3f962f0c-ca95-4731-8691-f8f646dfe774 button.colab-df-convert');\n",
              "        buttonEl.style.display =\n",
              "          google.colab.kernel.accessAllowed ? 'block' : 'none';\n",
              "\n",
              "        async function convertToInteractive(key) {\n",
              "          const element = document.querySelector('#df-3f962f0c-ca95-4731-8691-f8f646dfe774');\n",
              "          const dataTable =\n",
              "            await google.colab.kernel.invokeFunction('convertToInteractive',\n",
              "                                                     [key], {});\n",
              "          if (!dataTable) return;\n",
              "\n",
              "          const docLinkHtml = 'Like what you see? Visit the ' +\n",
              "            '<a target=\"_blank\" href=https://colab.research.google.com/notebooks/data_table.ipynb>data table notebook</a>'\n",
              "            + ' to learn more about interactive tables.';\n",
              "          element.innerHTML = '';\n",
              "          dataTable['output_type'] = 'display_data';\n",
              "          await google.colab.output.renderOutput(dataTable, element);\n",
              "          const docLink = document.createElement('div');\n",
              "          docLink.innerHTML = docLinkHtml;\n",
              "          element.appendChild(docLink);\n",
              "        }\n",
              "      </script>\n",
              "    </div>\n",
              "  </div>\n",
              "  "
            ]
          },
          "metadata": {},
          "execution_count": 37
        }
      ]
    },
    {
      "cell_type": "code",
      "source": [
        "pip install linearmodels"
      ],
      "metadata": {
        "id": "ufieNLNF-XQG",
        "outputId": "4e78782a-b981-4863-f0e8-d7c639bae744",
        "colab": {
          "base_uri": "https://localhost:8080/"
        }
      },
      "execution_count": 38,
      "outputs": [
        {
          "output_type": "stream",
          "name": "stdout",
          "text": [
            "Looking in indexes: https://pypi.org/simple, https://us-python.pkg.dev/colab-wheels/public/simple/\n",
            "Requirement already satisfied: linearmodels in /usr/local/lib/python3.7/dist-packages (4.25)\n",
            "Requirement already satisfied: pyhdfe>=0.1 in /usr/local/lib/python3.7/dist-packages (from linearmodels) (0.1.0)\n",
            "Requirement already satisfied: property-cached>=1.6.3 in /usr/local/lib/python3.7/dist-packages (from linearmodels) (1.6.4)\n",
            "Requirement already satisfied: statsmodels>=0.11 in /usr/local/lib/python3.7/dist-packages (from linearmodels) (0.13.2)\n",
            "Requirement already satisfied: pandas>=0.24 in /usr/local/lib/python3.7/dist-packages (from linearmodels) (1.3.5)\n",
            "Requirement already satisfied: Cython>=0.29.21 in /usr/local/lib/python3.7/dist-packages (from linearmodels) (0.29.30)\n",
            "Requirement already satisfied: numpy>=1.16 in /usr/local/lib/python3.7/dist-packages (from linearmodels) (1.21.6)\n",
            "Requirement already satisfied: formulaic in /usr/local/lib/python3.7/dist-packages (from linearmodels) (0.3.4)\n",
            "Requirement already satisfied: mypy-extensions>=0.4 in /usr/local/lib/python3.7/dist-packages (from linearmodels) (0.4.3)\n",
            "Requirement already satisfied: scipy>=1.2 in /usr/local/lib/python3.7/dist-packages (from linearmodels) (1.7.3)\n",
            "Requirement already satisfied: patsy in /usr/local/lib/python3.7/dist-packages (from linearmodels) (0.5.2)\n",
            "Requirement already satisfied: python-dateutil>=2.7.3 in /usr/local/lib/python3.7/dist-packages (from pandas>=0.24->linearmodels) (2.8.2)\n",
            "Requirement already satisfied: pytz>=2017.3 in /usr/local/lib/python3.7/dist-packages (from pandas>=0.24->linearmodels) (2022.1)\n",
            "Requirement already satisfied: six>=1.5 in /usr/local/lib/python3.7/dist-packages (from python-dateutil>=2.7.3->pandas>=0.24->linearmodels) (1.15.0)\n",
            "Requirement already satisfied: packaging>=21.3 in /usr/local/lib/python3.7/dist-packages (from statsmodels>=0.11->linearmodels) (21.3)\n",
            "Requirement already satisfied: pyparsing!=3.0.5,>=2.0.2 in /usr/local/lib/python3.7/dist-packages (from packaging>=21.3->statsmodels>=0.11->linearmodels) (3.0.9)\n",
            "Requirement already satisfied: interface-meta<2.0.0,>=1.2.0 in /usr/local/lib/python3.7/dist-packages (from formulaic->linearmodels) (1.3.0)\n",
            "Requirement already satisfied: astor>=0.8 in /usr/local/lib/python3.7/dist-packages (from formulaic->linearmodels) (0.8.1)\n",
            "Requirement already satisfied: wrapt>=1.0 in /usr/local/lib/python3.7/dist-packages (from formulaic->linearmodels) (1.14.1)\n"
          ]
        }
      ]
    },
    {
      "cell_type": "code",
      "source": [
        "# elt\n",
        "import pandas as pd\n",
        "import numpy as np\n",
        "\n",
        "# ols and iv models\n",
        "import statsmodels.api as sm\n",
        "\n",
        "#visualization and animation\n",
        "import seaborn as sns\n",
        "import matplotlib.pyplot as plt\n",
        "from matplotlib.animation import FuncAnimation\n",
        "from IPython import display"
      ],
      "metadata": {
        "id": "me9Kz1uZ93XJ"
      },
      "execution_count": 39,
      "outputs": []
    },
    {
      "cell_type": "code",
      "source": [
        "sns.set()\n",
        "fig_static = plt.figure(figsize = (8,8))\n",
        "plt.scatter(data['regular_volume'],data['regular_price'], s = 10, c = 'gray')\n",
        "plt.ylabel('Log of regular_price', fontsize = 15)\n",
        "plt.xlabel('Log of regular_volume', fontsize = 15)\n",
        "plt.title('Regular Price and volume Observations', fontsize = 20)\n",
        "plt.show()"
      ],
      "metadata": {
        "id": "-6GhG-6D-jZ8",
        "outputId": "865931c5-5e37-4446-89e7-e46b7dffc94a",
        "colab": {
          "base_uri": "https://localhost:8080/",
          "height": 526
        }
      },
      "execution_count": 40,
      "outputs": [
        {
          "output_type": "display_data",
          "data": {
            "text/plain": [
              "<Figure size 576x576 with 1 Axes>"
            ],
            "image/png": "[encoded data removed]"
          },
          "metadata": {}
        }
      ]
    },
    {
      "cell_type": "code",
      "source": [
        "df['Profit']=df['regular_price']-df['cost_price']"
      ],
      "metadata": {
        "id": "zqn7yiuNUvmY"
      },
      "execution_count": 52,
      "outputs": []
    },
    {
      "cell_type": "code",
      "source": [
        "df['loss']=df['cost_price']-df['regular_price']"
      ],
      "metadata": {
        "id": "C3w46V7zYrep"
      },
      "execution_count": 51,
      "outputs": []
    },
    {
      "cell_type": "code",
      "source": [
        "df['Profit']"
      ],
      "metadata": {
        "id": "QPmUeR4kXyo6",
        "outputId": "c07f03ac-3b55-4c7b-a437-0a7120335660",
        "colab": {
          "base_uri": "https://localhost:8080/"
        }
      },
      "execution_count": 48,
      "outputs": [
        {
          "output_type": "execute_result",
          "data": {
            "text/plain": [
              "0       72.0\n",
              "1      120.0\n",
              "2       30.0\n",
              "3      -24.0\n",
              "4      111.0\n",
              "       ...  \n",
              "846    121.0\n",
              "847    131.0\n",
              "848     18.0\n",
              "849     87.0\n",
              "850     62.0\n",
              "Name: Profit, Length: 851, dtype: float64"
            ]
          },
          "metadata": {},
          "execution_count": 48
        }
      ]
    },
    {
      "cell_type": "code",
      "source": [
        "df['loss']"
      ],
      "metadata": {
        "id": "T2CSJHCWY4Yw",
        "outputId": "affcea59-40bb-43d3-801f-94ad88f0feda",
        "colab": {
          "base_uri": "https://localhost:8080/"
        }
      },
      "execution_count": 53,
      "outputs": [
        {
          "output_type": "execute_result",
          "data": {
            "text/plain": [
              "0      -72.0\n",
              "1     -120.0\n",
              "2      -30.0\n",
              "3       24.0\n",
              "4     -111.0\n",
              "       ...  \n",
              "846   -121.0\n",
              "847   -131.0\n",
              "848    -18.0\n",
              "849    -87.0\n",
              "850    -62.0\n",
              "Name: loss, Length: 851, dtype: float64"
            ]
          },
          "metadata": {},
          "execution_count": 53
        }
      ]
    },
    {
      "cell_type": "code",
      "source": [
        "df"
      ],
      "metadata": {
        "id": "ALKHeyXqX5sU",
        "outputId": "be9604fd-11ab-41cc-bf0e-fed687b1e958",
        "colab": {
          "base_uri": "https://localhost:8080/",
          "height": 424
        }
      },
      "execution_count": 54,
      "outputs": [
        {
          "output_type": "execute_result",
          "data": {
            "text/plain": [
              "      date_week    sku_cde  cost_price  regular_price  regular_volume  \\\n",
              "0    2020-02-09   62875832        68.0          140.0            10.0   \n",
              "1    2020-02-09   84630314       180.0          300.0            10.0   \n",
              "2    2020-02-09   95208654        26.0           56.0            40.0   \n",
              "3    2020-02-09  111708109        80.0           56.0             0.0   \n",
              "4    2020-02-16   73267284        94.0          205.0            20.0   \n",
              "..          ...        ...         ...            ...             ...   \n",
              "846  2022-02-13   73267284        95.0          216.0            40.0   \n",
              "847  2022-02-13   84630314       199.0          330.0            70.0   \n",
              "848  2022-02-13   95208654        42.0           60.0            20.0   \n",
              "849  2022-02-13  111708109        98.0          185.0            10.0   \n",
              "850  2022-02-13   62875832        78.0          140.0            90.0   \n",
              "\n",
              "    promo_price  promo_volume  Profit   loss  \n",
              "0             0           0.0    72.0  -72.0  \n",
              "1             0           0.0   120.0 -120.0  \n",
              "2             0           0.0    30.0  -30.0  \n",
              "3        109.95          10.0   -24.0   24.0  \n",
              "4        109.95           0.0   111.0 -111.0  \n",
              "..          ...           ...     ...    ...  \n",
              "846      169.95           0.0   121.0 -121.0  \n",
              "847      169.95           0.0   131.0 -131.0  \n",
              "848      169.95           0.0    18.0  -18.0  \n",
              "849      169.95           0.0    87.0  -87.0  \n",
              "850      169.95           0.0    62.0  -62.0  \n",
              "\n",
              "[851 rows x 9 columns]"
            ],
            "text/html": [
              "\n",
              "  <div id=\"df-229e3b99-201d-493a-a226-19f4655ff627\">\n",
              "    <div class=\"colab-df-container\">\n",
              "      <div>\n",
              "<style scoped>\n",
              "    .dataframe tbody tr th:only-of-type {\n",
              "        vertical-align: middle;\n",
              "    }\n",
              "\n",
              "    .dataframe tbody tr th {\n",
              "        vertical-align: top;\n",
              "    }\n",
              "\n",
              "    .dataframe thead th {\n",
              "        text-align: right;\n",
              "    }\n",
              "</style>\n",
              "<table border=\"1\" class=\"dataframe\">\n",
              "  <thead>\n",
              "    <tr style=\"text-align: right;\">\n",
              "      <th></th>\n",
              "      <th>date_week</th>\n",
              "      <th>sku_cde</th>\n",
              "      <th>cost_price</th>\n",
              "      <th>regular_price</th>\n",
              "      <th>regular_volume</th>\n",
              "      <th>promo_price</th>\n",
              "      <th>promo_volume</th>\n",
              "      <th>Profit</th>\n",
              "      <th>loss</th>\n",
              "    </tr>\n",
              "  </thead>\n",
              "  <tbody>\n",
              "    <tr>\n",
              "      <th>0</th>\n",
              "      <td>2020-02-09</td>\n",
              "      <td>62875832</td>\n",
              "      <td>68.0</td>\n",
              "      <td>140.0</td>\n",
              "      <td>10.0</td>\n",
              "      <td>0</td>\n",
              "      <td>0.0</td>\n",
              "      <td>72.0</td>\n",
              "      <td>-72.0</td>\n",
              "    </tr>\n",
              "    <tr>\n",
              "      <th>1</th>\n",
              "      <td>2020-02-09</td>\n",
              "      <td>84630314</td>\n",
              "      <td>180.0</td>\n",
              "      <td>300.0</td>\n",
              "      <td>10.0</td>\n",
              "      <td>0</td>\n",
              "      <td>0.0</td>\n",
              "      <td>120.0</td>\n",
              "      <td>-120.0</td>\n",
              "    </tr>\n",
              "    <tr>\n",
              "      <th>2</th>\n",
              "      <td>2020-02-09</td>\n",
              "      <td>95208654</td>\n",
              "      <td>26.0</td>\n",
              "      <td>56.0</td>\n",
              "      <td>40.0</td>\n",
              "      <td>0</td>\n",
              "      <td>0.0</td>\n",
              "      <td>30.0</td>\n",
              "      <td>-30.0</td>\n",
              "    </tr>\n",
              "    <tr>\n",
              "      <th>3</th>\n",
              "      <td>2020-02-09</td>\n",
              "      <td>111708109</td>\n",
              "      <td>80.0</td>\n",
              "      <td>56.0</td>\n",
              "      <td>0.0</td>\n",
              "      <td>109.95</td>\n",
              "      <td>10.0</td>\n",
              "      <td>-24.0</td>\n",
              "      <td>24.0</td>\n",
              "    </tr>\n",
              "    <tr>\n",
              "      <th>4</th>\n",
              "      <td>2020-02-16</td>\n",
              "      <td>73267284</td>\n",
              "      <td>94.0</td>\n",
              "      <td>205.0</td>\n",
              "      <td>20.0</td>\n",
              "      <td>109.95</td>\n",
              "      <td>0.0</td>\n",
              "      <td>111.0</td>\n",
              "      <td>-111.0</td>\n",
              "    </tr>\n",
              "    <tr>\n",
              "      <th>...</th>\n",
              "      <td>...</td>\n",
              "      <td>...</td>\n",
              "      <td>...</td>\n",
              "      <td>...</td>\n",
              "      <td>...</td>\n",
              "      <td>...</td>\n",
              "      <td>...</td>\n",
              "      <td>...</td>\n",
              "      <td>...</td>\n",
              "    </tr>\n",
              "    <tr>\n",
              "      <th>846</th>\n",
              "      <td>2022-02-13</td>\n",
              "      <td>73267284</td>\n",
              "      <td>95.0</td>\n",
              "      <td>216.0</td>\n",
              "      <td>40.0</td>\n",
              "      <td>169.95</td>\n",
              "      <td>0.0</td>\n",
              "      <td>121.0</td>\n",
              "      <td>-121.0</td>\n",
              "    </tr>\n",
              "    <tr>\n",
              "      <th>847</th>\n",
              "      <td>2022-02-13</td>\n",
              "      <td>84630314</td>\n",
              "      <td>199.0</td>\n",
              "      <td>330.0</td>\n",
              "      <td>70.0</td>\n",
              "      <td>169.95</td>\n",
              "      <td>0.0</td>\n",
              "      <td>131.0</td>\n",
              "      <td>-131.0</td>\n",
              "    </tr>\n",
              "    <tr>\n",
              "      <th>848</th>\n",
              "      <td>2022-02-13</td>\n",
              "      <td>95208654</td>\n",
              "      <td>42.0</td>\n",
              "      <td>60.0</td>\n",
              "      <td>20.0</td>\n",
              "      <td>169.95</td>\n",
              "      <td>0.0</td>\n",
              "      <td>18.0</td>\n",
              "      <td>-18.0</td>\n",
              "    </tr>\n",
              "    <tr>\n",
              "      <th>849</th>\n",
              "      <td>2022-02-13</td>\n",
              "      <td>111708109</td>\n",
              "      <td>98.0</td>\n",
              "      <td>185.0</td>\n",
              "      <td>10.0</td>\n",
              "      <td>169.95</td>\n",
              "      <td>0.0</td>\n",
              "      <td>87.0</td>\n",
              "      <td>-87.0</td>\n",
              "    </tr>\n",
              "    <tr>\n",
              "      <th>850</th>\n",
              "      <td>2022-02-13</td>\n",
              "      <td>62875832</td>\n",
              "      <td>78.0</td>\n",
              "      <td>140.0</td>\n",
              "      <td>90.0</td>\n",
              "      <td>169.95</td>\n",
              "      <td>0.0</td>\n",
              "      <td>62.0</td>\n",
              "      <td>-62.0</td>\n",
              "    </tr>\n",
              "  </tbody>\n",
              "</table>\n",
              "<p>851 rows × 9 columns</p>\n",
              "</div>\n",
              "      <button class=\"colab-df-convert\" onclick=\"convertToInteractive('df-229e3b99-201d-493a-a226-19f4655ff627')\"\n",
              "              title=\"Convert this dataframe to an interactive table.\"\n",
              "              style=\"display:none;\">\n",
              "        \n",
              "  <svg xmlns=\"http://www.w3.org/2000/svg\" height=\"24px\"viewBox=\"0 0 24 24\"\n",
              "       width=\"24px\">\n",
              "    <path d=\"M0 0h24v24H0V0z\" fill=\"none\"/>\n",
              "    <path d=\"M18.56 5.44l.94 2.06.94-2.06 2.06-.94-2.06-.94-.94-2.06-.94 2.06-2.06.94zm-11 1L8.5 8.5l.94-2.06 2.06-.94-2.06-.94L8.5 2.5l-.94 2.06-2.06.94zm10 10l.94 2.06.94-2.06 2.06-.94-2.06-.94-.94-2.06-.94 2.06-2.06.94z\"/><path d=\"M17.41 7.96l-1.37-1.37c-.4-.4-.92-.59-1.43-.59-.52 0-1.04.2-1.43.59L10.3 9.45l-7.72 7.72c-.78.78-.78 2.05 0 2.83L4 21.41c.39.39.9.59 1.41.59.51 0 1.02-.2 1.41-.59l7.78-7.78 2.81-2.81c.8-.78.8-2.07 0-2.86zM5.41 20L4 18.59l7.72-7.72 1.47 1.35L5.41 20z\"/>\n",
              "  </svg>\n",
              "      </button>\n",
              "      \n",
              "  <style>\n",
              "    .colab-df-container {\n",
              "      display:flex;\n",
              "      flex-wrap:wrap;\n",
              "      gap: 12px;\n",
              "    }\n",
              "\n",
              "    .colab-df-convert {\n",
              "      background-color: #E8F0FE;\n",
              "      border: none;\n",
              "      border-radius: 50%;\n",
              "      cursor: pointer;\n",
              "      display: none;\n",
              "      fill: #1967D2;\n",
              "      height: 32px;\n",
              "      padding: 0 0 0 0;\n",
              "      width: 32px;\n",
              "    }\n",
              "\n",
              "    .colab-df-convert:hover {\n",
              "      background-color: #E2EBFA;\n",
              "      box-shadow: 0px 1px 2px rgba(60, 64, 67, 0.3), 0px 1px 3px 1px rgba(60, 64, 67, 0.15);\n",
              "      fill: #174EA6;\n",
              "    }\n",
              "\n",
              "    [theme=dark] .colab-df-convert {\n",
              "      background-color: #3B4455;\n",
              "      fill: #D2E3FC;\n",
              "    }\n",
              "\n",
              "    [theme=dark] .colab-df-convert:hover {\n",
              "      background-color: #434B5C;\n",
              "      box-shadow: 0px 1px 3px 1px rgba(0, 0, 0, 0.15);\n",
              "      filter: drop-shadow(0px 1px 2px rgba(0, 0, 0, 0.3));\n",
              "      fill: #FFFFFF;\n",
              "    }\n",
              "  </style>\n",
              "\n",
              "      <script>\n",
              "        const buttonEl =\n",
              "          document.querySelector('#df-229e3b99-201d-493a-a226-19f4655ff627 button.colab-df-convert');\n",
              "        buttonEl.style.display =\n",
              "          google.colab.kernel.accessAllowed ? 'block' : 'none';\n",
              "\n",
              "        async function convertToInteractive(key) {\n",
              "          const element = document.querySelector('#df-229e3b99-201d-493a-a226-19f4655ff627');\n",
              "          const dataTable =\n",
              "            await google.colab.kernel.invokeFunction('convertToInteractive',\n",
              "                                                     [key], {});\n",
              "          if (!dataTable) return;\n",
              "\n",
              "          const docLinkHtml = 'Like what you see? Visit the ' +\n",
              "            '<a target=\"_blank\" href=https://colab.research.google.com/notebooks/data_table.ipynb>data table notebook</a>'\n",
              "            + ' to learn more about interactive tables.';\n",
              "          element.innerHTML = '';\n",
              "          dataTable['output_type'] = 'display_data';\n",
              "          await google.colab.output.renderOutput(dataTable, element);\n",
              "          const docLink = document.createElement('div');\n",
              "          docLink.innerHTML = docLinkHtml;\n",
              "          element.appendChild(docLink);\n",
              "        }\n",
              "      </script>\n",
              "    </div>\n",
              "  </div>\n",
              "  "
            ]
          },
          "metadata": {},
          "execution_count": 54
        }
      ]
    },
    {
      "cell_type": "markdown",
      "source": [
        "**Price elasticity of demand measures the relative percentage change in Quantity**\n",
        "\n",
        "*   Price elasticity of demand measures the realtive percentage change in Quantity of a good and services in relative to percentage change in price of the goods and services. \n",
        "*   Price elasticities of demand are always negative since price and quantity\n",
        "demanded always move in opposite directions (on the demand curve). By\n",
        "convention, we always talk about elasticities as positive numbers. Mathematically, we take the absolute value of the result.\n",
        "*   An elastic demand is one in which the change in quantity demanded due to a change in price is large. An inelastic demand is one in which the change in quantity demanded due to a change in price is small\n",
        "\n",
        "\n",
        "\n"
      ],
      "metadata": {
        "id": "82v4-Upm5heh"
      }
    },
    {
      "cell_type": "markdown",
      "source": [
        "**prompt user to give the values for quantity and price and print these values for user to verify**"
      ],
      "metadata": {
        "id": "AE3pC4_H4vno"
      }
    },
    {
      "cell_type": "code",
      "source": [
        "\n",
        "\n",
        "\n",
        "print('ALL INPUTS MUST BE NUMBERS')\n",
        "while True:\n",
        "    try:\n",
        "        Q_initial=float(input('regular_volume and press enter:' ))\n",
        "        Q_final=float(input('promo_volume and press enter:' ))\n",
        "        Q_change=[Q_initial,Q_final]\n",
        "        Q_change=list(map(float,Q_change))\n",
        "\n",
        "        P_initial=float(input('regular_price:' ))\n",
        "        P_final=float(input('promo_price:' ))\n",
        "        P_change=[P_initial,P_final]\n",
        "        P_change=list(map(float,P_change))\n",
        "        \n",
        "    except ValueError:\n",
        "        print(\"Sorry, I didn't understand that.\")\n",
        "        continue\n",
        "    else:\n",
        "        break\n",
        "        \n",
        "print('\\033[1m'+'Quantity sold at regular price and Quantity sold at promo price:{}'.format(Q_change))\n",
        "print('Selling price of the item and DIscount Price of the item:{}'.format(P_change))"
      ],
      "metadata": {
        "id": "HchEIp0rfYuq",
        "outputId": "362867cc-03f4-451e-e0fd-3f4aa9baaf42",
        "colab": {
          "base_uri": "https://localhost:8080/"
        }
      },
      "execution_count": 71,
      "outputs": [
        {
          "output_type": "stream",
          "name": "stdout",
          "text": [
            "ALL INPUTS MUST BE NUMBERS\n",
            "regular_volume and press enter:80\n",
            "promo_volume and press enter:1150\n",
            "regular_price:135\n",
            "promo_price:104\n",
            "\u001b[1mQuantity sold at regular price and Quantity sold at promo price:[80.0, 1150.0]\n",
            "Selling price of the item and DIscount Price of the item:[135.0, 104.0]\n"
          ]
        }
      ]
    },
    {
      "cell_type": "markdown",
      "source": [
        "**Calculating Elasticity of Demand**"
      ],
      "metadata": {
        "id": "3uXWBc-dtzhD"
      }
    },
    {
      "cell_type": "code",
      "source": [
        "# uses the formula for elasticity of demand to calculate value and return it as well as the elasticity type based on\n",
        "#the absolute value of the elasticity \n",
        "\n",
        "Price_Elasticity_demand =((Q_change[1]-Q_change[0])/Q_change[0]*100)/((P_change[1]-P_change[0])/P_change[0]*100)\n",
        "print('value of elasticity:{}'.format(Price_Elasticity_demand ))\n",
        "print('Absolute value:{}'.format(abs(Price_Elasticity_demand)))\n",
        "if abs(Price_Elasticity_demand)< 1:\n",
        "    print('Inelastic demand')\n",
        "elif abs(Price_Elasticity_demand)== 1:\n",
        "    print('Unit elastic demand')\n",
        "else:\n",
        "    print('\\033[1m'+'Elastic demand')"
      ],
      "metadata": {
        "id": "9lEJyESol2U4",
        "outputId": "8346895a-fb1b-46bf-9feb-5b4cc607f5d8",
        "colab": {
          "base_uri": "https://localhost:8080/"
        }
      },
      "execution_count": 72,
      "outputs": [
        {
          "output_type": "stream",
          "name": "stdout",
          "text": [
            "value of elasticity:-58.24596774193549\n",
            "Absolute value:58.24596774193549\n",
            "\u001b[1mElastic demand\n"
          ]
        }
      ]
    }
  ]
}